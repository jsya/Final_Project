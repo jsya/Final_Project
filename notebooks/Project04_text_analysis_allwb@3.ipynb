{
 "cells": [
  {
   "cell_type": "markdown",
   "metadata": {},
   "source": [
    "### Analyzing the World Bank's Twitter Feed, Judy Yang, DAT10 Project\n",
    "### Part 4. Text Analysis\n",
    "\n",
    "1. Tokenization, word counts\n",
    "\n",
    "2. Prediction Linear Regression\n",
    "\n",
    "3. Topic Modelling\n",
    "\n",
    "4. Predict High/Low Popular Tweets\n",
    "\n",
    "5. Term Frequency\n",
    "\n",
    "6. Sentiment Analysis"
   ]
  },
  {
   "cell_type": "code",
   "execution_count": 297,
   "metadata": {
    "collapsed": false
   },
   "outputs": [
    {
     "data": {
      "text/plain": [
       "u'/Users/judyyang/Documents/GA_DS_course/Final_Project/notebooks'"
      ]
     },
     "execution_count": 297,
     "metadata": {},
     "output_type": "execute_result"
    }
   ],
   "source": [
    "pwd"
   ]
  },
  {
   "cell_type": "code",
   "execution_count": 298,
   "metadata": {
    "collapsed": false,
    "scrolled": false
   },
   "outputs": [],
   "source": [
    "from datetime import datetime\n",
    "import time\n",
    "import json\n",
    "import operator \n",
    "import preprocess\n",
    "from collections import Counter\n",
    "#from textblob import TextBlob\n",
    "\n",
    "import pandas as pd\n",
    "from pandas import ExcelWriter\n",
    "import matplotlib.pyplot as plt\n",
    "import seaborn as sns\n",
    "%matplotlib inline\n",
    "#% sign \n",
    "\n",
    "import numpy as np\n",
    "import scipy as sp\n",
    "from sklearn.cross_validation import train_test_split\n",
    "from sklearn.feature_extraction.text import CountVectorizer, TfidfVectorizer\n",
    "from sklearn.naive_bayes import MultinomialNB\n",
    "from sklearn.linear_model import LogisticRegression\n",
    "from gensim import corpora, models, similarities\n",
    "from collections import defaultdict\n",
    "from sklearn import metrics\n",
    "from textblob import TextBlob, Word\n",
    "from nltk.stem.snowball import SnowballStemmer\n",
    "\n",
    "from ttp import ttp\n",
    "\n",
    "pd.options.display.max_columns = 50\n",
    "pd.options.display.max_rows= 50\n",
    "pd.options.display.width= 120"
   ]
  },
  {
   "cell_type": "code",
   "execution_count": 299,
   "metadata": {
    "collapsed": false
   },
   "outputs": [],
   "source": [
    "# Create excel to save outputs from this notebook\n",
    "writer = ExcelWriter('./data/Project04_outputs_allwb_21feb2016.xlsx')"
   ]
  },
  {
   "cell_type": "code",
   "execution_count": 300,
   "metadata": {
    "collapsed": true
   },
   "outputs": [],
   "source": [
    "wb = pd.read_pickle('./data/WorldBank_all_processed_17feb_2016')"
   ]
  },
  {
   "cell_type": "code",
   "execution_count": 301,
   "metadata": {
    "collapsed": false
   },
   "outputs": [
    {
     "data": {
      "text/plain": [
       "(71287, 21)"
      ]
     },
     "execution_count": 301,
     "metadata": {},
     "output_type": "execute_result"
    }
   ],
   "source": [
    "wb = wb[(wb.is_RT==0)]\n",
    "wb.shape"
   ]
  },
  {
   "cell_type": "code",
   "execution_count": 302,
   "metadata": {
    "collapsed": false
   },
   "outputs": [],
   "source": [
    "#wb=wb[wb.user_screen_name==\"WorldBank\"]"
   ]
  },
  {
   "cell_type": "code",
   "execution_count": 303,
   "metadata": {
    "collapsed": true
   },
   "outputs": [],
   "source": [
    "wb['favorite75']=np.where(wb.favorite_count>=49, 1, 0)\n",
    "wb['retweet75']=np.where(wb.retweet_count>=70, 1, 0)\n",
    "wb['favorite0']=np.where(wb.favorite_count>0, 1, 0)\n",
    "wb['retweet0']=np.where(wb.retweet_count>0, 1, 0)"
   ]
  },
  {
   "cell_type": "code",
   "execution_count": 304,
   "metadata": {
    "collapsed": false
   },
   "outputs": [
    {
     "data": {
      "text/plain": [
       "count    71287.000000\n",
       "mean         0.014238\n",
       "std          0.118472\n",
       "min          0.000000\n",
       "25%          0.000000\n",
       "50%          0.000000\n",
       "75%          0.000000\n",
       "max          1.000000\n",
       "Name: favorite75, dtype: float64"
      ]
     },
     "execution_count": 304,
     "metadata": {},
     "output_type": "execute_result"
    }
   ],
   "source": [
    "wb.favorite75.describe()"
   ]
  },
  {
   "cell_type": "code",
   "execution_count": 305,
   "metadata": {
    "collapsed": false
   },
   "outputs": [
    {
     "data": {
      "text/plain": [
       "count    71287.000000\n",
       "mean         0.711069\n",
       "std          0.453269\n",
       "min          0.000000\n",
       "25%          0.000000\n",
       "50%          1.000000\n",
       "75%          1.000000\n",
       "max          1.000000\n",
       "Name: retweet0, dtype: float64"
      ]
     },
     "execution_count": 305,
     "metadata": {},
     "output_type": "execute_result"
    }
   ],
   "source": [
    "wb.retweet0.describe()"
   ]
  },
  {
   "cell_type": "code",
   "execution_count": 306,
   "metadata": {
    "collapsed": true
   },
   "outputs": [],
   "source": [
    "# 2) Create dummy variables for each account\n",
    "Iuser = pd.get_dummies(wb.user_screen_name, prefix='Iuser')\n",
    "# concatenate the original DataFrame and the dummy DataFrame\n",
    "wb = pd.concat([wb, Iuser], axis=1)"
   ]
  },
  {
   "cell_type": "code",
   "execution_count": 307,
   "metadata": {
    "collapsed": true
   },
   "outputs": [],
   "source": [
    "wb = wb.reset_index()"
   ]
  },
  {
   "cell_type": "code",
   "execution_count": 308,
   "metadata": {
    "collapsed": false
   },
   "outputs": [
    {
     "data": {
      "text/plain": [
       "['index',\n",
       " u'id',\n",
       " u'user_screen_name',\n",
       " u'created_at',\n",
       " u'favorite_count',\n",
       " u'retweet_count',\n",
       " u'text',\n",
       " 'length',\n",
       " 'is_RT',\n",
       " 'has_ht',\n",
       " 'has_link',\n",
       " 'has_at',\n",
       " 'tags',\n",
       " 'users',\n",
       " 'text_clean',\n",
       " 'has_retweet',\n",
       " 'has_favorite',\n",
       " 'year',\n",
       " 'year_cat',\n",
       " 'year_month',\n",
       " 'hour',\n",
       " 'fav_RT_ratio',\n",
       " 'favorite75',\n",
       " 'retweet75',\n",
       " 'favorite0',\n",
       " 'retweet0',\n",
       " u'Iuser_IFC_org',\n",
       " u'Iuser_JimKim_WBG',\n",
       " u'Iuser_MIGAWorldBank',\n",
       " u'Iuser_WBCaribbean',\n",
       " u'Iuser_WBG_Agriculture',\n",
       " u'Iuser_WBG_Cities',\n",
       " u'Iuser_WBG_Climate',\n",
       " u'Iuser_WBG_Dev4Peace',\n",
       " u'Iuser_WBG_Education',\n",
       " u'Iuser_WBG_Energy',\n",
       " u'Iuser_WBG_Environment',\n",
       " u'Iuser_WBG_Finance',\n",
       " u'Iuser_WBG_Gender',\n",
       " u'Iuser_WBG_Health',\n",
       " u'Iuser_WBG_LeadINLearn',\n",
       " u'Iuser_WBG_PPP',\n",
       " u'Iuser_WBG_Poverty',\n",
       " u'Iuser_WBG_SPLabor',\n",
       " u'Iuser_WBG_Transport',\n",
       " u'Iuser_WBOpenFinances',\n",
       " u'Iuser_WBPubs',\n",
       " u'Iuser_WBedutech',\n",
       " u'Iuser_WorldBank',\n",
       " u'Iuser_WorldBankAfrica',\n",
       " u'Iuser_WorldBankECA',\n",
       " u'Iuser_WorldBankIndia',\n",
       " u'Iuser_WorldBankKenya',\n",
       " u'Iuser_WorldBankPSD',\n",
       " u'Iuser_WorldBankPhotos',\n",
       " u'Iuser_WorldBankSAsia',\n",
       " u'Iuser_WorldBankSEI',\n",
       " u'Iuser_WorldBankVideos',\n",
       " u'Iuser_WorldBankWater',\n",
       " u'Iuser_WorldBank_IEG',\n",
       " u'Iuser_impacteval',\n",
       " u'Iuser_wb_research',\n",
       " u'Iuser_wbg_gov',\n",
       " u'Iuser_worldbankdata']"
      ]
     },
     "execution_count": 308,
     "metadata": {},
     "output_type": "execute_result"
    }
   ],
   "source": [
    "list(wb.columns.values)"
   ]
  },
  {
   "cell_type": "markdown",
   "metadata": {},
   "source": [
    "### Check top tweets"
   ]
  },
  {
   "cell_type": "code",
   "execution_count": 309,
   "metadata": {
    "collapsed": false,
    "scrolled": false
   },
   "outputs": [],
   "source": [
    "#Save the tweets with the top retweets and favorite counts\n",
    "top_retweets=wb[(wb.retweet_count>=300)].sort_values(\"retweet_count\", ascending=False)\n",
    "top_retweets.to_excel(writer,'top_retweets')\n",
    "\n",
    "top_fav=wb[(wb.favorite_count>=300)].sort_values(\"favorite_count\", ascending=False)\n",
    "top_fav.to_excel(writer,'top_favs')"
   ]
  },
  {
   "cell_type": "markdown",
   "metadata": {},
   "source": [
    "### Calculate the likelihood of top favorite and retweet for each word/token "
   ]
  },
  {
   "cell_type": "code",
   "execution_count": 310,
   "metadata": {
    "collapsed": false
   },
   "outputs": [
    {
     "data": {
      "text/plain": [
       "CountVectorizer(analyzer='word', binary=False, decode_error=u'strict',\n",
       "        dtype=<type 'numpy.int64'>, encoding=u'utf-8', input=u'content',\n",
       "        lowercase=True, max_df=1.0, max_features=None, min_df=1,\n",
       "        ngram_range=(1, 1), preprocessor=None, stop_words='english',\n",
       "        strip_accents=None, token_pattern=u'(?u)\\\\b\\\\w\\\\w+\\\\b',\n",
       "        tokenizer=None, vocabulary=None)"
      ]
     },
     "execution_count": 310,
     "metadata": {},
     "output_type": "execute_result"
    }
   ],
   "source": [
    "# instantiate the vectorizer\n",
    "vect = CountVectorizer(stop_words='english', analyzer='word', ngram_range=(1,1))\n",
    "\n",
    "# learn the vocabulary of ALL messages and save it\n",
    "vect.fit(wb.text_clean)\n",
    "#this is a list\n",
    "all_tokens = vect.get_feature_names()\n",
    "vect"
   ]
  },
  {
   "cell_type": "code",
   "execution_count": 311,
   "metadata": {
    "collapsed": false
   },
   "outputs": [],
   "source": [
    "# create separate DataFrames for high retweet and low retweet\n",
    "rhi = wb[wb.retweet0==1]\n",
    "rlo = wb[wb.retweet0==0]\n",
    "\n",
    "fhi = wb[wb.favorite0==1]\n",
    "flo = wb[wb.favorite0==0]"
   ]
  },
  {
   "cell_type": "code",
   "execution_count": 312,
   "metadata": {
    "collapsed": false
   },
   "outputs": [],
   "source": [
    "# create document-term matrices for retweet high and low\n",
    "rhi_dtm = vect.transform(rhi.text_clean)\n",
    "rlo_dtm = vect.transform(rlo.text_clean)\n",
    "\n",
    "# count how many times EACH token appears across ALL retweet high/low messages\n",
    "rhi_counts = np.sum(rhi_dtm.toarray(), axis=0)\n",
    "rlo_counts = np.sum(rlo_dtm.toarray(), axis=0)"
   ]
  },
  {
   "cell_type": "code",
   "execution_count": 313,
   "metadata": {
    "collapsed": true
   },
   "outputs": [],
   "source": [
    "# create document-term matrices for favorite high and low\n",
    "fhi_dtm = vect.transform(fhi.text_clean)\n",
    "flo_dtm = vect.transform(flo.text_clean)\n",
    "\n",
    "# count how many times EACH token appears across ALL favorite high/low messages\n",
    "fhi_counts = np.sum(fhi_dtm.toarray(), axis=0)\n",
    "flo_counts = np.sum(flo_dtm.toarray(), axis=0)"
   ]
  },
  {
   "cell_type": "code",
   "execution_count": 314,
   "metadata": {
    "collapsed": true
   },
   "outputs": [],
   "source": [
    "# create a DataFrame of tokens with their separate favorite high and low counts\n",
    "token_counts = pd.DataFrame({'token':all_tokens, 'flo':flo_counts, 'fhi':fhi_counts, 'rlo':rlo_counts, 'rhi':rhi_counts})\n",
    "\n",
    "# add one to retweet/favorite high and low counts to avoid dividing by zero (in the step that follows)\n",
    "#pseudo counts\n",
    "token_counts['rlo'] = token_counts.rlo + 1\n",
    "token_counts['rhi'] = token_counts.rhi + 1\n",
    "token_counts['flo'] = token_counts.flo + 1\n",
    "token_counts['fhi'] = token_counts.fhi + 1\n",
    "\n",
    "# calculate ratio of high-low for each token\n",
    "token_counts['fav_ratio'] = token_counts.fhi / token_counts.flo\n",
    "token_counts['retweet_ratio'] = token_counts.rhi / token_counts.rlo"
   ]
  },
  {
   "cell_type": "code",
   "execution_count": 315,
   "metadata": {
    "collapsed": false
   },
   "outputs": [
    {
     "data": {
      "text/html": [
       "<div>\n",
       "<table border=\"1\" class=\"dataframe\">\n",
       "  <thead>\n",
       "    <tr style=\"text-align: right;\">\n",
       "      <th></th>\n",
       "      <th>token</th>\n",
       "      <th>fhi</th>\n",
       "      <th>flo</th>\n",
       "      <th>rhi</th>\n",
       "      <th>rlo</th>\n",
       "      <th>fav_ratio</th>\n",
       "      <th>retweet_ratio</th>\n",
       "    </tr>\n",
       "  </thead>\n",
       "  <tbody>\n",
       "    <tr>\n",
       "      <th>2983</th>\n",
       "      <td>arttechkp</td>\n",
       "      <td>37</td>\n",
       "      <td>1</td>\n",
       "      <td>35</td>\n",
       "      <td>3</td>\n",
       "      <td>37</td>\n",
       "      <td>11.666667</td>\n",
       "    </tr>\n",
       "    <tr>\n",
       "      <th>31252</th>\n",
       "      <td>stabilizing</td>\n",
       "      <td>32</td>\n",
       "      <td>1</td>\n",
       "      <td>31</td>\n",
       "      <td>2</td>\n",
       "      <td>32</td>\n",
       "      <td>15.500000</td>\n",
       "    </tr>\n",
       "    <tr>\n",
       "      <th>24325</th>\n",
       "      <td>offgrid</td>\n",
       "      <td>30</td>\n",
       "      <td>1</td>\n",
       "      <td>30</td>\n",
       "      <td>1</td>\n",
       "      <td>30</td>\n",
       "      <td>30.000000</td>\n",
       "    </tr>\n",
       "    <tr>\n",
       "      <th>2028</th>\n",
       "      <td>albrightdialogue</td>\n",
       "      <td>27</td>\n",
       "      <td>1</td>\n",
       "      <td>26</td>\n",
       "      <td>2</td>\n",
       "      <td>27</td>\n",
       "      <td>13.000000</td>\n",
       "    </tr>\n",
       "    <tr>\n",
       "      <th>35236</th>\n",
       "      <td>vimeo</td>\n",
       "      <td>25</td>\n",
       "      <td>1</td>\n",
       "      <td>18</td>\n",
       "      <td>8</td>\n",
       "      <td>25</td>\n",
       "      <td>2.250000</td>\n",
       "    </tr>\n",
       "  </tbody>\n",
       "</table>\n",
       "</div>"
      ],
      "text/plain": [
       "                  token  fhi  flo  rhi  rlo  fav_ratio  retweet_ratio\n",
       "2983          arttechkp   37    1   35    3         37      11.666667\n",
       "31252       stabilizing   32    1   31    2         32      15.500000\n",
       "24325           offgrid   30    1   30    1         30      30.000000\n",
       "2028   albrightdialogue   27    1   26    2         27      13.000000\n",
       "35236             vimeo   25    1   18    8         25       2.250000"
      ]
     },
     "execution_count": 315,
     "metadata": {},
     "output_type": "execute_result"
    }
   ],
   "source": [
    "#export to excel\n",
    "cols=['token', 'fhi', 'flo','rhi', 'rlo', 'fav_ratio', 'retweet_ratio']\n",
    "token_counts=token_counts[cols]\n",
    "token_counts.to_excel(writer,'ratio_tokens_all_textclean_0')\n",
    "token_counts.sort_values(\"fav_ratio\", ascending=False).head()"
   ]
  },
  {
   "cell_type": "code",
   "execution_count": 397,
   "metadata": {
    "collapsed": false
   },
   "outputs": [
    {
     "data": {
      "image/png": "[encoded data removed]",
      "text/plain": [
       "<matplotlib.figure.Figure at 0x1f34c2610>"
      ]
     },
     "metadata": {},
     "output_type": "display_data"
    }
   ],
   "source": [
    "# Make the PairGrid\n",
    "token_counts_graph=token_counts.sort_values(\"retweet_ratio\", ascending=False).head(20)\n",
    "\n",
    "sns.set(style=\"whitegrid\")\n",
    "\n",
    "g = sns.PairGrid(token_counts_graph.sort_values(\"retweet_ratio\", ascending=False),\n",
    "                 x_vars=token_counts_graph.columns[1:], y_vars=[\"token\"],\n",
    "                 size=8, aspect=.25)\n",
    "\n",
    "# Draw a dot plot using the stripplot function\n",
    "g.map(sns.stripplot, size=10, orient=\"h\",\n",
    "      palette=\"Reds_r\", edgecolor=\"gray\")\n",
    "\n",
    "# Use the same x axis limits on all columns and add better labels\n",
    "g.set(xlim=(0, 80), xlabel=\"values\", ylabel=\"\")\n",
    "\n",
    "# Use semantically meaningful titles for the columns\n",
    "titles = [\"N Favorite High\", \"N Favorite Low\", \"N Retweet High\", \"N Retweet Lo\", \"Favorite Likelihood\", \"Retweet Likelihood\"]\n",
    "\n",
    "for ax, title in zip(g.axes.flat, titles):\n",
    "\n",
    "    # Set a different title for each axes\n",
    "    ax.set(title=title)\n",
    "\n",
    "    # Make the grid horizontal instead of vertical\n",
    "    ax.xaxis.grid(False)\n",
    "    ax.yaxis.grid(True)\n",
    "\n",
    "sns.despine(left=True, bottom=True)"
   ]
  },
  {
   "cell_type": "code",
   "execution_count": 396,
   "metadata": {
    "collapsed": false
   },
   "outputs": [
    {
     "data": {
      "image/png": "[encoded data removed]",
      "text/plain": [
       "<matplotlib.figure.Figure at 0x1f3ddbc10>"
      ]
     },
     "metadata": {},
     "output_type": "display_data"
    }
   ],
   "source": [
    "# Make the PairGrid\n",
    "token_counts_graph=token_counts.sort_values(\"fhi\", ascending=False).head(20)\n",
    "\n",
    "sns.set(style=\"whitegrid\")\n",
    "\n",
    "g = sns.PairGrid(token_counts_graph.sort_values(\"fhi\", ascending=False),\n",
    "                 x_vars=token_counts_graph.columns[1:], y_vars=[\"token\"],\n",
    "                 size=8, aspect=.25)\n",
    "\n",
    "# Draw a dot plot using the stripplot function\n",
    "g.map(sns.stripplot, size=10, orient=\"h\",\n",
    "      palette=\"Reds_r\", edgecolor=\"gray\")\n",
    "\n",
    "# Use the same x axis limits on all columns and add better labels\n",
    "g.set(xlim=(0, 5000), xlabel=\"values\", ylabel=\"\")\n",
    "\n",
    "# Use semantically meaningful titles for the columns\n",
    "titles = [\"N Favorite High\", \"N Favorite Low\", \"N Retweet High\", \"N Retweet Lo\", \"Favorite Likelihood\", \"Retweet Likelihood\"]\n",
    "\n",
    "for ax, title in zip(g.axes.flat, titles):\n",
    "\n",
    "    # Set a different title for each axes\n",
    "    ax.set(title=title)\n",
    "\n",
    "    # Make the grid horizontal instead of vertical\n",
    "    ax.xaxis.grid(False)\n",
    "    ax.yaxis.grid(True)\n",
    "\n",
    "sns.despine(left=True, bottom=True)"
   ]
  },
  {
   "cell_type": "markdown",
   "metadata": {},
   "source": [
    "### Term Frequency and Inverse Document Frequency:\n",
    "- **What:** Computes \"relative frequency\" that a word appears in a document compared to its frequency across all documents\n",
    "- **Why:** More useful than \"term frequency\" for identifying \"important\" words in each document (high frequency in that document, low frequency in other documents)\n",
    "- **Notes:** Used for search engine scoring, text summarization, document clustering"
   ]
  },
  {
   "cell_type": "code",
   "execution_count": 318,
   "metadata": {
    "collapsed": false,
    "scrolled": false
   },
   "outputs": [
    {
     "data": {
      "text/plain": [
       "(71287, 5213)"
      ]
     },
     "execution_count": 318,
     "metadata": {},
     "output_type": "execute_result"
    }
   ],
   "source": [
    "# create a document-term matrix using TF-IDF\n",
    "vect = TfidfVectorizer(stop_words='english',analyzer='word', ngram_range=(1,1))\n",
    "dtm = vect.fit_transform(wb.tags)\n",
    "features = vect.get_feature_names()\n",
    "dtm.shape"
   ]
  },
  {
   "cell_type": "code",
   "execution_count": 319,
   "metadata": {
    "collapsed": false
   },
   "outputs": [],
   "source": [
    "#See the dtm matrix\n",
    "#pd.DataFrame(dtm.toarray(), columns=vect.get_feature_names())"
   ]
  },
  {
   "cell_type": "markdown",
   "metadata": {},
   "source": [
    "### Topic Modelling "
   ]
  },
  {
   "cell_type": "code",
   "execution_count": 320,
   "metadata": {
    "collapsed": true
   },
   "outputs": [],
   "source": [
    "stoplist = set(CountVectorizer(stop_words='english').get_stop_words() )"
   ]
  },
  {
   "cell_type": "code",
   "execution_count": 321,
   "metadata": {
    "collapsed": true
   },
   "outputs": [],
   "source": [
    "X=wb.text_clean"
   ]
  },
  {
   "cell_type": "code",
   "execution_count": 322,
   "metadata": {
    "collapsed": false
   },
   "outputs": [
    {
     "data": {
      "text/plain": [
       "[u'0.039*women + 0.020*education + 0.017*violence + 0.017*countries + 0.013*girls + 0.012*developing + 0.011*children + 0.010*16days + 0.009*gender + 0.009*school',\n",
       " u'0.019*growth + 0.018*worldbank + 0.015*sign + 0.014*economic + 0.013*global + 0.012*finance + 0.012*news + 0.012*markets + 0.010*ecourse + 0.010*policy',\n",
       " u'0.030*energy + 0.015*ecourse + 0.014*help + 0.013*india + 0.010*china + 0.010*carbon + 0.009*improve + 0.009*power + 0.009*health + 0.009*solar',\n",
       " u'0.033*climatechange + 0.025*financing + 0.020*get2equal + 0.020*worldbank + 0.020*new + 0.018*risk + 0.016*insurance + 0.014*report + 0.014*management + 0.012*learn',\n",
       " u'0.037*financialinclusion + 0.024*agriculture + 0.022*women + 0.020*farmers + 0.020*finaccess + 0.017*food + 0.017*wbg + 0.016*financial + 0.013*climate + 0.011*finance',\n",
       " u'0.023*apply + 0.022*smes + 0.018*foodsecurity + 0.017*ecourse + 0.017*credit + 0.016*business + 0.013*online + 0.010*finance + 0.009*based + 0.008*local',\n",
       " u'0.017*worldbank + 0.017*remittances + 0.016*new + 0.014*africa + 0.013*development + 0.011*research + 0.010*worldbankafrica + 0.010*prevent + 0.010*climatesmart + 0.009*vawg',\n",
       " u'0.031*ifc + 0.022*org + 0.021*sector + 0.021*private + 0.017*worldbank + 0.016*access + 0.013*ppps + 0.013*women + 0.012*jobs + 0.011*public',\n",
       " u'0.023*data + 0.018*gender + 0.014*event + 0.014*join + 0.013*blog + 0.012*development + 0.011*sept + 0.011*skills + 0.010*worldbank + 0.010*gap',\n",
       " u'0.031*poverty + 0.021*register + 0.019*webinar + 0.013*agricultural + 0.011*solutions + 0.010*mt + 0.010*worldbank + 0.009*gender + 0.009*guardian + 0.009*islamicfinance']"
      ]
     },
     "execution_count": 322,
     "metadata": {},
     "output_type": "execute_result"
    }
   ],
   "source": [
    "\n",
    "texts = [[word for word in document.lower().split() if word not in stoplist] for document in list(X)]\n",
    "\n",
    "# count up the frequency of each word\n",
    "frequency = defaultdict(int)\n",
    "for text in texts:\n",
    "     for token in text:\n",
    "         frequency[token] += 1    \n",
    "        \n",
    "# (2) remove words that only occur a small number of times, fixing a feature space that's needlessly big.\n",
    "# once in the whole corpus, not just once in a single document\n",
    "\n",
    "texts = [[token for token in text if frequency[token] > 1] for text in texts]\n",
    "\n",
    "dictionary = corpora.Dictionary(texts)\n",
    "corpus = [dictionary.doc2bow(text) for text in texts]\n",
    "\n",
    "lda = models.LdaModel(corpus, id2word=dictionary, num_topics=10, alpha = 'auto')\n",
    "lda.show_topics()"
   ]
  },
  {
   "cell_type": "code",
   "execution_count": 323,
   "metadata": {
    "collapsed": false
   },
   "outputs": [
    {
     "name": "stdout",
     "output_type": "stream",
     "text": [
      "\n"
     ]
    }
   ],
   "source": [
    "print "
   ]
  },
  {
   "cell_type": "markdown",
   "metadata": {},
   "source": [
    "** Topic model only the top retweet and favorite tweets **"
   ]
  },
  {
   "cell_type": "code",
   "execution_count": 324,
   "metadata": {
    "collapsed": true
   },
   "outputs": [],
   "source": [
    "X=wb[wb.retweet0==1].text_clean"
   ]
  },
  {
   "cell_type": "code",
   "execution_count": 325,
   "metadata": {
    "collapsed": false
   },
   "outputs": [],
   "source": [
    "texts = [[word for word in document.lower().split() if word not in stoplist] for document in list(X)]\n",
    "\n",
    "# count up the frequency of each word\n",
    "frequency = defaultdict(int)\n",
    "for text in texts:\n",
    "     for token in text:\n",
    "         frequency[token] += 1 \n",
    "        \n",
    "# remove words that only occur a small number of times, fixing a feature space that's needlessly big.\n",
    "# once in the whole corpus, not just once in a single document\n",
    "texts = [[token for token in text if frequency[token] > 1] for text in texts]\n",
    "\n",
    "\n",
    "dictionary = corpora.Dictionary(texts)\n",
    "\n",
    "corpus = [dictionary.doc2bow(text) for text in texts]\n",
    "\n",
    "lda = models.LdaModel(corpus, id2word=dictionary, num_topics=10, alpha = 'auto')\n",
    "#lda.show_topics()"
   ]
  },
  {
   "cell_type": "code",
   "execution_count": 391,
   "metadata": {
    "collapsed": false
   },
   "outputs": [
    {
     "data": {
      "text/plain": [
       "[([(0.022862206012880939, u'private'),\n",
       "   (0.019327816864377404, u'ppps'),\n",
       "   (0.017569918059181334, u'help'),\n",
       "   (0.016252376682097249, u'sector'),\n",
       "   (0.01378288973062502, u'public')],\n",
       "  -41.509569528073918),\n",
       " ([(0.019515807352083438, u'finance'),\n",
       "   (0.019387077148729673, u'worldbank'),\n",
       "   (0.018948498078398653, u'development'),\n",
       "   (0.015027573500907799, u'growth'),\n",
       "   (0.011445950268662403, u'new')],\n",
       "  -46.141416304230432),\n",
       " ([(0.067592984570226652, u'women'),\n",
       "   (0.03054394220720685, u'gender'),\n",
       "   (0.019209240922827959, u'new'),\n",
       "   (0.015633920638917144, u'violence'),\n",
       "   (0.015236695947739352, u'get2equal')],\n",
       "  -47.302398909447028),\n",
       " ([(0.038547854876313473, u'ifc'),\n",
       "   (0.025517601779449107, u'org'),\n",
       "   (0.020592228042686633, u'new'),\n",
       "   (0.010661801533900016, u'worldbank'),\n",
       "   (0.010612226338371082, u'africa')],\n",
       "  -47.754409189078444),\n",
       " ([(0.036917483563862666, u'farmers'),\n",
       "   (0.025565035598985212, u'food'),\n",
       "   (0.024750430237505183, u'climate'),\n",
       "   (0.023318355835162011, u'agriculture'),\n",
       "   (0.020580823052898899, u'energy')],\n",
       "  -51.271740825321451),\n",
       " ([(0.04217264326489957, u'financialinclusion'),\n",
       "   (0.035820978182345413, u'finaccess'),\n",
       "   (0.021150540238268699, u'smes'),\n",
       "   (0.021113314386480193, u'access'),\n",
       "   (0.019973471541198093, u'india')],\n",
       "  -52.947800258272579),\n",
       " ([(0.044699914374520477, u'join'),\n",
       "   (0.026345160164896186, u'live'),\n",
       "   (0.017095337830759626, u'credit'),\n",
       "   (0.016891149103444435, u'event'),\n",
       "   (0.015077214346342422, u'worldbank')],\n",
       "  -58.449684423913396),\n",
       " ([(0.01523001470542224, u'worldbank'),\n",
       "   (0.014979842611200908, u'mt'),\n",
       "   (0.014090199734149753, u'wbg'),\n",
       "   (0.012951427060956013, u'learning'),\n",
       "   (0.011081385535856523, u'education')],\n",
       "  -62.487573757047066),\n",
       " ([(0.018862335200561763, u'countries'),\n",
       "   (0.01385953752100216, u'does'),\n",
       "   (0.012417924336543385, u'africa'),\n",
       "   (0.012061807691668971, u'entrepreneurs'),\n",
       "   (0.011766355974999159, u'asia')],\n",
       "  -64.808040560852689),\n",
       " ([(0.014126142854030025, u'worldbank'),\n",
       "   (0.014094872369599104, u'development'),\n",
       "   (0.013898616628332059, u'cgap'),\n",
       "   (0.012560499154805791, u'transport'),\n",
       "   (0.011752585165616418, u'ecourse')],\n",
       "  -79.181162824806208)]"
      ]
     },
     "execution_count": 391,
     "metadata": {},
     "output_type": "execute_result"
    }
   ],
   "source": [
    "lda.top_topics(corpus, num_words=5)"
   ]
  },
  {
   "cell_type": "markdown",
   "metadata": {},
   "source": [
    "### Predictions: what determines high retweets and favorites?"
   ]
  },
  {
   "cell_type": "markdown",
   "metadata": {},
   "source": [
    "** Linear Regression **\n",
    "\n",
    "How much of retweet or favorite responses can be explained by non-text"
   ]
  },
  {
   "cell_type": "code",
   "execution_count": 374,
   "metadata": {
    "collapsed": true
   },
   "outputs": [],
   "source": [
    "# define a function that accepts text and returns the polarity\n",
    "def detect_sentiment(text):\n",
    "    return TextBlob(text.decode('utf-8')).sentiment.polarity\n",
    "# create a new DataFrame column for sentiment (WARNING: SLOW!)\n",
    "wb['sentiment'] = wb.text_clean.apply(detect_sentiment)"
   ]
  },
  {
   "cell_type": "code",
   "execution_count": 375,
   "metadata": {
    "collapsed": true
   },
   "outputs": [],
   "source": [
    "from sklearn.linear_model import LinearRegression\n",
    "from sklearn.cross_validation import train_test_split"
   ]
  },
  {
   "cell_type": "code",
   "execution_count": 378,
   "metadata": {
    "collapsed": true
   },
   "outputs": [],
   "source": [
    "# Exercise :  define a function that accepts a list of features and returns testing RMSE\n",
    "def train_test_rmse(cols):\n",
    "   \n",
    "    X = wb[cols]\n",
    "    y= wb.retweet_count\n",
    "    \n",
    "    X_train, X_test, y_train, y_test = train_test_split(X, y, random_state=99)\n",
    "    \n",
    "    # instantiate and fit\n",
    "    linreg = LinearRegression()\n",
    "    linreg.fit(X_train, y_train)\n",
    "\n",
    "    # print the coefficients\n",
    "    true=y_test\n",
    "    pred=linreg.predict(X_test)\n",
    "    rmse=np.sqrt(metrics.mean_squared_error(true, pred))\n",
    "    \n",
    "    return rmse"
   ]
  },
  {
   "cell_type": "code",
   "execution_count": 387,
   "metadata": {
    "collapsed": false
   },
   "outputs": [
    {
     "name": "stdout",
     "output_type": "stream",
     "text": [
      "17.9825390903\n",
      "18.005064973\n",
      "18.0013742299\n",
      "18.0032201358\n",
      "17.9770264845\n",
      "17.9761441184\n"
     ]
    }
   ],
   "source": [
    "# compare different sets of features\n",
    "#1) has_at \n",
    "print train_test_rmse(['has_at'])\n",
    "\n",
    "#1)\n",
    "print train_test_rmse(['sentiment'])\n",
    "\n",
    "\n",
    "#2) has a hashtag\n",
    "print train_test_rmse(['has_ht'])\n",
    "\n",
    "#3) has a hashtag\n",
    "print train_test_rmse(['has_link'])\n",
    "\n",
    "#4) has_at, has a hashtag, has a link, is a RT\n",
    "print train_test_rmse(['has_at', 'has_ht', 'has_link'])\n",
    "\n",
    "#5) has_at, has a hashtag, has a link, is a RT, sentiment value\n",
    "print train_test_rmse(['has_at', 'has_ht', 'has_link', 'sentiment'])"
   ]
  },
  {
   "cell_type": "markdown",
   "metadata": {},
   "source": [
    "Comparing testing RMSE with null RMSE\n",
    "Null RMSE is the RMSE that could be achieved by always predicting the mean response value. It is a benchmark against which you may want to measure your regression model."
   ]
  },
  {
   "cell_type": "markdown",
   "metadata": {},
   "source": [
    "**Logistic Regression**"
   ]
  },
  {
   "cell_type": "code",
   "execution_count": 330,
   "metadata": {
    "collapsed": true
   },
   "outputs": [],
   "source": [
    "# train a logistic regression model\n",
    "from sklearn.linear_model import LogisticRegression\n",
    "logreg = LogisticRegression(C=1e9)\n",
    "from sklearn import metrics\n",
    "from sklearn.cross_validation import cross_val_score"
   ]
  },
  {
   "cell_type": "code",
   "execution_count": 331,
   "metadata": {
    "collapsed": true
   },
   "outputs": [],
   "source": [
    "cols=['has_at', 'has_ht', 'has_link']"
   ]
  },
  {
   "cell_type": "code",
   "execution_count": 332,
   "metadata": {
    "collapsed": false
   },
   "outputs": [
    {
     "name": "stdout",
     "output_type": "stream",
     "text": [
      "0.711311861744\n"
     ]
    }
   ],
   "source": [
    "# split the new DataFrame into training and testing sets\n",
    "X= wb[cols]\n",
    "y=wb.retweet0\n",
    "X_train, X_test, y_train, y_test = train_test_split(X, y, random_state=1)\n",
    "\n",
    "logreg.fit(X_train, y_train)\n",
    "\n",
    "# make predictions for testing set\n",
    "y_pred_class = logreg.predict(X_test)\n",
    "\n",
    "# calculate testing accuracy\n",
    "print metrics.accuracy_score(y_test, y_pred_class)"
   ]
  },
  {
   "cell_type": "code",
   "execution_count": 333,
   "metadata": {
    "collapsed": false
   },
   "outputs": [
    {
     "data": {
      "text/plain": [
       "1    0.711312\n",
       "Name: retweet0, dtype: float64"
      ]
     },
     "execution_count": 333,
     "metadata": {},
     "output_type": "execute_result"
    }
   ],
   "source": [
    "# null accuracy\n",
    "y_test.value_counts().head(1) / len(y_test)"
   ]
  },
  {
   "cell_type": "code",
   "execution_count": 334,
   "metadata": {
    "collapsed": false
   },
   "outputs": [
    {
     "data": {
      "text/plain": [
       "<matplotlib.text.Text at 0x21398ad50>"
      ]
     },
     "execution_count": 334,
     "metadata": {},
     "output_type": "execute_result"
    },
    {
     "data": {
      "image/png": "[encoded data removed]",
      "text/plain": [
       "<matplotlib.figure.Figure at 0x1367c40d0>"
      ]
     },
     "metadata": {},
     "output_type": "display_data"
    }
   ],
   "source": [
    "# predict probability of survival\n",
    "y_pred_prob = logreg.predict_proba(X_test)[:, 1]\n",
    "\n",
    "plt.rcParams['figure.figsize'] = (8, 6)\n",
    "plt.rcParams['font.size'] = 14\n",
    "\n",
    "# plot ROC curve\n",
    "fpr, tpr, thresholds = metrics.roc_curve(y_test, y_pred_prob)\n",
    "plt.plot(fpr, tpr)\n",
    "plt.xlim([0.0, 1.0])\n",
    "plt.ylim([0.0, 1.0])\n",
    "plt.xlabel('False Positive Rate (1 - Specificity)')\n",
    "plt.ylabel('True Positive Rate (Sensitivity)')"
   ]
  },
  {
   "cell_type": "code",
   "execution_count": 335,
   "metadata": {
    "collapsed": false
   },
   "outputs": [
    {
     "data": {
      "text/plain": [
       "array([<matplotlib.axes._subplots.AxesSubplot object at 0x12b352550>,\n",
       "       <matplotlib.axes._subplots.AxesSubplot object at 0x123c4ac50>], dtype=object)"
      ]
     },
     "execution_count": 335,
     "metadata": {},
     "output_type": "execute_result"
    },
    {
     "data": {
      "image/png": "[encoded data removed]",
      "text/plain": [
       "<matplotlib.figure.Figure at 0x1367a7c50>"
      ]
     },
     "metadata": {},
     "output_type": "display_data"
    }
   ],
   "source": [
    "# histogram of predicted probabilities grouped by actual response value\n",
    "df = pd.DataFrame({'probability':y_pred_prob, 'actual':y_test})\n",
    "df.hist(column='probability', by='actual', sharex=True, sharey=True)"
   ]
  },
  {
   "cell_type": "code",
   "execution_count": 336,
   "metadata": {
    "collapsed": false
   },
   "outputs": [
    {
     "name": "stdout",
     "output_type": "stream",
     "text": [
      "0.557758696623\n"
     ]
    }
   ],
   "source": [
    "# calculate AUC\n",
    "print metrics.roc_auc_score(y_test, y_pred_prob)"
   ]
  },
  {
   "cell_type": "code",
   "execution_count": 337,
   "metadata": {
    "collapsed": false
   },
   "outputs": [
    {
     "data": {
      "text/plain": [
       "0.5473163891488052"
      ]
     },
     "execution_count": 337,
     "metadata": {},
     "output_type": "execute_result"
    }
   ],
   "source": [
    "# calculate cross-validated AUC\n",
    "cross_val_score(logreg, X, y, cv=10, scoring='roc_auc').mean()"
   ]
  },
  {
   "cell_type": "markdown",
   "metadata": {},
   "source": [
    "** Add Username to logistic estimation **"
   ]
  },
  {
   "cell_type": "code",
   "execution_count": 338,
   "metadata": {
    "collapsed": true
   },
   "outputs": [],
   "source": [
    "cols=['has_at', 'has_ht', 'has_link', u'Iuser_IFC_org',\n",
    " u'Iuser_JimKim_WBG', u'Iuser_MIGAWorldBank', u'Iuser_WBCaribbean',\n",
    " u'Iuser_WBG_Agriculture', u'Iuser_WBG_Cities', u'Iuser_WBG_Climate', u'Iuser_WBG_Dev4Peace',\n",
    " u'Iuser_WBG_Education', u'Iuser_WBG_Energy', u'Iuser_WBG_Environment', u'Iuser_WBG_Finance',\n",
    " u'Iuser_WBG_Gender', u'Iuser_WBG_Health', u'Iuser_WBG_LeadINLearn', u'Iuser_WBG_PPP',\n",
    " u'Iuser_WBG_Poverty', u'Iuser_WBG_SPLabor', u'Iuser_WBG_Transport',\n",
    " u'Iuser_WBOpenFinances', u'Iuser_WBPubs', u'Iuser_WBedutech', u'Iuser_WorldBank',\n",
    " u'Iuser_WorldBankAfrica', u'Iuser_WorldBankECA',\n",
    " u'Iuser_WorldBankIndia', u'Iuser_WorldBankKenya', u'Iuser_WorldBankPSD', u'Iuser_WorldBankPhotos',\n",
    " u'Iuser_WorldBankSAsia', u'Iuser_WorldBankSEI', u'Iuser_WorldBankVideos', u'Iuser_WorldBankWater',\n",
    " u'Iuser_WorldBank_IEG', u'Iuser_impacteval',\n",
    " u'Iuser_wb_research', u'Iuser_wbg_gov', u'Iuser_worldbankdata', ]"
   ]
  },
  {
   "cell_type": "code",
   "execution_count": 339,
   "metadata": {
    "collapsed": false
   },
   "outputs": [
    {
     "name": "stdout",
     "output_type": "stream",
     "text": [
      "0.755358545618\n"
     ]
    }
   ],
   "source": [
    "# split the new DataFrame into training and testing sets\n",
    "X= wb[cols]\n",
    "y=wb.retweet0\n",
    "X_train, X_test, y_train, y_test = train_test_split(X, y, random_state=1)\n",
    "\n",
    "# train a logistic regression model\n",
    "logreg.fit(X_train, y_train)\n",
    "\n",
    "# make predictions for testing set\n",
    "y_pred_class = logreg.predict(X_test)\n",
    "\n",
    "# calculate testing accuracy\n",
    "print metrics.accuracy_score(y_test, y_pred_class)"
   ]
  },
  {
   "cell_type": "code",
   "execution_count": 340,
   "metadata": {
    "collapsed": false
   },
   "outputs": [
    {
     "data": {
      "text/plain": [
       "1    0.711312\n",
       "Name: retweet0, dtype: float64"
      ]
     },
     "execution_count": 340,
     "metadata": {},
     "output_type": "execute_result"
    }
   ],
   "source": [
    "# null accuracy\n",
    "y_test.value_counts().head(1) / len(y_test)"
   ]
  },
  {
   "cell_type": "code",
   "execution_count": 341,
   "metadata": {
    "collapsed": false
   },
   "outputs": [
    {
     "data": {
      "text/plain": [
       "<matplotlib.text.Text at 0x12911e710>"
      ]
     },
     "execution_count": 341,
     "metadata": {},
     "output_type": "execute_result"
    },
    {
     "data": {
      "image/png": "[encoded data removed]",
      "text/plain": [
       "<matplotlib.figure.Figure at 0x118b16d10>"
      ]
     },
     "metadata": {},
     "output_type": "display_data"
    }
   ],
   "source": [
    "# predict probability of survival\n",
    "y_pred_prob = logreg.predict_proba(X_test)[:, 1]\n",
    "\n",
    "plt.rcParams['figure.figsize'] = (8, 6)\n",
    "plt.rcParams['font.size'] = 14\n",
    "\n",
    "# plot ROC curve\n",
    "fpr, tpr, thresholds = metrics.roc_curve(y_test, y_pred_prob)\n",
    "plt.plot(fpr, tpr)\n",
    "plt.xlim([0.0, 1.0])\n",
    "plt.ylim([0.0, 1.0])\n",
    "plt.xlabel('False Positive Rate (1 - Specificity)')\n",
    "plt.ylabel('True Positive Rate (Sensitivity)')"
   ]
  },
  {
   "cell_type": "code",
   "execution_count": 342,
   "metadata": {
    "collapsed": false
   },
   "outputs": [
    {
     "data": {
      "text/plain": [
       "array([<matplotlib.axes._subplots.AxesSubplot object at 0x123c24190>,\n",
       "       <matplotlib.axes._subplots.AxesSubplot object at 0x124610210>], dtype=object)"
      ]
     },
     "execution_count": 342,
     "metadata": {},
     "output_type": "execute_result"
    },
    {
     "data": {
      "image/png": "[encoded data removed]",
      "text/plain": [
       "<matplotlib.figure.Figure at 0x12406d790>"
      ]
     },
     "metadata": {},
     "output_type": "display_data"
    }
   ],
   "source": [
    "# histogram of predicted probabilities grouped by actual response value\n",
    "df = pd.DataFrame({'probability':y_pred_prob, 'actual':y_test})\n",
    "df.hist(column='probability', by='actual', sharex=True, sharey=True)"
   ]
  },
  {
   "cell_type": "code",
   "execution_count": 343,
   "metadata": {
    "collapsed": false
   },
   "outputs": [
    {
     "name": "stdout",
     "output_type": "stream",
     "text": [
      "0.795809901283\n"
     ]
    }
   ],
   "source": [
    "# calculate AUC\n",
    "print metrics.roc_auc_score(y_test, y_pred_prob)"
   ]
  },
  {
   "cell_type": "code",
   "execution_count": 344,
   "metadata": {
    "collapsed": false
   },
   "outputs": [
    {
     "data": {
      "text/plain": [
       "0.21553776852032097"
      ]
     },
     "execution_count": 344,
     "metadata": {},
     "output_type": "execute_result"
    }
   ],
   "source": [
    "# calculate cross-validated AUC\n",
    "cross_val_score(logreg, X, y, cv=10, scoring='roc_auc').mean()"
   ]
  },
  {
   "cell_type": "markdown",
   "metadata": {},
   "source": [
    "** Naive Bayes, predict top retweet/favorite or not **"
   ]
  },
  {
   "cell_type": "code",
   "execution_count": 345,
   "metadata": {
    "collapsed": true
   },
   "outputs": [],
   "source": [
    "# split the new DataFrame into training and testing sets\n",
    "X=wb.text_clean\n",
    "y=wb.retweet0\n",
    "X_train, X_test, y_train, y_test = train_test_split(X, y, random_state=1)"
   ]
  },
  {
   "cell_type": "code",
   "execution_count": 346,
   "metadata": {
    "collapsed": false
   },
   "outputs": [
    {
     "data": {
      "text/plain": [
       "pandas.core.series.Series"
      ]
     },
     "execution_count": 346,
     "metadata": {},
     "output_type": "execute_result"
    }
   ],
   "source": [
    "type(y_test)"
   ]
  },
  {
   "cell_type": "code",
   "execution_count": 347,
   "metadata": {
    "collapsed": false,
    "scrolled": false
   },
   "outputs": [],
   "source": [
    "# use CountVectorizer to create document-term matrices from X_train and X_test\n",
    "# remove English stop words\n",
    "vect = CountVectorizer(stop_words='english', lowercase=True)\n",
    "X_train_dtm = vect.fit_transform(X_train)\n",
    "X_test_dtm = vect.transform(X_test) "
   ]
  },
  {
   "cell_type": "code",
   "execution_count": 348,
   "metadata": {
    "collapsed": false
   },
   "outputs": [
    {
     "name": "stdout",
     "output_type": "stream",
     "text": [
      "0.687521041409\n"
     ]
    }
   ],
   "source": [
    "# train a logistic regression model\n",
    "logreg.fit(X_train_dtm, y_train)\n",
    "\n",
    "# make predictions for testing set\n",
    "y_pred_class = logreg.predict(X_test_dtm)\n",
    "y_pred_prob = logreg.predict_proba(X_test_dtm)[:, 1]\n",
    "\n",
    "# calculate accuracy\n",
    "print metrics.accuracy_score(y_test, y_pred_class)"
   ]
  },
  {
   "cell_type": "code",
   "execution_count": 349,
   "metadata": {
    "collapsed": false
   },
   "outputs": [
    {
     "data": {
      "text/plain": [
       "0.71131186174391203"
      ]
     },
     "execution_count": 349,
     "metadata": {},
     "output_type": "execute_result"
    }
   ],
   "source": [
    "# calculate null accuracy\n",
    "y_test_binary = np.where(y_test==1, 1, 0)\n",
    "max(y_test_binary.mean(), 1 - y_test_binary.mean())"
   ]
  },
  {
   "cell_type": "code",
   "execution_count": 350,
   "metadata": {
    "collapsed": true
   },
   "outputs": [],
   "source": [
    "# define a function that accepts a vectorizer and calculates the accuracy\n",
    "def tokenize_test(vect):\n",
    "    X_train_dtm = vect.fit_transform(X_train)\n",
    "    print 'Features: ', X_train_dtm.shape[1]\n",
    "    X_test_dtm = vect.transform(X_test)\n",
    "    logreg.fit(X_train_dtm, y_train)\n",
    "    y_pred_class = logreg.predict(X_test_dtm)\n",
    "    print 'Accuracy: ', metrics.accuracy_score(y_test, y_pred_class)"
   ]
  },
  {
   "cell_type": "code",
   "execution_count": 351,
   "metadata": {
    "collapsed": false
   },
   "outputs": [
    {
     "name": "stdout",
     "output_type": "stream",
     "text": [
      "Features:  266521\n",
      "Accuracy:  0.707552463248\n"
     ]
    }
   ],
   "source": [
    "# include 1-grams and 2-grams\n",
    "vect = CountVectorizer(ngram_range=(1, 2))\n",
    "tokenize_test(vect)"
   ]
  },
  {
   "cell_type": "code",
   "execution_count": 352,
   "metadata": {
    "collapsed": false
   },
   "outputs": [
    {
     "data": {
      "text/plain": [
       "<matplotlib.text.Text at 0x12ada1f90>"
      ]
     },
     "execution_count": 352,
     "metadata": {},
     "output_type": "execute_result"
    },
    {
     "data": {
      "image/png": "[encoded data removed]",
      "text/plain": [
       "<matplotlib.figure.Figure at 0x1f22268d0>"
      ]
     },
     "metadata": {},
     "output_type": "display_data"
    }
   ],
   "source": [
    "plt.rcParams['figure.figsize'] = (8, 6)\n",
    "plt.rcParams['font.size'] = 14\n",
    "\n",
    "# plot ROC curve\n",
    "fpr, tpr, thresholds = metrics.roc_curve(y_test, y_pred_prob)\n",
    "plt.plot(fpr, tpr)\n",
    "plt.xlim([0.0, 1.0])\n",
    "plt.ylim([0.0, 1.0])\n",
    "plt.xlabel('False Positive Rate (1 - Specificity)')\n",
    "plt.ylabel('True Positive Rate (Sensitivity)')"
   ]
  },
  {
   "cell_type": "code",
   "execution_count": 353,
   "metadata": {
    "collapsed": false
   },
   "outputs": [
    {
     "data": {
      "text/plain": [
       "array([<matplotlib.axes._subplots.AxesSubplot object at 0x219978bd0>,\n",
       "       <matplotlib.axes._subplots.AxesSubplot object at 0x136283490>], dtype=object)"
      ]
     },
     "execution_count": 353,
     "metadata": {},
     "output_type": "execute_result"
    },
    {
     "data": {
      "image/png": "[encoded data removed]",
      "text/plain": [
       "<matplotlib.figure.Figure at 0x132083f10>"
      ]
     },
     "metadata": {},
     "output_type": "display_data"
    }
   ],
   "source": [
    "# histogram of predicted probabilities grouped by actual response value\n",
    "df = pd.DataFrame({'probability':y_pred_prob, 'actual':y_test})\n",
    "df.hist(column='probability', by='actual', sharex=True, sharey=True)"
   ]
  },
  {
   "cell_type": "code",
   "execution_count": 354,
   "metadata": {
    "collapsed": false
   },
   "outputs": [
    {
     "name": "stdout",
     "output_type": "stream",
     "text": [
      "0.65175055519\n"
     ]
    }
   ],
   "source": [
    "# calculate AUC\n",
    "print metrics.roc_auc_score(y_test, y_pred_prob)"
   ]
  },
  {
   "cell_type": "code",
   "execution_count": 355,
   "metadata": {
    "collapsed": false
   },
   "outputs": [],
   "source": [
    "# calculate cross-validated AUC\n",
    "#cross_val_score(logreg, X, y, cv=10, scoring='roc_auc').mean()"
   ]
  },
  {
   "cell_type": "markdown",
   "metadata": {},
   "source": [
    "### Sentiment Analysis"
   ]
  },
  {
   "cell_type": "code",
   "execution_count": 356,
   "metadata": {
    "collapsed": true,
    "scrolled": false
   },
   "outputs": [],
   "source": [
    "# define a function that accepts text and returns the polarity\n",
    "def detect_sentiment(text):\n",
    "    return TextBlob(text.decode('utf-8')).sentiment.polarity"
   ]
  },
  {
   "cell_type": "code",
   "execution_count": 372,
   "metadata": {
    "collapsed": false,
    "scrolled": false
   },
   "outputs": [],
   "source": [
    "# create a new DataFrame column for sentiment (WARNING: SLOW!)\n",
    "wb['sentiment'] = wb.text_clean.apply(detect_sentiment)"
   ]
  },
  {
   "cell_type": "code",
   "execution_count": 389,
   "metadata": {
    "collapsed": false
   },
   "outputs": [
    {
     "data": {
      "text/plain": [
       "count    71287.000000\n",
       "mean         0.091721\n",
       "std          0.203756\n",
       "min         -1.000000\n",
       "25%          0.000000\n",
       "50%          0.000000\n",
       "75%          0.166667\n",
       "max          1.000000\n",
       "Name: sentiment, dtype: float64"
      ]
     },
     "execution_count": 389,
     "metadata": {},
     "output_type": "execute_result"
    }
   ],
   "source": [
    "wb.sentiment.describe()"
   ]
  },
  {
   "cell_type": "code",
   "execution_count": 373,
   "metadata": {
    "collapsed": false
   },
   "outputs": [
    {
     "data": {
      "text/plain": [
       "user_screen_name\n",
       "IFC_org            0.085361\n",
       "JimKim_WBG         0.144033\n",
       "MIGAWorldBank      0.074472\n",
       "WBCaribbean        0.073510\n",
       "WBG_Agriculture    0.075742\n",
       "WBG_Cities         0.074329\n",
       "WBG_Climate        0.078928\n",
       "WBG_Dev4Peace      0.082318\n",
       "WBG_Education      0.113768\n",
       "WBG_Energy         0.089279\n",
       "WBG_Environment    0.073045\n",
       "WBG_Finance        0.064623\n",
       "WBG_Gender         0.102210\n",
       "WBG_Health         0.084245\n",
       "WBG_LeadINLearn    0.137247\n",
       "WBG_PPP            0.114117\n",
       "WBG_Poverty        0.067437\n",
       "WBG_SPLabor        0.084435\n",
       "WBG_Transport      0.096420\n",
       "WBOpenFinances     0.127255\n",
       "WBPubs             0.091067\n",
       "WBedutech          0.056835\n",
       "WorldBank          0.079766\n",
       "WorldBankAfrica    0.090879\n",
       "WorldBankECA       0.092230\n",
       "WorldBankIndia     0.095548\n",
       "WorldBankKenya     0.082855\n",
       "WorldBankPSD       0.087839\n",
       "WorldBankPhotos    0.056768\n",
       "WorldBankSAsia     0.098784\n",
       "WorldBankSEI       0.138317\n",
       "WorldBankVideos    0.084914\n",
       "WorldBankWater     0.079456\n",
       "WorldBank_IEG      0.128259\n",
       "impacteval         0.071256\n",
       "wb_research        0.073356\n",
       "wbg_gov            0.095590\n",
       "worldbankdata      0.116798\n",
       "Name: sentiment, dtype: float64"
      ]
     },
     "execution_count": 373,
     "metadata": {},
     "output_type": "execute_result"
    }
   ],
   "source": [
    "wb.groupby(['user_screen_name']).sentiment.mean()"
   ]
  },
  {
   "cell_type": "code",
   "execution_count": null,
   "metadata": {
    "collapsed": true
   },
   "outputs": [],
   "source": [
    "exit"
   ]
  },
  {
   "cell_type": "code",
   "execution_count": 386,
   "metadata": {
    "collapsed": false
   },
   "outputs": [
    {
     "data": {
      "text/plain": [
       "<seaborn.axisgrid.FacetGrid at 0x1f1f1d310>"
      ]
     },
     "execution_count": 386,
     "metadata": {},
     "output_type": "execute_result"
    },
    {
     "data": {
      "image/png": "[encoded data removed]",
      "text/plain": [
       "<matplotlib.figure.Figure at 0x11b352b90>"
      ]
     },
     "metadata": {},
     "output_type": "display_data"
    }
   ],
   "source": [
    "#More negative tweets get retweeted (Information sharing)\n",
    "sns.set(style=\"ticks\", context=\"talk\")\n",
    "\n",
    "# Plot tip as a function of toal bill across days\n",
    "wb['ln_RT']=np.log(wb.retweet_count+1)\n",
    "wb['ln_fav']=np.log(wb.favorite_count+1)\n",
    "g = sns.lmplot(x=\"retweet_count\", y=\"sentiment\", data=wb[(wb.user_screen_name!=\"WorldBank\")&(wb.retweet_count<500)], size=7)\n",
    "\n",
    "# Use more informative axis labels than are provided by default\n",
    "g.set_axis_labels(\"counts\", \"sentiment\")"
   ]
  },
  {
   "cell_type": "code",
   "execution_count": 390,
   "metadata": {
    "collapsed": false
   },
   "outputs": [
    {
     "data": {
      "text/plain": [
       "<matplotlib.axes._subplots.AxesSubplot at 0x12748e350>"
      ]
     },
     "execution_count": 390,
     "metadata": {},
     "output_type": "execute_result"
    },
    {
     "data": {
      "image/png": "[encoded data removed]",
      "text/plain": [
       "<matplotlib.figure.Figure at 0x11b350ad0>"
      ]
     },
     "metadata": {},
     "output_type": "display_data"
    }
   ],
   "source": [
    "sns.distplot(wb.sentiment)"
   ]
  },
  {
   "cell_type": "code",
   "execution_count": null,
   "metadata": {
    "collapsed": false
   },
   "outputs": [],
   "source": [
    "# list reviews with most positive sentiment\n",
    "wb[wb.sentiment == 1].text.head()"
   ]
  },
  {
   "cell_type": "code",
   "execution_count": null,
   "metadata": {
    "collapsed": false
   },
   "outputs": [],
   "source": [
    "# list reviews with most negative sentiment\n",
    "wb[wb.sentiment <0].text.head()"
   ]
  },
  {
   "cell_type": "markdown",
   "metadata": {
    "collapsed": true
   },
   "source": [
    "### Word Cloud\n",
    "\n"
   ]
  },
  {
   "cell_type": "code",
   "execution_count": 382,
   "metadata": {
    "collapsed": false
   },
   "outputs": [
    {
     "ename": "ImportError",
     "evalue": "No module named wordcloud",
     "output_type": "error",
     "traceback": [
      "\u001b[0;31m---------------------------------------------------------------------------\u001b[0m",
      "\u001b[0;31mImportError\u001b[0m                               Traceback (most recent call last)",
      "\u001b[0;32m<ipython-input-382-ef793bbe0cd9>\u001b[0m in \u001b[0;36m<module>\u001b[0;34m()\u001b[0m\n\u001b[1;32m      1\u001b[0m \u001b[0;34m\u001b[0m\u001b[0m\n\u001b[1;32m      2\u001b[0m \u001b[0;32mfrom\u001b[0m \u001b[0mos\u001b[0m \u001b[0;32mimport\u001b[0m \u001b[0mpath\u001b[0m\u001b[0;34m\u001b[0m\u001b[0m\n\u001b[0;32m----> 3\u001b[0;31m \u001b[0;32mfrom\u001b[0m \u001b[0mwordcloud\u001b[0m \u001b[0;32mimport\u001b[0m \u001b[0mWordCloud\u001b[0m\u001b[0;34m\u001b[0m\u001b[0m\n\u001b[0m",
      "\u001b[0;31mImportError\u001b[0m: No module named wordcloud"
     ]
    }
   ],
   "source": [
    "from os import path\n",
    "from wordcloud import WordCloud"
   ]
  },
  {
   "cell_type": "code",
   "execution_count": 381,
   "metadata": {
    "collapsed": false
   },
   "outputs": [
    {
     "ename": "ImportError",
     "evalue": "No module named wordcloud",
     "output_type": "error",
     "traceback": [
      "\u001b[0;31m---------------------------------------------------------------------------\u001b[0m",
      "\u001b[0;31mImportError\u001b[0m                               Traceback (most recent call last)",
      "\u001b[0;32m<ipython-input-381-e018029a0b1f>\u001b[0m in \u001b[0;36m<module>\u001b[0;34m()\u001b[0m\n\u001b[1;32m      6\u001b[0m \u001b[0;34m\u001b[0m\u001b[0m\n\u001b[1;32m      7\u001b[0m \u001b[0;32mfrom\u001b[0m \u001b[0mos\u001b[0m \u001b[0;32mimport\u001b[0m \u001b[0mpath\u001b[0m\u001b[0;34m\u001b[0m\u001b[0m\n\u001b[0;32m----> 8\u001b[0;31m \u001b[0;32mfrom\u001b[0m \u001b[0mwordcloud\u001b[0m \u001b[0;32mimport\u001b[0m \u001b[0mWordCloud\u001b[0m\u001b[0;34m\u001b[0m\u001b[0m\n\u001b[0m\u001b[1;32m      9\u001b[0m \u001b[0;34m\u001b[0m\u001b[0m\n\u001b[1;32m     10\u001b[0m \u001b[0;31m# Read the whole text.\u001b[0m\u001b[0;34m\u001b[0m\u001b[0;34m\u001b[0m\u001b[0m\n",
      "\u001b[0;31mImportError\u001b[0m: No module named wordcloud"
     ]
    }
   ],
   "source": [
    "\"\"\"\n",
    "Minimal Example\n",
    "===============\n",
    "Generating a square wordcloud from the US constitution using default arguments.\n",
    "\"\"\"\n",
    "\n",
    "\n",
    "# Read the whole text.\n",
    "text = open(path.join(d, 'constitution.txt')).read()\n",
    "\n",
    "# Generate a word cloud image\n",
    "wordcloud = WordCloud().generate(wb.text_clean)\n",
    "\n",
    "# Display the generated image:\n",
    "# the matplotlib way:\n",
    "import matplotlib.pyplot as plt\n",
    "plt.imshow(wordcloud)\n",
    "plt.axis(\"off\")\n",
    "\n",
    "# take relative word frequencies into account, lower max_font_size\n",
    "wordcloud = WordCloud(max_font_size=40, relative_scaling=.5).generate(text)\n",
    "plt.figure()\n",
    "plt.imshow(wordcloud)\n",
    "plt.axis(\"off\")\n",
    "plt.show()\n",
    "\n",
    "# The pil way (if you don't have matplotlib)\n",
    "#image = wordcloud.to_image()\n",
    "#image.show()"
   ]
  },
  {
   "cell_type": "code",
   "execution_count": null,
   "metadata": {
    "collapsed": true
   },
   "outputs": [],
   "source": []
  }
 ],
 "metadata": {
  "kernelspec": {
   "display_name": "Python 2",
   "language": "python",
   "name": "python2"
  },
  "language_info": {
   "codemirror_mode": {
    "name": "ipython",
    "version": 2
   },
   "file_extension": ".py",
   "mimetype": "text/x-python",
   "name": "python",
   "nbconvert_exporter": "python",
   "pygments_lexer": "ipython2",
   "version": "2.7.11"
  }
 },
 "nbformat": 4,
 "nbformat_minor": 0
}
