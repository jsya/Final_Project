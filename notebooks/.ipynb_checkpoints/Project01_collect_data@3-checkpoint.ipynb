{
 "cells": [
  {
   "cell_type": "markdown",
   "metadata": {},
   "source": [
    "### Analyzing the World Bank's Twitter Feed, Judy Yang, DAT10 Project\n",
    "### Part 1. Collect Data"
   ]
  },
  {
   "cell_type": "code",
   "execution_count": 19,
   "metadata": {
    "collapsed": false
   },
   "outputs": [
    {
     "data": {
      "text/plain": [
       "u'/Users/judyyang/Documents/GA_DS_course/Final_Project/notebooks'"
      ]
     },
     "execution_count": 19,
     "metadata": {},
     "output_type": "execute_result"
    }
   ],
   "source": [
    "pwd"
   ]
  },
  {
   "cell_type": "code",
   "execution_count": 20,
   "metadata": {
    "collapsed": false
   },
   "outputs": [],
   "source": [
    "import tweepy\n",
    "import pandas as pd\n",
    "import matplotlib.pyplot as plt\n",
    "from time import sleep\n",
    "\n",
    "pd.options.display.max_columns = 50\n",
    "pd.options.display.max_rows= 50\n",
    "pd.options.display.width= 120"
   ]
  },
  {
   "cell_type": "markdown",
   "metadata": {},
   "source": [
    "#### Authentication"
   ]
  },
  {
   "cell_type": "code",
   "execution_count": 21,
   "metadata": {
    "collapsed": false
   },
   "outputs": [],
   "source": [
    "consumer_key = \"Mdl5ArrrGvj1HHHzalPDiQlfd\" # Use your own key. To get a key https://apps.twitter.com/\n",
    "consumer_secret = \"77q1xZWFhLiutXlnNef3tRu1tfvU1Qa42X7HU3FBe4uKvdRw40\"\n",
    "\n",
    "auth = tweepy.OAuthHandler(consumer_key=consumer_key, consumer_secret=consumer_secret)\n",
    "\n",
    "api = tweepy.API(auth)"
   ]
  },
  {
   "cell_type": "markdown",
   "metadata": {},
   "source": [
    "#### Find WB related accounts on Twitter"
   ]
  },
  {
   "cell_type": "code",
   "execution_count": 23,
   "metadata": {
    "collapsed": false
   },
   "outputs": [
    {
     "data": {
      "text/html": [
       "<div>\n",
       "<table border=\"1\" class=\"dataframe\">\n",
       "  <thead>\n",
       "    <tr style=\"text-align: right;\">\n",
       "      <th></th>\n",
       "      <th>id</th>\n",
       "    </tr>\n",
       "  </thead>\n",
       "  <tbody>\n",
       "    <tr>\n",
       "      <th>32</th>\n",
       "      <td>WBG_Gender</td>\n",
       "    </tr>\n",
       "    <tr>\n",
       "      <th>33</th>\n",
       "      <td>WBG_Agriculture</td>\n",
       "    </tr>\n",
       "    <tr>\n",
       "      <th>34</th>\n",
       "      <td>WBG_Dev4Peace</td>\n",
       "    </tr>\n",
       "    <tr>\n",
       "      <th>35</th>\n",
       "      <td>WBG_Finance</td>\n",
       "    </tr>\n",
       "    <tr>\n",
       "      <th>36</th>\n",
       "      <td>WBG_Energy</td>\n",
       "    </tr>\n",
       "    <tr>\n",
       "      <th>37</th>\n",
       "      <td>WBG_LeadINLearn</td>\n",
       "    </tr>\n",
       "  </tbody>\n",
       "</table>\n",
       "</div>"
      ],
      "text/plain": [
       "                 id\n",
       "32       WBG_Gender\n",
       "33  WBG_Agriculture\n",
       "34    WBG_Dev4Peace\n",
       "35      WBG_Finance\n",
       "36       WBG_Energy\n",
       "37  WBG_LeadINLearn"
      ]
     },
     "execution_count": 23,
     "metadata": {},
     "output_type": "execute_result"
    }
   ],
   "source": [
    "#open file with WB twiter handles\n",
    "data = pd.read_csv('./data/wb_twitter_ids.csv', delim_whitespace=True, header=None, names=['id'])\n",
    "\n",
    "#I had to split the requests into 3 separate ones to get all 38 accounts\n",
    "#wb_ids=data[0:2]\n",
    "#wb_ids=data[3:31]\n",
    "wb_ids=data[32:38]\n",
    "\n",
    "wb_ids"
   ]
  },
  {
   "cell_type": "code",
   "execution_count": 24,
   "metadata": {
    "collapsed": false
   },
   "outputs": [],
   "source": [
    "### Store Results in a Data Frame\n",
    "\n",
    "def process_results(results):\n",
    "    id_list = [tweet.id for tweet in results]\n",
    "    data_set = pd.DataFrame(id_list, columns=[\"id\"])\n",
    "\n",
    "    # Processing Tweet Data\n",
    "\n",
    "    data_set[\"text\"] = [tweet.text for tweet in results]\n",
    "    data_set[\"created_at\"] = [tweet.created_at for tweet in results]\n",
    "    data_set[\"retweet_count\"] = [tweet.retweet_count for tweet in results]\n",
    "    data_set[\"favorite_count\"] = [tweet.favorite_count for tweet in results]\n",
    "    data_set[\"source\"] = [tweet.source for tweet in results]\n",
    "\n",
    "    # Processing User Data\n",
    "    data_set[\"user_id\"] = [tweet.author.id for tweet in results]\n",
    "    data_set[\"user_screen_name\"] = [tweet.author.screen_name for tweet in results]\n",
    "    data_set[\"user_name\"] = [tweet.author.name for tweet in results]\n",
    "    data_set[\"user_created_at\"] = [tweet.author.created_at for tweet in results]\n",
    "    data_set[\"user_description\"] = [tweet.author.description for tweet in results]\n",
    "    data_set[\"user_followers_count\"] = [tweet.author.followers_count for tweet in results]\n",
    "    data_set[\"user_friends_count\"] = [tweet.author.friends_count for tweet in results]\n",
    "    data_set[\"user_location\"] = [tweet.author.location for tweet in results]\n",
    "\n",
    "    return data_set"
   ]
  },
  {
   "cell_type": "code",
   "execution_count": 25,
   "metadata": {
    "collapsed": false
   },
   "outputs": [
    {
     "name": "stdout",
     "output_type": "stream",
     "text": [
      "WBG_Gender 3200 start sleeping\n",
      "done sleeping\n",
      "Rate limit reached. Sleeping for: 795\n",
      "WBG_Agriculture 3200 start sleeping\n",
      "done sleeping\n",
      "WBG_Dev4Peace 649 start sleeping\n",
      "done sleeping\n",
      "WBG_Finance 3200 start sleeping\n",
      "done sleeping\n",
      "Rate limit reached. Sleeping for: 663\n",
      "WBG_Energy 1695 start sleeping\n",
      "done sleeping\n",
      "WBG_LeadINLearn 3200 start sleeping\n",
      "done sleeping\n"
     ]
    }
   ],
   "source": [
    "#create a dataframe of all known WB twitter related handles\n",
    "#Q: how to avoid a read time out, where to put the sleep timer?\n",
    "\n",
    "all_wb = pd.DataFrame()\n",
    "\n",
    "for wid in wb_ids.id :\n",
    "    results = []\n",
    "    for tweet in tweepy.Cursor(api.user_timeline, id=wid, wait_on_rate_limit_notify=True, wait_on_rate_limit=True).items(3200):\n",
    "        results.append(tweet)\n",
    "    #print tweet    \n",
    "    print wid, len(results), \"start sleeping\"\n",
    "    sleep(61) \n",
    "    print \"done sleeping\"\n",
    "    #print results\n",
    "    add=process_results(results)\n",
    "    all_wb=all_wb.append(add, ignore_index=True)"
   ]
  },
  {
   "cell_type": "code",
   "execution_count": 26,
   "metadata": {
    "collapsed": false
   },
   "outputs": [
    {
     "data": {
      "text/plain": [
       "WBG_Agriculture    3200\n",
       "WBG_Finance        3200\n",
       "WBG_Gender         3200\n",
       "WBG_LeadINLearn    3200\n",
       "WBG_Energy         1695\n",
       "WBG_Dev4Peace       649\n",
       "Name: user_screen_name, dtype: int64"
      ]
     },
     "execution_count": 26,
     "metadata": {},
     "output_type": "execute_result"
    }
   ],
   "source": [
    "all_wb.user_screen_name.value_counts()"
   ]
  },
  {
   "cell_type": "markdown",
   "metadata": {},
   "source": [
    "### Save the Data\n",
    "#### Had to do 3 requests to get all 38 accounts"
   ]
  },
  {
   "cell_type": "code",
   "execution_count": 27,
   "metadata": {
    "collapsed": false
   },
   "outputs": [],
   "source": [
    "#File 1:\n",
    "#Save results as a json file\n",
    "#version WorldBank_request_01feb_2016a has WBG_Climate, WBG_Poverty, worldbankdata\n",
    "#all_wb.to_json('./data/WorldBank_request_01feb_2016a')"
   ]
  },
  {
   "cell_type": "code",
   "execution_count": 28,
   "metadata": {
    "collapsed": true
   },
   "outputs": [],
   "source": [
    "#File 2:\n",
    "#Save results as a json file\n",
    "#version WorldBank_request_14feb_2016b has World Bank vids (3) to WBG_Environment (31)\n",
    "#all_wb.to_json('./data/WorldBank_request_14feb_2016b')"
   ]
  },
  {
   "cell_type": "code",
   "execution_count": 30,
   "metadata": {
    "collapsed": true
   },
   "outputs": [],
   "source": [
    "#File 3: \n",
    "#version WorldBank_request_14feb_2016a [32:38]\n",
    "#all_wb.to_json('./data/WorldBank_request_14feb_2016c')"
   ]
  },
  {
   "cell_type": "code",
   "execution_count": null,
   "metadata": {
    "collapsed": true
   },
   "outputs": [],
   "source": []
  }
 ],
 "metadata": {
  "kernelspec": {
   "display_name": "Python 2",
   "language": "python",
   "name": "python2"
  },
  "language_info": {
   "codemirror_mode": {
    "name": "ipython",
    "version": 2
   },
   "file_extension": ".py",
   "mimetype": "text/x-python",
   "name": "python",
   "nbconvert_exporter": "python",
   "pygments_lexer": "ipython2",
   "version": "2.7.11"
  }
 },
 "nbformat": 4,
 "nbformat_minor": 0
}
