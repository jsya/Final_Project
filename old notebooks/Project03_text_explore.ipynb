{
 "cells": [
  {
   "cell_type": "markdown",
   "metadata": {},
   "source": [
    "### Analyzing the World Bank's Twitter Feed, Judy Yang, DAT10 Project\n",
    "### Part 3. Text Exploration"
   ]
  },
  {
   "cell_type": "code",
   "execution_count": 330,
   "metadata": {
    "collapsed": false,
    "scrolled": false
   },
   "outputs": [
    {
     "data": {
      "text/plain": [
       "u'/Users/judyyang/Documents/GA_DS_course/Final_Project/notebooks'"
      ]
     },
     "execution_count": 330,
     "metadata": {},
     "output_type": "execute_result"
    }
   ],
   "source": [
    "pwd"
   ]
  },
  {
   "cell_type": "code",
   "execution_count": 331,
   "metadata": {
    "collapsed": false,
    "scrolled": false
   },
   "outputs": [],
   "source": [
    "from datetime import datetime\n",
    "import time\n",
    "import json\n",
    "import pandas as pd\n",
    "import operator \n",
    "import preprocess\n",
    "from collections import Counter\n",
    "#from textblob import TextBlob\n",
    "\n",
    "import pandas as pd\n",
    "import matplotlib.pyplot as plt\n",
    "import seaborn as sns\n",
    "%matplotlib inline\n",
    "#% sign \n",
    "\n",
    "import numpy as np\n",
    "import scipy as sp\n",
    "from sklearn.cross_validation import train_test_split\n",
    "from sklearn.feature_extraction.text import CountVectorizer, TfidfVectorizer\n",
    "from sklearn.naive_bayes import MultinomialNB\n",
    "from sklearn.linear_model import LogisticRegression\n",
    "from sklearn import metrics\n",
    "from textblob import TextBlob, Word\n",
    "from nltk.stem.snowball import SnowballStemmer\n",
    "\n",
    "from ttp import ttp\n",
    "\n",
    "pd.options.display.max_columns = 50\n",
    "pd.options.display.max_rows= 50\n",
    "pd.options.display.width= 120"
   ]
  },
  {
   "cell_type": "code",
   "execution_count": 332,
   "metadata": {
    "collapsed": false,
    "scrolled": false
   },
   "outputs": [
    {
     "data": {
      "text/plain": [
       "(3203, 13)"
      ]
     },
     "execution_count": 332,
     "metadata": {},
     "output_type": "execute_result"
    }
   ],
   "source": [
    "wb = pd.read_json('./data/WorldBank_n3201_clean_jan25_2016')\n",
    "wb.shape"
   ]
  },
  {
   "cell_type": "code",
   "execution_count": 333,
   "metadata": {
    "collapsed": false,
    "scrolled": false
   },
   "outputs": [
    {
     "data": {
      "text/plain": [
       "Index([u'created_at', u'favorite_count', u'has_at', u'has_ht', u'has_link', u'id', u'is_RT', u'length',\n",
       "       u'retweet_count', u'tags', u'text', u'text_clean', u'users'],\n",
       "      dtype='object')"
      ]
     },
     "execution_count": 333,
     "metadata": {},
     "output_type": "execute_result"
    }
   ],
   "source": [
    "wb.columns"
   ]
  },
  {
   "cell_type": "code",
   "execution_count": 334,
   "metadata": {
    "collapsed": false
   },
   "outputs": [
    {
     "data": {
      "text/plain": [
       "count                                                  3203\n",
       "unique                                                 3199\n",
       "top       RT @JimKim_WBG: We can end poverty, but we'll ...\n",
       "freq                                                      2\n",
       "Name: text, dtype: object"
      ]
     },
     "execution_count": 334,
     "metadata": {},
     "output_type": "execute_result"
    }
   ],
   "source": [
    "wb.text.describe()"
   ]
  },
  {
   "cell_type": "code",
   "execution_count": 335,
   "metadata": {
    "collapsed": false,
    "scrolled": false
   },
   "outputs": [
    {
     "data": {
      "text/plain": [
       "array([ u'Women contribute 60-80% of labor in #African #Agriculture. Support is critical: https://t.co/Q7g3p2gu6s https://t.co/hWOCGX23VT',\n",
       "       u'Inclusive growth in last 20yrs has allowed #Ghana to more than halve its #poverty rate: https://t.co/hYZplcntCN https://t.co/xkWCF2LCyD',\n",
       "       u'How public-private partnerships can play a constructive role in global economies in 2016: https://t.co/jyZ40PyhEC https://t.co/3N1i1yhEPZ',\n",
       "       ...,\n",
       "       u'Can an immigrant help #EndPoverty? We say yes! @dengueFever is proof: https://t.co/nBMXB5VIaI #Music4Dev https://t.co/FSilgpQamF',\n",
       "       u'Ending poverty means #education for the 250m children who can\\u2019t read or write: https://t.co/Z2ALwoo9zF https://t.co/ULOpZABJ0x',\n",
       "       u'#LatAm\\u2019s poorer families see slower #incomegrowth since 2010. What does this do to #inequality? https://t.co/YjJenQ930b #lacfeaturegraph'], dtype=object)"
      ]
     },
     "execution_count": 335,
     "metadata": {},
     "output_type": "execute_result"
    }
   ],
   "source": [
    "#Q: what is unicode exactly?\n",
    "wb.text.values"
   ]
  },
  {
   "cell_type": "code",
   "execution_count": 336,
   "metadata": {
    "collapsed": false,
    "scrolled": true
   },
   "outputs": [
    {
     "data": {
      "text/html": [
       "<div>\n",
       "<table border=\"1\" class=\"dataframe\">\n",
       "  <thead>\n",
       "    <tr style=\"text-align: right;\">\n",
       "      <th></th>\n",
       "      <th>created_at</th>\n",
       "      <th>favorite_count</th>\n",
       "      <th>has_at</th>\n",
       "      <th>has_ht</th>\n",
       "      <th>has_link</th>\n",
       "      <th>id</th>\n",
       "      <th>is_RT</th>\n",
       "      <th>length</th>\n",
       "      <th>retweet_count</th>\n",
       "      <th>tags</th>\n",
       "      <th>text</th>\n",
       "      <th>text_clean</th>\n",
       "      <th>users</th>\n",
       "    </tr>\n",
       "  </thead>\n",
       "  <tbody>\n",
       "    <tr>\n",
       "      <th>867</th>\n",
       "      <td>2015-12-01 09:22:32</td>\n",
       "      <td>0</td>\n",
       "      <td>True</td>\n",
       "      <td>True</td>\n",
       "      <td>True</td>\n",
       "      <td>671620386493177856</td>\n",
       "      <td>True</td>\n",
       "      <td>135</td>\n",
       "      <td>1218</td>\n",
       "      <td>climatechange COP21</td>\n",
       "      <td>RT @UN: \"Investing in #climatechange is a way ...</td>\n",
       "      <td>RT     Investing in  climatechange is a way to...</td>\n",
       "      <td>UN</td>\n",
       "    </tr>\n",
       "    <tr>\n",
       "      <th>519</th>\n",
       "      <td>2015-12-22 22:47:47</td>\n",
       "      <td>0</td>\n",
       "      <td>True</td>\n",
       "      <td>False</td>\n",
       "      <td>True</td>\n",
       "      <td>679433177954426880</td>\n",
       "      <td>True</td>\n",
       "      <td>140</td>\n",
       "      <td>1190</td>\n",
       "      <td></td>\n",
       "      <td>RT @UNICEF: Girls are not property. They have ...</td>\n",
       "      <td>RT    Girls are not property  They have a righ...</td>\n",
       "      <td>UNICEF UNICEFPakistan</td>\n",
       "    </tr>\n",
       "  </tbody>\n",
       "</table>\n",
       "</div>"
      ],
      "text/plain": [
       "             created_at  favorite_count has_at has_ht has_link                  id is_RT  length  retweet_count  \\\n",
       "867 2015-12-01 09:22:32               0   True   True     True  671620386493177856  True     135           1218   \n",
       "519 2015-12-22 22:47:47               0   True  False     True  679433177954426880  True     140           1190   \n",
       "\n",
       "                    tags                                               text  \\\n",
       "867  climatechange COP21  RT @UN: \"Investing in #climatechange is a way ...   \n",
       "519                       RT @UNICEF: Girls are not property. They have ...   \n",
       "\n",
       "                                            text_clean                  users  \n",
       "867  RT     Investing in  climatechange is a way to...                     UN  \n",
       "519  RT    Girls are not property  They have a righ...  UNICEF UNICEFPakistan  "
      ]
     },
     "execution_count": 336,
     "metadata": {},
     "output_type": "execute_result"
    }
   ],
   "source": [
    "wb.sort_values(\"retweet_count\", ascending=False).head(2)"
   ]
  },
  {
   "cell_type": "code",
   "execution_count": 337,
   "metadata": {
    "collapsed": false,
    "scrolled": true
   },
   "outputs": [
    {
     "data": {
      "text/html": [
       "<div>\n",
       "<table border=\"1\" class=\"dataframe\">\n",
       "  <thead>\n",
       "    <tr style=\"text-align: right;\">\n",
       "      <th></th>\n",
       "      <th>created_at</th>\n",
       "      <th>favorite_count</th>\n",
       "      <th>has_at</th>\n",
       "      <th>has_ht</th>\n",
       "      <th>has_link</th>\n",
       "      <th>id</th>\n",
       "      <th>is_RT</th>\n",
       "      <th>length</th>\n",
       "      <th>retweet_count</th>\n",
       "      <th>tags</th>\n",
       "      <th>text</th>\n",
       "      <th>text_clean</th>\n",
       "      <th>users</th>\n",
       "    </tr>\n",
       "  </thead>\n",
       "  <tbody>\n",
       "    <tr>\n",
       "      <th>2782</th>\n",
       "      <td>2015-08-26 03:01:02</td>\n",
       "      <td>505</td>\n",
       "      <td>False</td>\n",
       "      <td>True</td>\n",
       "      <td>True</td>\n",
       "      <td>636372752623083520</td>\n",
       "      <td>False</td>\n",
       "      <td>134</td>\n",
       "      <td>375</td>\n",
       "      <td>ServingECD</td>\n",
       "      <td>150 million children under 5 don't have access...</td>\n",
       "      <td>150 million children under 5 don t have access...</td>\n",
       "      <td></td>\n",
       "    </tr>\n",
       "    <tr>\n",
       "      <th>133</th>\n",
       "      <td>2016-01-16 13:05:15</td>\n",
       "      <td>420</td>\n",
       "      <td>False</td>\n",
       "      <td>True</td>\n",
       "      <td>True</td>\n",
       "      <td>688346273276121088</td>\n",
       "      <td>False</td>\n",
       "      <td>124</td>\n",
       "      <td>388</td>\n",
       "      <td>SriLanka WDR2016</td>\n",
       "      <td>#SriLanka is the cheapest place for mobile. Se...</td>\n",
       "      <td>SriLanka is the cheapest place for mobile  Se...</td>\n",
       "      <td></td>\n",
       "    </tr>\n",
       "    <tr>\n",
       "      <th>378</th>\n",
       "      <td>2016-01-01 15:05:25</td>\n",
       "      <td>364</td>\n",
       "      <td>False</td>\n",
       "      <td>False</td>\n",
       "      <td>True</td>\n",
       "      <td>682940695980699648</td>\n",
       "      <td>False</td>\n",
       "      <td>140</td>\n",
       "      <td>1057</td>\n",
       "      <td></td>\n",
       "      <td>Where the extreme poor live\\nIndia 33%  \\nChin...</td>\n",
       "      <td>Where the extreme poor live India 33    China ...</td>\n",
       "      <td></td>\n",
       "    </tr>\n",
       "  </tbody>\n",
       "</table>\n",
       "</div>"
      ],
      "text/plain": [
       "              created_at  favorite_count has_at has_ht has_link                  id  is_RT  length  retweet_count  \\\n",
       "2782 2015-08-26 03:01:02             505  False   True     True  636372752623083520  False     134            375   \n",
       "133  2016-01-16 13:05:15             420  False   True     True  688346273276121088  False     124            388   \n",
       "378  2016-01-01 15:05:25             364  False  False     True  682940695980699648  False     140           1057   \n",
       "\n",
       "                  tags                                               text  \\\n",
       "2782        ServingECD  150 million children under 5 don't have access...   \n",
       "133   SriLanka WDR2016  #SriLanka is the cheapest place for mobile. Se...   \n",
       "378                     Where the extreme poor live\\nIndia 33%  \\nChin...   \n",
       "\n",
       "                                             text_clean users  \n",
       "2782  150 million children under 5 don t have access...        \n",
       "133    SriLanka is the cheapest place for mobile  Se...        \n",
       "378   Where the extreme poor live India 33    China ...        "
      ]
     },
     "execution_count": 337,
     "metadata": {},
     "output_type": "execute_result"
    }
   ],
   "source": [
    "#why is there no scrolling in this ipython notebook?\n",
    "#check retweet and favorites\n",
    "wb.sort_values(\"favorite_count\", ascending=False).head(3)"
   ]
  },
  {
   "cell_type": "code",
   "execution_count": 338,
   "metadata": {
    "collapsed": false
   },
   "outputs": [
    {
     "data": {
      "text/html": [
       "<div>\n",
       "<table border=\"1\" class=\"dataframe\">\n",
       "  <thead>\n",
       "    <tr style=\"text-align: right;\">\n",
       "      <th></th>\n",
       "      <th>favorite_count</th>\n",
       "      <th>has_at</th>\n",
       "      <th>has_ht</th>\n",
       "      <th>has_link</th>\n",
       "      <th>id</th>\n",
       "      <th>is_RT</th>\n",
       "      <th>length</th>\n",
       "      <th>retweet_count</th>\n",
       "    </tr>\n",
       "  </thead>\n",
       "  <tbody>\n",
       "    <tr>\n",
       "      <th>count</th>\n",
       "      <td>3203.000000</td>\n",
       "      <td>3203</td>\n",
       "      <td>3203</td>\n",
       "      <td>3203</td>\n",
       "      <td>3.203000e+03</td>\n",
       "      <td>3203</td>\n",
       "      <td>3203.000000</td>\n",
       "      <td>3203.000000</td>\n",
       "    </tr>\n",
       "    <tr>\n",
       "      <th>mean</th>\n",
       "      <td>35.660006</td>\n",
       "      <td>0.360599</td>\n",
       "      <td>0.852014</td>\n",
       "      <td>0.976897</td>\n",
       "      <td>6.578737e+17</td>\n",
       "      <td>0.110521</td>\n",
       "      <td>132.106463</td>\n",
       "      <td>62.167968</td>\n",
       "    </tr>\n",
       "    <tr>\n",
       "      <th>std</th>\n",
       "      <td>27.852105</td>\n",
       "      <td>0.480249</td>\n",
       "      <td>0.355142</td>\n",
       "      <td>0.150255</td>\n",
       "      <td>1.780666e+16</td>\n",
       "      <td>0.313587</td>\n",
       "      <td>10.918137</td>\n",
       "      <td>63.263070</td>\n",
       "    </tr>\n",
       "    <tr>\n",
       "      <th>min</th>\n",
       "      <td>0.000000</td>\n",
       "      <td>False</td>\n",
       "      <td>False</td>\n",
       "      <td>False</td>\n",
       "      <td>6.273292e+17</td>\n",
       "      <td>False</td>\n",
       "      <td>33.000000</td>\n",
       "      <td>0.000000</td>\n",
       "    </tr>\n",
       "    <tr>\n",
       "      <th>25%</th>\n",
       "      <td>20.000000</td>\n",
       "      <td>0</td>\n",
       "      <td>1</td>\n",
       "      <td>1</td>\n",
       "      <td>6.442634e+17</td>\n",
       "      <td>0</td>\n",
       "      <td>128.000000</td>\n",
       "      <td>31.000000</td>\n",
       "    </tr>\n",
       "    <tr>\n",
       "      <th>50%</th>\n",
       "      <td>31.000000</td>\n",
       "      <td>0</td>\n",
       "      <td>1</td>\n",
       "      <td>1</td>\n",
       "      <td>6.552784e+17</td>\n",
       "      <td>0</td>\n",
       "      <td>135.000000</td>\n",
       "      <td>47.000000</td>\n",
       "    </tr>\n",
       "    <tr>\n",
       "      <th>75%</th>\n",
       "      <td>45.000000</td>\n",
       "      <td>1</td>\n",
       "      <td>1</td>\n",
       "      <td>1</td>\n",
       "      <td>6.731664e+17</td>\n",
       "      <td>0</td>\n",
       "      <td>140.000000</td>\n",
       "      <td>72.500000</td>\n",
       "    </tr>\n",
       "    <tr>\n",
       "      <th>max</th>\n",
       "      <td>505.000000</td>\n",
       "      <td>True</td>\n",
       "      <td>True</td>\n",
       "      <td>True</td>\n",
       "      <td>6.916683e+17</td>\n",
       "      <td>True</td>\n",
       "      <td>148.000000</td>\n",
       "      <td>1218.000000</td>\n",
       "    </tr>\n",
       "  </tbody>\n",
       "</table>\n",
       "</div>"
      ],
      "text/plain": [
       "       favorite_count    has_at    has_ht  has_link            id     is_RT       length  retweet_count\n",
       "count     3203.000000      3203      3203      3203  3.203000e+03      3203  3203.000000    3203.000000\n",
       "mean        35.660006  0.360599  0.852014  0.976897  6.578737e+17  0.110521   132.106463      62.167968\n",
       "std         27.852105  0.480249  0.355142  0.150255  1.780666e+16  0.313587    10.918137      63.263070\n",
       "min          0.000000     False     False     False  6.273292e+17     False    33.000000       0.000000\n",
       "25%         20.000000         0         1         1  6.442634e+17         0   128.000000      31.000000\n",
       "50%         31.000000         0         1         1  6.552784e+17         0   135.000000      47.000000\n",
       "75%         45.000000         1         1         1  6.731664e+17         0   140.000000      72.500000\n",
       "max        505.000000      True      True      True  6.916683e+17      True   148.000000    1218.000000"
      ]
     },
     "execution_count": 338,
     "metadata": {},
     "output_type": "execute_result"
    }
   ],
   "source": [
    "wb.describe()"
   ]
  },
  {
   "cell_type": "markdown",
   "metadata": {},
   "source": [
    "## Examine favorite and retweet count trends"
   ]
  },
  {
   "cell_type": "code",
   "execution_count": 339,
   "metadata": {
    "collapsed": true,
    "scrolled": false
   },
   "outputs": [],
   "source": [
    "#questions\n",
    "#Q: how to add the school function\n",
    "#look for tweets with poverty\n",
    "#which tweets have the most favorite, the most retweet\n",
    "#what are the most used words\n",
    "#when are the most tweets\n",
    "#what time of day should the President be tweeting?\n",
    "#what are the most popular tweets\n",
    "#can we add if there is a picture in the tweet, that may help retweets\n",
    "#how to know if a tweet has a picture or not"
   ]
  },
  {
   "cell_type": "code",
   "execution_count": 340,
   "metadata": {
    "collapsed": false,
    "scrolled": false
   },
   "outputs": [],
   "source": [
    "#wb['textblob']=TextBlob(\"wb.text\")"
   ]
  },
  {
   "cell_type": "code",
   "execution_count": 341,
   "metadata": {
    "collapsed": false,
    "scrolled": false
   },
   "outputs": [],
   "source": [
    "#Q: installing strftime?\n",
    "#wb['year']=wb.created_at.apply(lambda x: x.strftime('%y'))\n",
    "wb['year_month']=wb.created_at.apply(lambda x: x.strftime('%y-%m'))"
   ]
  },
  {
   "cell_type": "code",
   "execution_count": 342,
   "metadata": {
    "collapsed": false,
    "scrolled": false
   },
   "outputs": [
    {
     "data": {
      "text/html": [
       "<div>\n",
       "<table border=\"1\" class=\"dataframe\">\n",
       "  <thead>\n",
       "    <tr style=\"text-align: right;\">\n",
       "      <th></th>\n",
       "      <th>favorite_count</th>\n",
       "      <th>has_at</th>\n",
       "      <th>has_ht</th>\n",
       "      <th>has_link</th>\n",
       "      <th>id</th>\n",
       "      <th>is_RT</th>\n",
       "      <th>length</th>\n",
       "      <th>retweet_count</th>\n",
       "    </tr>\n",
       "    <tr>\n",
       "      <th>year_month</th>\n",
       "      <th></th>\n",
       "      <th></th>\n",
       "      <th></th>\n",
       "      <th></th>\n",
       "      <th></th>\n",
       "      <th></th>\n",
       "      <th></th>\n",
       "      <th></th>\n",
       "    </tr>\n",
       "  </thead>\n",
       "  <tbody>\n",
       "    <tr>\n",
       "      <th>15-08</th>\n",
       "      <td>28</td>\n",
       "      <td>False</td>\n",
       "      <td>True</td>\n",
       "      <td>True</td>\n",
       "      <td>6.325382e+17</td>\n",
       "      <td>False</td>\n",
       "      <td>134</td>\n",
       "      <td>45.0</td>\n",
       "    </tr>\n",
       "    <tr>\n",
       "      <th>15-09</th>\n",
       "      <td>24</td>\n",
       "      <td>False</td>\n",
       "      <td>True</td>\n",
       "      <td>True</td>\n",
       "      <td>6.447404e+17</td>\n",
       "      <td>False</td>\n",
       "      <td>136</td>\n",
       "      <td>39.0</td>\n",
       "    </tr>\n",
       "    <tr>\n",
       "      <th>15-10</th>\n",
       "      <td>29</td>\n",
       "      <td>False</td>\n",
       "      <td>True</td>\n",
       "      <td>True</td>\n",
       "      <td>6.544493e+17</td>\n",
       "      <td>False</td>\n",
       "      <td>135</td>\n",
       "      <td>40.0</td>\n",
       "    </tr>\n",
       "    <tr>\n",
       "      <th>15-11</th>\n",
       "      <td>35</td>\n",
       "      <td>False</td>\n",
       "      <td>True</td>\n",
       "      <td>True</td>\n",
       "      <td>6.661349e+17</td>\n",
       "      <td>False</td>\n",
       "      <td>136</td>\n",
       "      <td>54.5</td>\n",
       "    </tr>\n",
       "    <tr>\n",
       "      <th>15-12</th>\n",
       "      <td>39</td>\n",
       "      <td>False</td>\n",
       "      <td>True</td>\n",
       "      <td>True</td>\n",
       "      <td>6.769323e+17</td>\n",
       "      <td>False</td>\n",
       "      <td>135</td>\n",
       "      <td>57.0</td>\n",
       "    </tr>\n",
       "    <tr>\n",
       "      <th>16-01</th>\n",
       "      <td>43</td>\n",
       "      <td>False</td>\n",
       "      <td>True</td>\n",
       "      <td>True</td>\n",
       "      <td>6.871528e+17</td>\n",
       "      <td>False</td>\n",
       "      <td>136</td>\n",
       "      <td>68.5</td>\n",
       "    </tr>\n",
       "  </tbody>\n",
       "</table>\n",
       "</div>"
      ],
      "text/plain": [
       "            favorite_count has_at has_ht has_link            id  is_RT  length  retweet_count\n",
       "year_month                                                                                   \n",
       "15-08                   28  False   True     True  6.325382e+17  False     134           45.0\n",
       "15-09                   24  False   True     True  6.447404e+17  False     136           39.0\n",
       "15-10                   29  False   True     True  6.544493e+17  False     135           40.0\n",
       "15-11                   35  False   True     True  6.661349e+17  False     136           54.5\n",
       "15-12                   39  False   True     True  6.769323e+17  False     135           57.0\n",
       "16-01                   43  False   True     True  6.871528e+17  False     136           68.5"
      ]
     },
     "execution_count": 342,
     "metadata": {},
     "output_type": "execute_result"
    }
   ],
   "source": [
    "wb.groupby('year_month').median()"
   ]
  },
  {
   "cell_type": "code",
   "execution_count": 343,
   "metadata": {
    "collapsed": false,
    "scrolled": false
   },
   "outputs": [
    {
     "data": {
      "text/html": [
       "<div>\n",
       "<table border=\"1\" class=\"dataframe\">\n",
       "  <thead>\n",
       "    <tr style=\"text-align: right;\">\n",
       "      <th></th>\n",
       "      <th>favorite_count</th>\n",
       "      <th>has_at</th>\n",
       "      <th>has_ht</th>\n",
       "      <th>has_link</th>\n",
       "      <th>id</th>\n",
       "      <th>is_RT</th>\n",
       "      <th>length</th>\n",
       "      <th>retweet_count</th>\n",
       "    </tr>\n",
       "    <tr>\n",
       "      <th>year_month</th>\n",
       "      <th></th>\n",
       "      <th></th>\n",
       "      <th></th>\n",
       "      <th></th>\n",
       "      <th></th>\n",
       "      <th></th>\n",
       "      <th></th>\n",
       "      <th></th>\n",
       "    </tr>\n",
       "  </thead>\n",
       "  <tbody>\n",
       "    <tr>\n",
       "      <th>15-08</th>\n",
       "      <td>32.230769</td>\n",
       "      <td>0.357692</td>\n",
       "      <td>0.809615</td>\n",
       "      <td>0.980769</td>\n",
       "      <td>6.327469e+17</td>\n",
       "      <td>0.109615</td>\n",
       "      <td>130.888462</td>\n",
       "      <td>56.603846</td>\n",
       "    </tr>\n",
       "    <tr>\n",
       "      <th>15-09</th>\n",
       "      <td>25.890499</td>\n",
       "      <td>0.399356</td>\n",
       "      <td>0.866345</td>\n",
       "      <td>0.980676</td>\n",
       "      <td>6.445647e+17</td>\n",
       "      <td>0.101449</td>\n",
       "      <td>132.958132</td>\n",
       "      <td>47.014493</td>\n",
       "    </tr>\n",
       "    <tr>\n",
       "      <th>15-10</th>\n",
       "      <td>31.076433</td>\n",
       "      <td>0.445860</td>\n",
       "      <td>0.826752</td>\n",
       "      <td>0.954140</td>\n",
       "      <td>6.545571e+17</td>\n",
       "      <td>0.090446</td>\n",
       "      <td>131.903185</td>\n",
       "      <td>49.870064</td>\n",
       "    </tr>\n",
       "    <tr>\n",
       "      <th>15-11</th>\n",
       "      <td>38.522167</td>\n",
       "      <td>0.317734</td>\n",
       "      <td>0.886700</td>\n",
       "      <td>0.990148</td>\n",
       "      <td>6.660680e+17</td>\n",
       "      <td>0.133005</td>\n",
       "      <td>131.950739</td>\n",
       "      <td>74.073892</td>\n",
       "    </tr>\n",
       "    <tr>\n",
       "      <th>15-12</th>\n",
       "      <td>43.910603</td>\n",
       "      <td>0.309771</td>\n",
       "      <td>0.885655</td>\n",
       "      <td>0.987526</td>\n",
       "      <td>6.769661e+17</td>\n",
       "      <td>0.130977</td>\n",
       "      <td>132.070686</td>\n",
       "      <td>77.374220</td>\n",
       "    </tr>\n",
       "    <tr>\n",
       "      <th>16-01</th>\n",
       "      <td>51.858974</td>\n",
       "      <td>0.238462</td>\n",
       "      <td>0.858974</td>\n",
       "      <td>0.984615</td>\n",
       "      <td>6.871662e+17</td>\n",
       "      <td>0.117949</td>\n",
       "      <td>132.989744</td>\n",
       "      <td>87.320513</td>\n",
       "    </tr>\n",
       "  </tbody>\n",
       "</table>\n",
       "</div>"
      ],
      "text/plain": [
       "            favorite_count    has_at    has_ht  has_link            id     is_RT      length  retweet_count\n",
       "year_month                                                                                                 \n",
       "15-08            32.230769  0.357692  0.809615  0.980769  6.327469e+17  0.109615  130.888462      56.603846\n",
       "15-09            25.890499  0.399356  0.866345  0.980676  6.445647e+17  0.101449  132.958132      47.014493\n",
       "15-10            31.076433  0.445860  0.826752  0.954140  6.545571e+17  0.090446  131.903185      49.870064\n",
       "15-11            38.522167  0.317734  0.886700  0.990148  6.660680e+17  0.133005  131.950739      74.073892\n",
       "15-12            43.910603  0.309771  0.885655  0.987526  6.769661e+17  0.130977  132.070686      77.374220\n",
       "16-01            51.858974  0.238462  0.858974  0.984615  6.871662e+17  0.117949  132.989744      87.320513"
      ]
     },
     "execution_count": 343,
     "metadata": {},
     "output_type": "execute_result"
    }
   ],
   "source": [
    "wb.groupby('year_month').mean()"
   ]
  },
  {
   "cell_type": "code",
   "execution_count": 344,
   "metadata": {
    "collapsed": false,
    "scrolled": false
   },
   "outputs": [
    {
     "data": {
      "image/png": "[encoded data removed]",
      "text/plain": [
       "<matplotlib.figure.Figure at 0x12193e5d0>"
      ]
     },
     "metadata": {},
     "output_type": "display_data"
    }
   ],
   "source": [
    "#Q: why are my year-months sorted out of order\n",
    "#how to save this as a file to be copied elsewhere\n",
    "\n",
    "sns.stripplot(x=\"year_month\",y=\"favorite_count\",data=wb,jitter=True)\n",
    "plt.show()"
   ]
  },
  {
   "cell_type": "code",
   "execution_count": 345,
   "metadata": {
    "collapsed": false,
    "scrolled": false
   },
   "outputs": [
    {
     "data": {
      "image/png": "[encoded data removed]",
      "text/plain": [
       "<matplotlib.figure.Figure at 0x120dbf4d0>"
      ]
     },
     "metadata": {},
     "output_type": "display_data"
    }
   ],
   "source": [
    "#examine the high retweet and favorite items\n",
    "#how to change the axis \n",
    "#sns.boxplot(x=\"year_month\",y=\"retweet_count\",data=wb)\n",
    "sns.stripplot(x=\"year_month\",y=\"retweet_count\",data=wb,jitter=True)\n",
    "plt.show()"
   ]
  },
  {
   "cell_type": "code",
   "execution_count": 346,
   "metadata": {
    "collapsed": false,
    "scrolled": false
   },
   "outputs": [],
   "source": [
    "#plt.plot(wb.year_month, wb.favorite_count)\n",
    "#plt.show()"
   ]
  },
  {
   "cell_type": "markdown",
   "metadata": {},
   "source": [
    "**Part 2. Tokenize the tweets**\n",
    "- **What:** Separate text into units such as sentences or words\n",
    "- **Why:** Gives structure to previously unstructured text\n",
    "- **Notes:** Relatively easy with English language text, not easy with some languages"
   ]
  },
  {
   "cell_type": "code",
   "execution_count": 347,
   "metadata": {
    "collapsed": false
   },
   "outputs": [
    {
     "data": {
      "text/plain": [
       "count    3203.000000\n",
       "mean       62.167968\n",
       "std        63.263070\n",
       "min         0.000000\n",
       "25%        31.000000\n",
       "50%        47.000000\n",
       "75%        72.500000\n",
       "max      1218.000000\n",
       "Name: retweet_count, dtype: float64"
      ]
     },
     "execution_count": 347,
     "metadata": {},
     "output_type": "execute_result"
    }
   ],
   "source": [
    "wb.retweet_count.describe()"
   ]
  },
  {
   "cell_type": "code",
   "execution_count": 348,
   "metadata": {
    "collapsed": false,
    "scrolled": false
   },
   "outputs": [
    {
     "data": {
      "text/plain": [
       "count    3203.000000\n",
       "mean        0.191695\n",
       "std         0.393696\n",
       "min         0.000000\n",
       "25%         0.000000\n",
       "50%         0.000000\n",
       "75%         0.000000\n",
       "max         1.000000\n",
       "Name: favorite_high, dtype: float64"
      ]
     },
     "execution_count": 348,
     "metadata": {},
     "output_type": "execute_result"
    }
   ],
   "source": [
    "# define X and y\n",
    "\n",
    "X = wb.text_clean\n",
    "#X=wb.tags\n",
    "\n",
    "#y needs to be binomial\n",
    "wb['retweet_high']= np.where(wb.retweet_count>100, 1, 0)\n",
    "wb['favorite_high']= np.where(wb.favorite_count>50, 1, 0)\n",
    "\n",
    "#y = wb.retweet_high\n",
    "y = wb.favorite_high\n",
    "\n",
    "#wb.retweet_high.describe()\n",
    "wb.favorite_high.describe()"
   ]
  },
  {
   "cell_type": "code",
   "execution_count": 349,
   "metadata": {
    "collapsed": true
   },
   "outputs": [],
   "source": [
    "# split the new DataFrame into training and testing sets\n",
    "X_train, X_test, y_train, y_test = train_test_split(X, y, random_state=1)"
   ]
  },
  {
   "cell_type": "code",
   "execution_count": 350,
   "metadata": {
    "collapsed": false,
    "scrolled": false
   },
   "outputs": [],
   "source": [
    "# use CountVectorizer to create document-term matrices from X_train and X_test\n",
    "#vect = CountVectorizer()\n",
    "# remove English stop words\n",
    "vect = CountVectorizer(stop_words='english', lowercase=True)\n",
    "X_train_dtm = vect.fit_transform(X_train)\n",
    "X_test_dtm = vect.transform(X_test)"
   ]
  },
  {
   "cell_type": "code",
   "execution_count": 351,
   "metadata": {
    "collapsed": false,
    "scrolled": false
   },
   "outputs": [
    {
     "data": {
      "text/plain": [
       "(2402, 4047)"
      ]
     },
     "execution_count": 351,
     "metadata": {},
     "output_type": "execute_result"
    }
   ],
   "source": [
    "# rows are documents, columns are terms (aka \"tokens\" or \"features\")\n",
    "X_train_dtm.shape"
   ]
  },
  {
   "cell_type": "code",
   "execution_count": 352,
   "metadata": {
    "collapsed": false,
    "scrolled": false
   },
   "outputs": [
    {
     "name": "stdout",
     "output_type": "stream",
     "text": [
      "[u'works', u'workshop', u'world', u'worldaidsday', u'worldbank', u'worldfoodday', u'worldpneumoniaday', u'worldprematurityday', u'worldradiologyday', u'worldteachersday', u'worldtoiletday', u'worldwide', u'worrying', u'worse', u'worsen', u'worst', u'worth', u'wow', u'write', u'wrong', u'wrote', u'wwweek', u'year', u'yearinreview', u'years', u'yemencrisis', u'yes', u'yesterday', u'yield', u'yielding', u'yields', u'young', u'younger', u'youth', u'youth4climate', u'youthbiz', u'youthday', u'youthdialogues', u'youthnow', u'yr', u'yrs', u'yunus', u'za', u'zaatari', u'zanzibar', u'zaporowski', u'zarghony', u'zero', u'zerohunger', u'zones']\n"
     ]
    }
   ],
   "source": [
    "# last 50 features\n",
    "#Q: how to get rid of the URLs\n",
    "print vect.get_feature_names()[-50:]"
   ]
  },
  {
   "cell_type": "code",
   "execution_count": 353,
   "metadata": {
    "collapsed": false,
    "scrolled": false
   },
   "outputs": [
    {
     "data": {
      "text/plain": [
       "CountVectorizer(analyzer=u'word', binary=False, decode_error=u'strict',\n",
       "        dtype=<type 'numpy.int64'>, encoding=u'utf-8', input=u'content',\n",
       "        lowercase=True, max_df=1.0, max_features=None, min_df=1,\n",
       "        ngram_range=(1, 1), preprocessor=None, stop_words='english',\n",
       "        strip_accents=None, token_pattern=u'(?u)\\\\b\\\\w\\\\w+\\\\b',\n",
       "        tokenizer=None, vocabulary=None)"
      ]
     },
     "execution_count": 353,
     "metadata": {},
     "output_type": "execute_result"
    }
   ],
   "source": [
    "# show vectorizer options\n",
    "vect"
   ]
  },
  {
   "cell_type": "markdown",
   "metadata": {},
   "source": [
    "predict retweet or favorites"
   ]
  },
  {
   "cell_type": "code",
   "execution_count": 354,
   "metadata": {
    "collapsed": false
   },
   "outputs": [
    {
     "name": "stdout",
     "output_type": "stream",
     "text": [
      "0.792759051186\n"
     ]
    }
   ],
   "source": [
    "# use default options for CountVectorizer\n",
    "vect = CountVectorizer()\n",
    "\n",
    "# create document-term matrices\n",
    "X_train_dtm = vect.fit_transform(X_train)\n",
    "X_test_dtm = vect.transform(X_test)\n",
    "\n",
    "# use Naive Bayes to predict the star rating\n",
    "nb = MultinomialNB()\n",
    "nb.fit(X_train_dtm, y_train)\n",
    "y_pred_class = nb.predict(X_test_dtm)\n",
    "\n",
    "# calculate accuracy\n",
    "print metrics.accuracy_score(y_test, y_pred_class)"
   ]
  },
  {
   "cell_type": "code",
   "execution_count": 355,
   "metadata": {
    "collapsed": false
   },
   "outputs": [
    {
     "data": {
      "text/plain": [
       "0.80774032459425715"
      ]
     },
     "execution_count": 355,
     "metadata": {},
     "output_type": "execute_result"
    }
   ],
   "source": [
    "# calculate null accuracy\n",
    "y_test_binary = np.where(y_test==1, 1, 0)\n",
    "max(y_test_binary.mean(), 1 - y_test_binary.mean())"
   ]
  },
  {
   "cell_type": "code",
   "execution_count": 356,
   "metadata": {
    "collapsed": true
   },
   "outputs": [],
   "source": [
    "# define a function that accepts a vectorizer and calculates the accuracy\n",
    "def tokenize_test(vect):\n",
    "    X_train_dtm = vect.fit_transform(X_train)\n",
    "    print 'Features: ', X_train_dtm.shape[1]\n",
    "    X_test_dtm = vect.transform(X_test)\n",
    "    nb = MultinomialNB()\n",
    "    nb.fit(X_train_dtm, y_train)\n",
    "    y_pred_class = nb.predict(X_test_dtm)\n",
    "    print 'Accuracy: ', metrics.accuracy_score(y_test, y_pred_class)"
   ]
  },
  {
   "cell_type": "code",
   "execution_count": 357,
   "metadata": {
    "collapsed": false
   },
   "outputs": [
    {
     "name": "stdout",
     "output_type": "stream",
     "text": [
      "Features:  4265\n",
      "Accuracy:  0.792759051186\n"
     ]
    }
   ],
   "source": [
    "# include 1-grams and 2-grams\n",
    "vect = CountVectorizer(ngram_range=(1, 1))\n",
    "tokenize_test(vect)"
   ]
  },
  {
   "cell_type": "code",
   "execution_count": 358,
   "metadata": {
    "collapsed": false
   },
   "outputs": [
    {
     "name": "stdout",
     "output_type": "stream",
     "text": [
      "Features:  22887\n",
      "Accuracy:  0.81897627965\n"
     ]
    }
   ],
   "source": [
    "# include 1-grams and 2-grams\n",
    "vect = CountVectorizer(ngram_range=(1, 2))\n",
    "tokenize_test(vect)"
   ]
  },
  {
   "cell_type": "code",
   "execution_count": 359,
   "metadata": {
    "collapsed": false
   },
   "outputs": [
    {
     "name": "stdout",
     "output_type": "stream",
     "text": [
      "Features:  46039\n",
      "Accuracy:  0.820224719101\n"
     ]
    }
   ],
   "source": [
    "# include 1-grams and 2-grams\n",
    "vect = CountVectorizer(ngram_range=(1, 3))\n",
    "tokenize_test(vect)"
   ]
  },
  {
   "cell_type": "code",
   "execution_count": 360,
   "metadata": {
    "collapsed": false
   },
   "outputs": [
    {
     "name": "stdout",
     "output_type": "stream",
     "text": [
      "Features:  68658\n",
      "Accuracy:  0.8177278402\n"
     ]
    }
   ],
   "source": [
    "# include 1-grams and 2-grams\n",
    "vect = CountVectorizer(ngram_range=(1, 4))\n",
    "tokenize_test(vect)"
   ]
  },
  {
   "cell_type": "markdown",
   "metadata": {},
   "source": [
    "**Part 5. Introduction to TextBlob**\n"
   ]
  },
  {
   "cell_type": "code",
   "execution_count": 361,
   "metadata": {
    "collapsed": false,
    "scrolled": false
   },
   "outputs": [
    {
     "name": "stdout",
     "output_type": "stream",
     "text": [
      "Women contribute 60 80  of labor in  African  Agriculture  Support is critical     \n"
     ]
    }
   ],
   "source": [
    "# print the first review\n",
    "print wb.text_clean[0]"
   ]
  },
  {
   "cell_type": "code",
   "execution_count": 362,
   "metadata": {
    "collapsed": false,
    "scrolled": false
   },
   "outputs": [],
   "source": [
    "# save it as a TextBlob object\n",
    "review = TextBlob(wb.text_clean[0])"
   ]
  },
  {
   "cell_type": "code",
   "execution_count": 363,
   "metadata": {
    "collapsed": false,
    "scrolled": false
   },
   "outputs": [
    {
     "data": {
      "text/plain": [
       "WordList([u'Women', u'contribute', u'60', u'80', u'of', u'labor', u'in', u'African', u'Agriculture', u'Support', u'is', u'critical'])"
      ]
     },
     "execution_count": 363,
     "metadata": {},
     "output_type": "execute_result"
    }
   ],
   "source": [
    "# list the words\n",
    "review.words"
   ]
  },
  {
   "cell_type": "code",
   "execution_count": 364,
   "metadata": {
    "collapsed": false,
    "scrolled": false
   },
   "outputs": [
    {
     "data": {
      "text/plain": [
       "[Sentence(\"Women contribute 60 80  of labor in  African  Agriculture  Support is critical     \")]"
      ]
     },
     "execution_count": 364,
     "metadata": {},
     "output_type": "execute_result"
    }
   ],
   "source": [
    "# list the sentences\n",
    "review.sentences"
   ]
  },
  {
   "cell_type": "code",
   "execution_count": 365,
   "metadata": {
    "collapsed": false,
    "scrolled": false
   },
   "outputs": [
    {
     "data": {
      "text/plain": [
       "TextBlob(\"women contribute 60 80  of labor in  african  agriculture  support is critical     \")"
      ]
     },
     "execution_count": 365,
     "metadata": {},
     "output_type": "execute_result"
    }
   ],
   "source": [
    "# some string methods are available\n",
    "review.lower()"
   ]
  },
  {
   "cell_type": "markdown",
   "metadata": {},
   "source": [
    "**Part 6. Stemming and Lemmatization**\n",
    "\n",
    "- **What:** Reduce a word to its base/stem/root form\n",
    "- **Why:** Often makes sense to treat related words the same way\n",
    "- **Notes:**\n",
    "    - Uses a \"simple\" and fast rule-based approach\n",
    "    - Stemmed words are usually not shown to users (used for analysis/indexing)\n",
    "    - Some search engines treat words with the same stem as synonyms"
   ]
  },
  {
   "cell_type": "code",
   "execution_count": 366,
   "metadata": {
    "collapsed": false,
    "scrolled": false
   },
   "outputs": [
    {
     "name": "stdout",
     "output_type": "stream",
     "text": [
      "[u'women', u'contribut', u'60', u'80', u'of', u'labor', u'in', u'african', u'agricultur', u'support', u'is', u'critic']\n"
     ]
    }
   ],
   "source": [
    "# initialize stemmer\n",
    "stemmer = SnowballStemmer('english')\n",
    "\n",
    "# stem each word\n",
    "print [stemmer.stem(word) for word in review.words]"
   ]
  },
  {
   "cell_type": "markdown",
   "metadata": {},
   "source": [
    "**Part 7. Term Frequency and Inverse Document Frequency:**\n",
    "- **What:** Computes \"relative frequency\" that a word appears in a document compared to its frequency across all documents\n",
    "- **Why:** More useful than \"term frequency\" for identifying \"important\" words in each document (high frequency in that document, low frequency in other documents)\n",
    "- **Notes:** Used for search engine scoring, text summarization, document clustering"
   ]
  },
  {
   "cell_type": "code",
   "execution_count": 367,
   "metadata": {
    "collapsed": false,
    "scrolled": false
   },
   "outputs": [
    {
     "data": {
      "text/plain": [
       "(3203, 4647)"
      ]
     },
     "execution_count": 367,
     "metadata": {},
     "output_type": "execute_result"
    }
   ],
   "source": [
    "# create a document-term matrix using TF-IDF\n",
    "vect = TfidfVectorizer(stop_words='english')\n",
    "dtm = vect.fit_transform(wb.text_clean)\n",
    "features = vect.get_feature_names()\n",
    "dtm.shape"
   ]
  },
  {
   "cell_type": "markdown",
   "metadata": {},
   "source": [
    "**Part 8: Using TF-IDF to Summarize a Tweet**\n",
    "\n",
    "Reddit's autotldr uses the [SMMRY](http://smmry.com/about) algorithm, which is based on TF-IDF!"
   ]
  },
  {
   "cell_type": "code",
   "execution_count": 368,
   "metadata": {
    "collapsed": true,
    "scrolled": false
   },
   "outputs": [],
   "source": [
    "def summarize():\n",
    "    \n",
    "    # choose a random review that is at least 300 characters\n",
    "    review_length = 0\n",
    "    while review_length < 120:\n",
    "        review_id = np.random.randint(0, len(wb))\n",
    "        review_text = wb.text_clean[review_id]\n",
    "        review_length = len(review_text)\n",
    "    \n",
    "    # create a dictionary of words and their TF-IDF scores\n",
    "    word_scores = {}\n",
    "    for word in TextBlob(review_text).words:\n",
    "        word = word.lower()\n",
    "        if word in features:\n",
    "            word_scores[word] = dtm[review_id, features.index(word)]\n",
    "    \n",
    "    # print words with the top 5 TF-IDF scores\n",
    "    print 'TOP SCORING WORDS:'\n",
    "    top_scores = sorted(word_scores.items(), key=lambda x: x[1], reverse=True)[:5]\n",
    "    for word, score in top_scores:\n",
    "        print word\n",
    "    \n",
    "    # print 5 random words\n",
    "    print '\\n' + 'RANDOM WORDS:'\n",
    "    random_words = np.random.choice(word_scores.keys(), size=5, replace=False)\n",
    "    for word in random_words:\n",
    "        print word\n",
    "    \n",
    "    # print the review\n",
    "    print '\\n' + review_text"
   ]
  },
  {
   "cell_type": "code",
   "execution_count": 369,
   "metadata": {
    "collapsed": false,
    "scrolled": false
   },
   "outputs": [
    {
     "data": {
      "text/plain": [
       "count                                                  3203\n",
       "unique                                                 3099\n",
       "top        DYK gas flared at oil fields yr could power a...\n",
       "freq                                                      3\n",
       "Name: text_clean, dtype: object"
      ]
     },
     "execution_count": 369,
     "metadata": {},
     "output_type": "execute_result"
    }
   ],
   "source": [
    "wb.text_clean.describe()"
   ]
  },
  {
   "cell_type": "code",
   "execution_count": 370,
   "metadata": {
    "collapsed": false,
    "scrolled": false
   },
   "outputs": [
    {
     "name": "stdout",
     "output_type": "stream",
     "text": [
      "TOP SCORING WORDS:\n",
      "rt\n",
      "poor\n",
      "amp\n",
      "people\n",
      "better\n",
      "\n",
      "RANDOM WORDS:\n",
      "poor\n",
      "wbg\n",
      "better\n",
      "listen\n",
      "rt\n",
      "\n",
      "RT   WBG  To all the courageous people who are making this world a better place Listen to the aspirations of the poor  amp  lift up your  \n"
     ]
    }
   ],
   "source": [
    "summarize()"
   ]
  },
  {
   "cell_type": "markdown",
   "metadata": {},
   "source": [
    "#### Part 9: Sentiment Analysis"
   ]
  },
  {
   "cell_type": "code",
   "execution_count": 371,
   "metadata": {
    "collapsed": false,
    "scrolled": false
   },
   "outputs": [
    {
     "data": {
      "text/html": [
       "<div>\n",
       "<table border=\"1\" class=\"dataframe\">\n",
       "  <thead>\n",
       "    <tr style=\"text-align: right;\">\n",
       "      <th></th>\n",
       "      <th>created_at</th>\n",
       "      <th>favorite_count</th>\n",
       "      <th>has_at</th>\n",
       "      <th>has_ht</th>\n",
       "      <th>has_link</th>\n",
       "      <th>id</th>\n",
       "      <th>is_RT</th>\n",
       "      <th>length</th>\n",
       "      <th>retweet_count</th>\n",
       "      <th>tags</th>\n",
       "      <th>text</th>\n",
       "      <th>text_clean</th>\n",
       "      <th>users</th>\n",
       "      <th>year_month</th>\n",
       "      <th>retweet_high</th>\n",
       "      <th>favorite_high</th>\n",
       "    </tr>\n",
       "  </thead>\n",
       "  <tbody>\n",
       "    <tr>\n",
       "      <th>0</th>\n",
       "      <td>2016-01-25 17:05:53</td>\n",
       "      <td>36</td>\n",
       "      <td>False</td>\n",
       "      <td>True</td>\n",
       "      <td>True</td>\n",
       "      <td>691668323533262848</td>\n",
       "      <td>False</td>\n",
       "      <td>127</td>\n",
       "      <td>51</td>\n",
       "      <td>African Agriculture</td>\n",
       "      <td>Women contribute 60-80% of labor in #African #...</td>\n",
       "      <td>Women contribute 60 80  of labor in  African  ...</td>\n",
       "      <td></td>\n",
       "      <td>16-01</td>\n",
       "      <td>0</td>\n",
       "      <td>0</td>\n",
       "    </tr>\n",
       "  </tbody>\n",
       "</table>\n",
       "</div>"
      ],
      "text/plain": [
       "           created_at  favorite_count has_at has_ht has_link                  id  is_RT  length  retweet_count  \\\n",
       "0 2016-01-25 17:05:53              36  False   True     True  691668323533262848  False     127             51   \n",
       "\n",
       "                  tags                                               text  \\\n",
       "0  African Agriculture  Women contribute 60-80% of labor in #African #...   \n",
       "\n",
       "                                          text_clean users year_month  retweet_high  favorite_high  \n",
       "0  Women contribute 60 80  of labor in  African  ...            16-01             0              0  "
      ]
     },
     "execution_count": 371,
     "metadata": {},
     "output_type": "execute_result"
    }
   ],
   "source": [
    "# understanding the apply method\n",
    "wb.head(1)"
   ]
  },
  {
   "cell_type": "code",
   "execution_count": 372,
   "metadata": {
    "collapsed": true,
    "scrolled": false
   },
   "outputs": [],
   "source": [
    "# define a function that accepts text and returns the polarity\n",
    "def detect_sentiment(text):\n",
    "    return TextBlob(text.decode('utf-8')).sentiment.polarity"
   ]
  },
  {
   "cell_type": "code",
   "execution_count": 373,
   "metadata": {
    "collapsed": false,
    "scrolled": false
   },
   "outputs": [],
   "source": [
    "# create a new DataFrame column for sentiment (WARNING: SLOW!)\n",
    "wb['sentiment'] = wb.text_clean.apply(detect_sentiment)"
   ]
  },
  {
   "cell_type": "code",
   "execution_count": 374,
   "metadata": {
    "collapsed": false,
    "scrolled": false
   },
   "outputs": [
    {
     "data": {
      "text/plain": [
       "<matplotlib.axes._subplots.AxesSubplot at 0x12087f690>"
      ]
     },
     "execution_count": 374,
     "metadata": {},
     "output_type": "execute_result"
    },
    {
     "data": {
      "image/png": "[encoded data removed]",
      "text/plain": [
       "<matplotlib.figure.Figure at 0x12067ae50>"
      ]
     },
     "metadata": {},
     "output_type": "display_data"
    }
   ],
   "source": [
    "# box plot of sentiment grouped by stars\n",
    "wb.boxplot(column='sentiment', by='favorite_count')\n",
    "#like good news"
   ]
  },
  {
   "cell_type": "code",
   "execution_count": 375,
   "metadata": {
    "collapsed": false
   },
   "outputs": [
    {
     "data": {
      "text/plain": [
       "1078    Government works best when citizens are engage...\n",
       "113     Tourism leads to entry-level jobs that allow p...\n",
       "1569    What is the best news in the world today, acco...\n",
       "1730    \"One person's trash is another person's treasu...\n",
       "1828    RT @JimKim_WBG: This is the best story in the ...\n",
       "Name: text, dtype: object"
      ]
     },
     "execution_count": 375,
     "metadata": {},
     "output_type": "execute_result"
    }
   ],
   "source": [
    "# reviews with most positive sentiment\n",
    "wb[wb.sentiment == 1].text.head()"
   ]
  },
  {
   "cell_type": "code",
   "execution_count": 376,
   "metadata": {
    "collapsed": false
   },
   "outputs": [
    {
     "data": {
      "text/plain": [
       "Series([], Name: text, dtype: object)"
      ]
     },
     "execution_count": 376,
     "metadata": {},
     "output_type": "execute_result"
    }
   ],
   "source": [
    "# reviews with most negative sentiment\n",
    "wb[wb.sentiment == -1].text.head()"
   ]
  },
  {
   "cell_type": "code",
   "execution_count": null,
   "metadata": {
    "collapsed": true
   },
   "outputs": [],
   "source": [
    "#time with "
   ]
  }
 ],
 "metadata": {
  "kernelspec": {
   "display_name": "Python 2",
   "language": "python",
   "name": "python2"
  },
  "language_info": {
   "codemirror_mode": {
    "name": "ipython",
    "version": 2
   },
   "file_extension": ".py",
   "mimetype": "text/x-python",
   "name": "python",
   "nbconvert_exporter": "python",
   "pygments_lexer": "ipython2",
   "version": "2.7.11"
  }
 },
 "nbformat": 4,
 "nbformat_minor": 0
}
