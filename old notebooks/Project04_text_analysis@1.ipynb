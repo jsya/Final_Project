{
 "cells": [
  {
   "cell_type": "markdown",
   "metadata": {},
   "source": [
    "### Analyzing the World Bank's Twitter Feed, Judy Yang, DAT10 Project\n",
    "### Part 4. Text Analysis"
   ]
  },
  {
   "cell_type": "code",
   "execution_count": 40,
   "metadata": {
    "collapsed": false
   },
   "outputs": [
    {
     "data": {
      "text/plain": [
       "u'/Users/judyyang/Documents/GA_DS_course/Final_Project/notebooks'"
      ]
     },
     "execution_count": 40,
     "metadata": {},
     "output_type": "execute_result"
    }
   ],
   "source": [
    "pwd"
   ]
  },
  {
   "cell_type": "code",
   "execution_count": 41,
   "metadata": {
    "collapsed": false,
    "scrolled": false
   },
   "outputs": [],
   "source": [
    "from datetime import datetime\n",
    "import time\n",
    "import json\n",
    "import operator \n",
    "import preprocess\n",
    "from collections import Counter\n",
    "#from textblob import TextBlob\n",
    "\n",
    "import pandas as pd\n",
    "import matplotlib.pyplot as plt\n",
    "import seaborn as sns\n",
    "%matplotlib inline\n",
    "#% sign \n",
    "\n",
    "import numpy as np\n",
    "import scipy as sp\n",
    "from sklearn.cross_validation import train_test_split\n",
    "from sklearn.feature_extraction.text import CountVectorizer, TfidfVectorizer\n",
    "from sklearn.naive_bayes import MultinomialNB\n",
    "from sklearn.linear_model import LogisticRegression\n",
    "from sklearn import metrics\n",
    "from textblob import TextBlob, Word\n",
    "from nltk.stem.snowball import SnowballStemmer\n",
    "\n",
    "from ttp import ttp\n",
    "\n",
    "pd.options.display.max_columns = 50\n",
    "pd.options.display.max_rows= 50\n",
    "pd.options.display.width= 120"
   ]
  },
  {
   "cell_type": "code",
   "execution_count": 42,
   "metadata": {
    "collapsed": true
   },
   "outputs": [],
   "source": [
    "wb = pd.read_json('./data/WorldBank_all_processed_14feb_2016')\n",
    "\n",
    "# 1) Create dependent variables\n",
    "wb['retweet_high']= np.where(wb.retweet_count>1, 1, 0)\n",
    "wb['favorite_high']= np.where(wb.favorite_count>1, 1, 0)\n",
    "\n",
    "# 2) Create dummy variables for each account\n",
    "Iuser = pd.get_dummies(wb.user_screen_name, prefix='Iuser')\n",
    "# concatenate the original DataFrame and the dummy DataFrame\n",
    "wb = pd.concat([wb, Iuser], axis=1)"
   ]
  },
  {
   "cell_type": "code",
   "execution_count": 43,
   "metadata": {
    "collapsed": true
   },
   "outputs": [],
   "source": [
    "#Create time columns and dummies, and append\n",
    "wb['year']=wb.created_at.apply(lambda x: x.strftime('%y'))\n",
    "wb['year2'] = wb.year.astype('category', categories=[\"09\", \"10\", \"11\" ,\"12\", \"13\", \"14\" , \"15\", \"16\"], ordered=True)\n",
    "\n",
    "wb['year_month']=wb.created_at.apply(lambda x: x.strftime('%y-%m'))\n",
    "wb['hour']=wb.created_at.apply(lambda x: x.strftime('%H'))\n",
    "wb['hour_cat'] = wb.hour.astype('category', categories=[\"00\", \"01\", \"02\", \"03\", \"04\", \"05\", \"06\", \"07\",\"08\" ,\"09\", \"10\", \"11\" ,\"12\", \"13\", \"14\" , \"15\", \"16\", \"17\", \"18\", \"19\", \"20\", \"21\", \"22\", \"23\"], ordered=True)\n",
    "\n",
    "Ihour= pd.get_dummies(wb.hour, prefix='Ihour')\n",
    "wb = pd.concat([wb, Ihour], axis=1)"
   ]
  },
  {
   "cell_type": "code",
   "execution_count": 44,
   "metadata": {
    "collapsed": false
   },
   "outputs": [
    {
     "data": {
      "text/plain": [
       "(71287, 84)"
      ]
     },
     "execution_count": 44,
     "metadata": {},
     "output_type": "execute_result"
    }
   ],
   "source": [
    "wb = wb[(wb.is_RT==0)]\n",
    "wb.shape"
   ]
  },
  {
   "cell_type": "markdown",
   "metadata": {},
   "source": [
    "### How does tweeting behavior differ between accounts"
   ]
  },
  {
   "cell_type": "markdown",
   "metadata": {},
   "source": [
    "### Predictions: what determines high retweets and favorites?"
   ]
  },
  {
   "cell_type": "markdown",
   "metadata": {},
   "source": [
    "#### Part 1. Linear Regression\n",
    "\n",
    "How much of retweet or favorite responses can be explained by non-text"
   ]
  },
  {
   "cell_type": "code",
   "execution_count": 45,
   "metadata": {
    "collapsed": true
   },
   "outputs": [],
   "source": [
    "from sklearn.linear_model import LinearRegression\n",
    "from sklearn.cross_validation import train_test_split"
   ]
  },
  {
   "cell_type": "code",
   "execution_count": 46,
   "metadata": {
    "collapsed": true
   },
   "outputs": [],
   "source": [
    "# Exercise :  define a function that accepts a list of features and returns testing RMSE\n",
    "def train_test_rmse(cols):\n",
    "   \n",
    "    X = wb[cols]\n",
    "    y= wb.favorite_high\n",
    "    \n",
    "    X_train, X_test, y_train, y_test = train_test_split(X, y, random_state=99)\n",
    "    \n",
    "    # instantiate and fit\n",
    "    linreg = LinearRegression()\n",
    "    linreg.fit(X_train, y_train)\n",
    "\n",
    "    # print the coefficients\n",
    "    true=y_test\n",
    "    pred=linreg.predict(X_test)\n",
    "    rmse=np.sqrt(metrics.mean_squared_error(true, pred))\n",
    "    \n",
    "    return rmse"
   ]
  },
  {
   "cell_type": "code",
   "execution_count": 47,
   "metadata": {
    "collapsed": false
   },
   "outputs": [
    {
     "name": "stdout",
     "output_type": "stream",
     "text": [
      "0.487466320767\n",
      "0.485751100135\n",
      "0.485044715407\n",
      "0.398856454309\n",
      "0.398076404927\n",
      "0.39424989454\n"
     ]
    }
   ],
   "source": [
    "# compare different sets of features\n",
    "#1) has_at \n",
    "print train_test_rmse(['has_at'])\n",
    "\n",
    "#2) has a hashtag\n",
    "print train_test_rmse(['has_ht'])\n",
    "\n",
    "#3) has_at, has a hashtag, has a link, is a RT\n",
    "print train_test_rmse(['has_at', 'has_ht', 'has_link'])\n",
    "\n",
    "#4) dummy of users\n",
    "print train_test_rmse([u'Iuser_IFC_org', u'Iuser_JimKim_WBG', u'Iuser_MIGAWorldBank', u'Iuser_WBCaribbean', u'Iuser_WBG_Agriculture',\n",
    "       u'Iuser_WBG_Cities', u'Iuser_WBG_Climate', u'Iuser_WBG_Dev4Peace', u'Iuser_WBG_Education', u'Iuser_WBG_Energy', u'Iuser_WBG_Environment', u'Iuser_WBG_Finance', u'Iuser_WBG_Gender', u'Iuser_WBG_Health',\n",
    "       u'Iuser_WBG_LeadINLearn', u'Iuser_WBG_PPP', u'Iuser_WBG_Poverty', u'Iuser_WBG_SPLabor', u'Iuser_WBG_Transport',\n",
    "       u'Iuser_WBOpenFinances', u'Iuser_WBPubs', u'Iuser_WBedutech', u'Iuser_WorldBank', u'Iuser_WorldBankAfrica', u'Iuser_WorldBankECA', u'Iuser_WorldBankIndia', u'Iuser_WorldBankKenya', u'Iuser_WorldBankPSD',\n",
    "       u'Iuser_WorldBankPhotos', u'Iuser_WorldBankSAsia', u'Iuser_WorldBankSEI', u'Iuser_WorldBankVideos', u'Iuser_WorldBankWater', u'Iuser_WorldBank_IEG', u'Iuser_impacteval', u'Iuser_wb_research', u'Iuser_wbg_gov', u'Iuser_worldbankdata'])\n",
    "\n",
    "#5) 3+4\n",
    "print train_test_rmse(['has_at', 'has_ht', 'has_link' , 'is_RT', u'Iuser_IFC_org', u'Iuser_JimKim_WBG', u'Iuser_MIGAWorldBank', u'Iuser_WBCaribbean', u'Iuser_WBG_Agriculture',\n",
    "       u'Iuser_WBG_Cities', u'Iuser_WBG_Climate', u'Iuser_WBG_Dev4Peace', u'Iuser_WBG_Education', u'Iuser_WBG_Energy', u'Iuser_WBG_Environment', u'Iuser_WBG_Finance', u'Iuser_WBG_Gender', u'Iuser_WBG_Health',\n",
    "       u'Iuser_WBG_LeadINLearn', u'Iuser_WBG_PPP', u'Iuser_WBG_Poverty', u'Iuser_WBG_SPLabor', u'Iuser_WBG_Transport', u'Iuser_WBOpenFinances', u'Iuser_WBPubs', u'Iuser_WBedutech', u'Iuser_WorldBank', u'Iuser_WorldBankAfrica',\n",
    "       u'Iuser_WorldBankECA', u'Iuser_WorldBankIndia', u'Iuser_WorldBankKenya', u'Iuser_WorldBankPSD', u'Iuser_WorldBankPhotos', u'Iuser_WorldBankSAsia', u'Iuser_WorldBankSEI', u'Iuser_WorldBankVideos',\n",
    "       u'Iuser_WorldBankWater', u'Iuser_WorldBank_IEG', u'Iuser_impacteval', u'Iuser_wb_research', u'Iuser_wbg_gov', u'Iuser_worldbankdata'])\n",
    "\n",
    "#6) 5 + year\n",
    "print train_test_rmse(['has_at', 'has_ht', 'has_link' , 'is_RT', u'Iuser_IFC_org', u'Iuser_JimKim_WBG', u'Iuser_MIGAWorldBank', u'Iuser_WBCaribbean', u'Iuser_WBG_Agriculture',\n",
    "       u'Iuser_WBG_Cities', u'Iuser_WBG_Climate', u'Iuser_WBG_Dev4Peace', u'Iuser_WBG_Education', u'Iuser_WBG_Energy',\n",
    "       u'Iuser_WBG_Environment', u'Iuser_WBG_Finance', u'Iuser_WBG_Gender', u'Iuser_WBG_Health', u'Iuser_WBG_LeadINLearn', u'Iuser_WBG_PPP', u'Iuser_WBG_Poverty', u'Iuser_WBG_SPLabor', u'Iuser_WBG_Transport',\n",
    "       u'Iuser_WBOpenFinances', u'Iuser_WBPubs', u'Iuser_WBedutech', u'Iuser_WorldBank', u'Iuser_WorldBankAfrica',\n",
    "       u'Iuser_WorldBankECA', u'Iuser_WorldBankIndia', u'Iuser_WorldBankKenya', u'Iuser_WorldBankPSD', u'Iuser_WorldBankPhotos', u'Iuser_WorldBankSAsia', u'Iuser_WorldBankSEI', u'Iuser_WorldBankVideos',\n",
    "       u'Iuser_WorldBankWater', u'Iuser_WorldBank_IEG', u'Iuser_impacteval', u'Iuser_wb_research', u'Iuser_wbg_gov', u'Iuser_worldbankdata', 'year',\n",
    "                      u'Ihour_00',              u'Ihour_01',              u'Ihour_02',              u'Ihour_03',\n",
    "                    u'Ihour_04',              u'Ihour_05',              u'Ihour_06',              u'Ihour_07',\n",
    "                    u'Ihour_08',              u'Ihour_09',              u'Ihour_10',              u'Ihour_11',\n",
    "                    u'Ihour_12',              u'Ihour_13',              u'Ihour_14',              u'Ihour_15',\n",
    "                    u'Ihour_16',              u'Ihour_17',              u'Ihour_18',              u'Ihour_19',\n",
    "                    u'Ihour_20',              u'Ihour_21',              u'Ihour_22',              u'Ihour_23'])"
   ]
  },
  {
   "cell_type": "markdown",
   "metadata": {},
   "source": [
    "Comparing testing RMSE with null RMSE\n",
    "Null RMSE is the RMSE that could be achieved by always predicting the mean response value. It is a benchmark against which you may want to measure your regression model."
   ]
  },
  {
   "cell_type": "code",
   "execution_count": 323,
   "metadata": {
    "collapsed": false
   },
   "outputs": [
    {
     "data": {
      "text/plain": [
       "0.49258373541733785"
      ]
     },
     "execution_count": 323,
     "metadata": {},
     "output_type": "execute_result"
    }
   ],
   "source": [
    "# split X and y into training and testing sets\n",
    "# create a NumPy array with the same shape as y_test\n",
    "y_null = np.zeros_like(y_test, dtype=float)\n",
    "\n",
    "# fill the array with the mean value of y_test\n",
    "y_null.fill(y_test.mean())\n",
    "y_null\n",
    "# compute null RMSE\n",
    "np.sqrt(metrics.mean_squared_error(y_test, y_null))"
   ]
  },
  {
   "cell_type": "code",
   "execution_count": 48,
   "metadata": {
    "collapsed": false,
    "scrolled": false
   },
   "outputs": [
    {
     "data": {
      "text/plain": [
       "count    71287.000000\n",
       "mean         0.516490\n",
       "std          0.499732\n",
       "min          0.000000\n",
       "25%          0.000000\n",
       "50%          1.000000\n",
       "75%          1.000000\n",
       "max          1.000000\n",
       "Name: retweet_high, dtype: float64"
      ]
     },
     "execution_count": 48,
     "metadata": {},
     "output_type": "execute_result"
    }
   ],
   "source": [
    "# define X and y\n",
    "#X = wb.text_clean\n",
    "X=wb.tags\n",
    "\n",
    "y = wb.retweet_high\n",
    "#y = wb.favorite_high\n",
    "\n",
    "wb.retweet_high.describe()\n",
    "#wb.favorite_high.describe()"
   ]
  },
  {
   "cell_type": "code",
   "execution_count": 121,
   "metadata": {
    "collapsed": false
   },
   "outputs": [
    {
     "data": {
      "text/plain": [
       "count    71287.000000\n",
       "mean         6.261913\n",
       "std         19.884742\n",
       "min          0.000000\n",
       "25%          0.000000\n",
       "50%          2.000000\n",
       "75%          5.000000\n",
       "max       1941.000000\n",
       "Name: retweet_count, dtype: float64"
      ]
     },
     "execution_count": 121,
     "metadata": {},
     "output_type": "execute_result"
    }
   ],
   "source": [
    "wb.retweet_count.describe()"
   ]
  },
  {
   "cell_type": "code",
   "execution_count": 122,
   "metadata": {
    "collapsed": false
   },
   "outputs": [
    {
     "data": {
      "text/plain": [
       "count    71287.000000\n",
       "mean         3.993561\n",
       "std         16.345461\n",
       "min          0.000000\n",
       "25%          0.000000\n",
       "50%          1.000000\n",
       "75%          3.000000\n",
       "max       1406.000000\n",
       "Name: favorite_count, dtype: float64"
      ]
     },
     "execution_count": 122,
     "metadata": {},
     "output_type": "execute_result"
    }
   ],
   "source": [
    "wb.favorite_count.describe()"
   ]
  },
  {
   "cell_type": "markdown",
   "metadata": {},
   "source": [
    "**Part 2. Text Analysis**\n",
    "- **What:** Separate text into units such as sentences or words\n",
    "- **Why:** Gives structure to previously unstructured text\n",
    "- **Notes:** Relatively easy with English language text, not easy with some languages"
   ]
  },
  {
   "cell_type": "markdown",
   "metadata": {},
   "source": [
    "Tokenization"
   ]
  },
  {
   "cell_type": "code",
   "execution_count": null,
   "metadata": {
    "collapsed": true
   },
   "outputs": [],
   "source": [
    "# Tokenize into words\n",
    "tokens = []\n",
    "for tweet in tweets_text:\n",
    "    for word in nltk.word_tokenize(tweet):\n",
    "        tokens.append(word)\n",
    "tokens[:10]"
   ]
  },
  {
   "cell_type": "markdown",
   "metadata": {},
   "source": [
    "** Topic Modelling **"
   ]
  },
  {
   "cell_type": "code",
   "execution_count": null,
   "metadata": {
    "collapsed": true
   },
   "outputs": [],
   "source": [
    "from gensim import corpora, models, similarities\n",
    "from sklearn.feature_extraction.text import CountVectorizer\n",
    "from collections import defaultdict\n",
    "stoplist = set(CountVectorizer(stop_words='english').get_stop_words() )"
   ]
  },
  {
   "cell_type": "code",
   "execution_count": 125,
   "metadata": {
    "collapsed": false
   },
   "outputs": [
    {
     "data": {
      "text/plain": [
       "[u'0.019*&amp; + 0.015*new + 0.010*learn + 0.009*climate + 0.008*@ifc_org + 0.007*sustainable + 0.006*apply + 0.006*@worldbank + 0.006*don\\u2019t + 0.005*help',\n",
       " u'0.022*&amp; + 0.014*women + 0.011*#climate + 0.011*new + 0.010*sector + 0.008*bank + 0.008*#get2equal + 0.007*world + 0.007*#women + 0.007*@worldbank',\n",
       " u'0.039*&amp; + 0.016*#finaccess2020 + 0.014*#financialinclusion + 0.013*help + 0.012*access + 0.010*financial + 0.009*new + 0.008*countries + 0.007*growth + 0.007*energy',\n",
       " u'0.020*&amp; + 0.013*new + 0.009*@worldbank + 0.007*financing + 0.006*#foodsecurity + 0.006*cost + 0.006*#finance + 0.005*blog + 0.005*@guardian + 0.005*@worldbankafrica',\n",
       " u'0.016*&amp; + 0.010*help + 0.007*farmers + 0.007*#climatechange + 0.006*@worldbank + 0.006*poor + 0.005*new + 0.005*helping + 0.005*build + 0.005*@cgap',\n",
       " u'0.034*&amp; + 0.017*join + 0.015*live + 0.014*climate + 0.012*#climateaction + 0.009*#cop21 + 0.008*change + 0.008*finance + 0.008*watch + 0.008*#wblive',\n",
       " u'0.021*| + 0.014*carbon + 0.010*emissions + 0.009*learn + 0.008*want + 0.007*&amp; + 0.007*here: + 0.006*@worldbank + 0.006*#endenergypoverty + 0.006*join']"
      ]
     },
     "execution_count": 125,
     "metadata": {},
     "output_type": "execute_result"
    }
   ],
   "source": [
    "X=wb.text_clean\n",
    "texts = [[word for word in document.lower().split() if word not in stoplist] for document in list(X)]\n",
    "\n",
    "# count up the frequency of each word\n",
    "frequency = defaultdict(int)\n",
    "for text in texts:\n",
    "     for token in text:\n",
    "         frequency[token] += 1    \n",
    "        \n",
    "# (2) remove words that only occur a small number of times, fixing a feature space that's needlessly big.\n",
    "# once in the whole corpus, not just once in a single document\n",
    "\n",
    "texts = [[token for token in text if frequency[token] > 1] for text in texts]\n",
    "\n",
    "dictionary = corpora.Dictionary(texts)\n",
    "corpus = [dictionary.doc2bow(text) for text in texts]\n",
    "\n",
    "lda = models.LdaModel(corpus, id2word=dictionary, num_topics=7, alpha = 'auto')\n",
    "\n",
    "lda.show_topics()"
   ]
  },
  {
   "cell_type": "code",
   "execution_count": 126,
   "metadata": {
    "collapsed": false
   },
   "outputs": [
    {
     "ename": "AttributeError",
     "evalue": "'LdaModel' object has no attribute 'get_topic_terms'",
     "output_type": "error",
     "traceback": [
      "\u001b[0;31m---------------------------------------------------------------------------\u001b[0m",
      "\u001b[0;31mAttributeError\u001b[0m                            Traceback (most recent call last)",
      "\u001b[0;32m<ipython-input-126-5021a186bce2>\u001b[0m in \u001b[0;36m<module>\u001b[0;34m()\u001b[0m\n\u001b[0;32m----> 1\u001b[0;31m \u001b[0mlda\u001b[0m\u001b[0;34m.\u001b[0m\u001b[0mget_topic_terms\u001b[0m\u001b[0;34m(\u001b[0m\u001b[0;34m)\u001b[0m\u001b[0;34m\u001b[0m\u001b[0m\n\u001b[0m",
      "\u001b[0;31mAttributeError\u001b[0m: 'LdaModel' object has no attribute 'get_topic_terms'"
     ]
    }
   ],
   "source": [
    "lda.get_topic_terms()"
   ]
  },
  {
   "cell_type": "markdown",
   "metadata": {},
   "source": [
    "** Topic model only the top retweet and favorite tweets **"
   ]
  },
  {
   "cell_type": "code",
   "execution_count": 124,
   "metadata": {
    "collapsed": false
   },
   "outputs": [
    {
     "data": {
      "text/plain": [
       "[u'0.036*carbon + 0.020*amp + 0.017*new + 0.016*solar + 0.012*emissions + 0.011*climateaction + 0.011*cop21 + 0.010*low + 0.010*countries + 0.009*climatechange',\n",
       " u'0.033*amp + 0.030*s + 0.012*africa + 0.011*school + 0.010*growth + 0.009*economic + 0.009*education + 0.008*women + 0.007*world + 0.007*markets',\n",
       " u'0.028*amp + 0.019*s + 0.015*cities + 0.011*access + 0.011*climate + 0.009*help + 0.009*private + 0.008*sustainable + 0.008*water + 0.007*public',\n",
       " u'0.025*poverty + 0.020*amp + 0.017*world + 0.013*gender + 0.012*s + 0.008*china + 0.008*countries + 0.008*endpoverty + 0.007*ending + 0.007*extreme',\n",
       " u'0.032*amp + 0.031*climate + 0.029*energy + 0.013*renewable + 0.013*cop20 + 0.013*pricing + 0.012*agriculture + 0.012*s + 0.011*ways + 0.010*resilience',\n",
       " u'0.017*s + 0.017*amp + 0.015*ifc + 0.013*new + 0.011*development + 0.009*countries + 0.008*2015 + 0.008*report + 0.008*join + 0.007*transport',\n",
       " u'0.030*climate + 0.025*amp + 0.023*change + 0.021*s + 0.016*women + 0.014*climateaction + 0.010*education + 0.008*youth + 0.008*cop21 + 0.007*world']"
      ]
     },
     "execution_count": 124,
     "metadata": {},
     "output_type": "execute_result"
    }
   ],
   "source": [
    "X=wb[(wb.retweet_count>=5)|(wb.favorite_count>=3)].text_clean\n",
    "\n",
    "texts = [[word for word in document.lower().split() if word not in stoplist] for document in list(X)]\n",
    "\n",
    "# count up the frequency of each word\n",
    "frequency = defaultdict(int)\n",
    "for text in texts:\n",
    "     for token in text:\n",
    "         frequency[token] += 1 \n",
    "        \n",
    "# remove words that only occur a small number of times, fixing a feature space that's needlessly big.\n",
    "# once in the whole corpus, not just once in a single document\n",
    "texts = [[token for token in text if frequency[token] > 1] for text in texts]\n",
    "\n",
    "\n",
    "dictionary = corpora.Dictionary(texts)\n",
    "\n",
    "corpus = [dictionary.doc2bow(text) for text in texts]\n",
    "\n",
    "lda = models.LdaModel(corpus, id2word=dictionary, num_topics=7, alpha = 'auto')\n",
    "\n",
    "lda.show_topics()"
   ]
  },
  {
   "cell_type": "markdown",
   "metadata": {},
   "source": [
    "Train/test/split"
   ]
  },
  {
   "cell_type": "code",
   "execution_count": 49,
   "metadata": {
    "collapsed": true
   },
   "outputs": [],
   "source": [
    "# split the new DataFrame into training and testing sets\n",
    "X_train, X_test, y_train, y_test = train_test_split(X, y, random_state=1)"
   ]
  },
  {
   "cell_type": "code",
   "execution_count": 50,
   "metadata": {
    "collapsed": false,
    "scrolled": false
   },
   "outputs": [],
   "source": [
    "# use CountVectorizer to create document-term matrices from X_train and X_test\n",
    "#vect = CountVectorizer()\n",
    "# remove English stop words\n",
    "vect = CountVectorizer(stop_words='english', lowercase=True)\n",
    "X_train_dtm = vect.fit_transform(X_train)\n",
    "X_test_dtm = vect.transform(X_test)"
   ]
  },
  {
   "cell_type": "code",
   "execution_count": 51,
   "metadata": {
    "collapsed": false,
    "scrolled": false
   },
   "outputs": [
    {
     "data": {
      "text/plain": [
       "(53465, 4641)"
      ]
     },
     "execution_count": 51,
     "metadata": {},
     "output_type": "execute_result"
    }
   ],
   "source": [
    "# rows are documents, columns are terms (aka \"tokens\" or \"features\")\n",
    "X_train_dtm.shape"
   ]
  },
  {
   "cell_type": "code",
   "execution_count": 52,
   "metadata": {
    "collapsed": false,
    "scrolled": false
   },
   "outputs": [
    {
     "name": "stdout",
     "output_type": "stream",
     "text": [
      "[u'wwwek', u'wysd', u'yale', u'ycities', u'yearinreview', u'yearsoflivingdangerously', u'yearsproject', u'yemen', u'yemeni', u'yeswecan', u'yir', u'young', u'youngafrica', u'youngprofessionals', u'yourshot', u'youstink', u'youth', u'youth2030', u'youth4climate', u'youthbiz', u'youthday', u'youthdialogues', u'youthdialougues', u'youthemployment', u'youtheo', u'youthforchange', u'youthinag', u'youthink', u'youthnow', u'youths', u'youthskillsday', u'youthsummit', u'youthunemployment', u'youthwellbeingindex', u'youthwill', u'youtube', u'yugoslavia', u'za', u'zaatari', u'zambezi', u'zambia', u'zanzibar', u'zerohunger', u'zeropoverty2030', u'zerozero', u'zikavirus', u'zimbabwe', u'ziway', u'zoellick', u'zuckerberg']\n"
     ]
    }
   ],
   "source": [
    "# last 50 features\n",
    "print vect.get_feature_names()[-50:]"
   ]
  },
  {
   "cell_type": "code",
   "execution_count": 53,
   "metadata": {
    "collapsed": false,
    "scrolled": false
   },
   "outputs": [
    {
     "data": {
      "text/plain": [
       "CountVectorizer(analyzer=u'word', binary=False, decode_error=u'strict',\n",
       "        dtype=<type 'numpy.int64'>, encoding=u'utf-8', input=u'content',\n",
       "        lowercase=True, max_df=1.0, max_features=None, min_df=1,\n",
       "        ngram_range=(1, 1), preprocessor=None, stop_words='english',\n",
       "        strip_accents=None, token_pattern=u'(?u)\\\\b\\\\w\\\\w+\\\\b',\n",
       "        tokenizer=None, vocabulary=None)"
      ]
     },
     "execution_count": 53,
     "metadata": {},
     "output_type": "execute_result"
    }
   ],
   "source": [
    "# show vectorizer options\n",
    "vect"
   ]
  },
  {
   "cell_type": "markdown",
   "metadata": {},
   "source": [
    "### Predict retweet or favorites"
   ]
  },
  {
   "cell_type": "code",
   "execution_count": 54,
   "metadata": {
    "collapsed": false
   },
   "outputs": [
    {
     "name": "stdout",
     "output_type": "stream",
     "text": [
      "0.625350690158\n"
     ]
    }
   ],
   "source": [
    "# use default options for CountVectorizer\n",
    "vect = CountVectorizer()\n",
    "\n",
    "# create document-term matrices\n",
    "X_train_dtm = vect.fit_transform(X_train)\n",
    "X_test_dtm = vect.transform(X_test)\n",
    "\n",
    "# use Naive Bayes to predict the star rating\n",
    "nb = MultinomialNB()\n",
    "nb.fit(X_train_dtm, y_train)\n",
    "y_pred_class = nb.predict(X_test_dtm)\n",
    "\n",
    "# calculate accuracy\n",
    "print metrics.accuracy_score(y_test, y_pred_class)"
   ]
  },
  {
   "cell_type": "code",
   "execution_count": 55,
   "metadata": {
    "collapsed": false
   },
   "outputs": [
    {
     "data": {
      "text/plain": [
       "0.51509370441027946"
      ]
     },
     "execution_count": 55,
     "metadata": {},
     "output_type": "execute_result"
    }
   ],
   "source": [
    "# calculate null accuracy\n",
    "y_test_binary = np.where(y_test==1, 1, 0)\n",
    "max(y_test_binary.mean(), 1 - y_test_binary.mean())"
   ]
  },
  {
   "cell_type": "code",
   "execution_count": 56,
   "metadata": {
    "collapsed": true
   },
   "outputs": [],
   "source": [
    "# define a function that accepts a vectorizer and calculates the accuracy\n",
    "def tokenize_test(vect):\n",
    "    X_train_dtm = vect.fit_transform(X_train)\n",
    "    print 'Features: ', X_train_dtm.shape[1]\n",
    "    X_test_dtm = vect.transform(X_test)\n",
    "    nb = MultinomialNB()\n",
    "    nb.fit(X_train_dtm, y_train)\n",
    "    y_pred_class = nb.predict(X_test_dtm)\n",
    "    print 'Accuracy: ', metrics.accuracy_score(y_test, y_pred_class)"
   ]
  },
  {
   "cell_type": "code",
   "execution_count": 57,
   "metadata": {
    "collapsed": false
   },
   "outputs": [
    {
     "name": "stdout",
     "output_type": "stream",
     "text": [
      "Features:  4648\n",
      "Accuracy:  0.625350690158\n"
     ]
    }
   ],
   "source": [
    "# include 1-grams and 2-grams\n",
    "vect = CountVectorizer(ngram_range=(1, 1))\n",
    "tokenize_test(vect)"
   ]
  },
  {
   "cell_type": "code",
   "execution_count": 58,
   "metadata": {
    "collapsed": false
   },
   "outputs": [
    {
     "name": "stdout",
     "output_type": "stream",
     "text": [
      "Features:  21926\n",
      "Accuracy:  0.626416788239\n"
     ]
    }
   ],
   "source": [
    "# include 1-grams and 2-grams\n",
    "vect = CountVectorizer(ngram_range=(1, 2))\n",
    "tokenize_test(vect)"
   ]
  },
  {
   "cell_type": "code",
   "execution_count": 59,
   "metadata": {
    "collapsed": false
   },
   "outputs": [
    {
     "name": "stdout",
     "output_type": "stream",
     "text": [
      "Features:  31032\n",
      "Accuracy:  0.625911794411\n"
     ]
    }
   ],
   "source": [
    "# include 1-grams and 2-grams\n",
    "vect = CountVectorizer(ngram_range=(1, 3))\n",
    "tokenize_test(vect)"
   ]
  },
  {
   "cell_type": "code",
   "execution_count": 60,
   "metadata": {
    "collapsed": false
   },
   "outputs": [
    {
     "name": "stdout",
     "output_type": "stream",
     "text": [
      "Features:  33984\n",
      "Accuracy:  0.625911794411\n"
     ]
    }
   ],
   "source": [
    "# include 1-grams and 2-grams\n",
    "vect = CountVectorizer(ngram_range=(1, 4))\n",
    "tokenize_test(vect)"
   ]
  },
  {
   "cell_type": "markdown",
   "metadata": {},
   "source": [
    "**Part 5. Introduction to TextBlob**\n"
   ]
  },
  {
   "cell_type": "code",
   "execution_count": 61,
   "metadata": {
    "collapsed": false,
    "scrolled": false
   },
   "outputs": [
    {
     "name": "stdout",
     "output_type": "stream",
     "text": [
      "Eliminating  inequality is not only necessary for realizing one s potential but also for living with dignity  \n"
     ]
    }
   ],
   "source": [
    "# print the first review\n",
    "print wb.text_clean[0]"
   ]
  },
  {
   "cell_type": "code",
   "execution_count": 62,
   "metadata": {
    "collapsed": false,
    "scrolled": false
   },
   "outputs": [],
   "source": [
    "# save it as a TextBlob object\n",
    "review = TextBlob(wb.text_clean[0])"
   ]
  },
  {
   "cell_type": "code",
   "execution_count": 63,
   "metadata": {
    "collapsed": false,
    "scrolled": false
   },
   "outputs": [
    {
     "data": {
      "text/plain": [
       "WordList([u'Eliminating', u'inequality', u'is', u'not', u'only', u'necessary', u'for', u'realizing', u'one', u's', u'potential', u'but', u'also', u'for', u'living', u'with', u'dignity'])"
      ]
     },
     "execution_count": 63,
     "metadata": {},
     "output_type": "execute_result"
    }
   ],
   "source": [
    "# list the words\n",
    "review.words"
   ]
  },
  {
   "cell_type": "code",
   "execution_count": 64,
   "metadata": {
    "collapsed": false,
    "scrolled": false
   },
   "outputs": [
    {
     "data": {
      "text/plain": [
       "[Sentence(\"Eliminating  inequality is not only necessary for realizing one s potential but also for living with dignity  \")]"
      ]
     },
     "execution_count": 64,
     "metadata": {},
     "output_type": "execute_result"
    }
   ],
   "source": [
    "# list the sentences\n",
    "review.sentences"
   ]
  },
  {
   "cell_type": "code",
   "execution_count": 65,
   "metadata": {
    "collapsed": false,
    "scrolled": false
   },
   "outputs": [
    {
     "data": {
      "text/plain": [
       "TextBlob(\"eliminating  inequality is not only necessary for realizing one s potential but also for living with dignity  \")"
      ]
     },
     "execution_count": 65,
     "metadata": {},
     "output_type": "execute_result"
    }
   ],
   "source": [
    "# some string methods are available\n",
    "review.lower()"
   ]
  },
  {
   "cell_type": "markdown",
   "metadata": {},
   "source": [
    "**Part 6. Stemming and Lemmatization**\n",
    "\n",
    "- **What:** Reduce a word to its base/stem/root form\n",
    "- **Why:** Often makes sense to treat related words the same way\n",
    "- **Notes:**\n",
    "    - Uses a \"simple\" and fast rule-based approach\n",
    "    - Stemmed words are usually not shown to users (used for analysis/indexing)\n",
    "    - Some search engines treat words with the same stem as synonyms"
   ]
  },
  {
   "cell_type": "code",
   "execution_count": 66,
   "metadata": {
    "collapsed": false,
    "scrolled": false
   },
   "outputs": [
    {
     "name": "stdout",
     "output_type": "stream",
     "text": [
      "[u'elimin', u'inequ', u'is', u'not', u'onli', u'necessari', u'for', u'realiz', u'one', u's', u'potenti', u'but', u'also', u'for', u'live', u'with', u'digniti']\n"
     ]
    }
   ],
   "source": [
    "# initialize stemmer\n",
    "stemmer = SnowballStemmer('english')\n",
    "\n",
    "# stem each word\n",
    "print [stemmer.stem(word) for word in review.words]"
   ]
  },
  {
   "cell_type": "markdown",
   "metadata": {},
   "source": [
    "**Part 7. Term Frequency and Inverse Document Frequency:**\n",
    "- **What:** Computes \"relative frequency\" that a word appears in a document compared to its frequency across all documents\n",
    "- **Why:** More useful than \"term frequency\" for identifying \"important\" words in each document (high frequency in that document, low frequency in other documents)\n",
    "- **Notes:** Used for search engine scoring, text summarization, document clustering"
   ]
  },
  {
   "cell_type": "code",
   "execution_count": 67,
   "metadata": {
    "collapsed": false,
    "scrolled": false
   },
   "outputs": [
    {
     "data": {
      "text/plain": [
       "(71287, 24072)"
      ]
     },
     "execution_count": 67,
     "metadata": {},
     "output_type": "execute_result"
    }
   ],
   "source": [
    "# create a document-term matrix using TF-IDF\n",
    "vect = TfidfVectorizer(stop_words='english')\n",
    "dtm = vect.fit_transform(wb.text_clean)\n",
    "features = vect.get_feature_names()\n",
    "dtm.shape"
   ]
  },
  {
   "cell_type": "markdown",
   "metadata": {},
   "source": [
    "**Part 8: Using TF-IDF to Summarize a Tweet**\n",
    "\n",
    "Reddit's autotldr uses the [SMMRY](http://smmry.com/about) algorithm, which is based on TF-IDF!"
   ]
  },
  {
   "cell_type": "code",
   "execution_count": 68,
   "metadata": {
    "collapsed": true,
    "scrolled": false
   },
   "outputs": [],
   "source": [
    "def summarize():\n",
    "    \n",
    "    # choose a random review that is at least 300 characters\n",
    "    review_length = 0\n",
    "    while review_length < 120:\n",
    "        review_id = np.random.randint(0, len(wb))\n",
    "        review_text = wb.text_clean[review_id]\n",
    "        review_length = len(review_text)\n",
    "    \n",
    "    # create a dictionary of words and their TF-IDF scores\n",
    "    word_scores = {}\n",
    "    for word in TextBlob(review_text).words:\n",
    "        word = word.lower()\n",
    "        if word in features:\n",
    "            word_scores[word] = dtm[review_id, features.index(word)]\n",
    "    \n",
    "    # print words with the top 5 TF-IDF scores\n",
    "    print 'TOP SCORING WORDS:'\n",
    "    top_scores = sorted(word_scores.items(), key=lambda x: x[1], reverse=True)[:5]\n",
    "    for word, score in top_scores:\n",
    "        print word\n",
    "    \n",
    "    # print 5 random words\n",
    "    print '\\n' + 'RANDOM WORDS:'\n",
    "    random_words = np.random.choice(word_scores.keys(), size=5, replace=False)\n",
    "    for word in random_words:\n",
    "        print word\n",
    "    \n",
    "    # print the review\n",
    "    print '\\n' + review_text"
   ]
  },
  {
   "cell_type": "code",
   "execution_count": 69,
   "metadata": {
    "collapsed": false,
    "scrolled": false
   },
   "outputs": [
    {
     "data": {
      "text/plain": [
       "count     71287\n",
       "unique    60627\n",
       "top            \n",
       "freq         43\n",
       "Name: text_clean, dtype: object"
      ]
     },
     "execution_count": 69,
     "metadata": {},
     "output_type": "execute_result"
    }
   ],
   "source": [
    "wb.text_clean.describe()"
   ]
  },
  {
   "cell_type": "code",
   "execution_count": 70,
   "metadata": {
    "collapsed": false,
    "scrolled": false
   },
   "outputs": [
    {
     "ename": "KeyError",
     "evalue": "18931.0",
     "output_type": "error",
     "traceback": [
      "\u001b[0;31m---------------------------------------------------------------------------\u001b[0m",
      "\u001b[0;31mKeyError\u001b[0m                                  Traceback (most recent call last)",
      "\u001b[0;32m<ipython-input-70-1294b1df4d1d>\u001b[0m in \u001b[0;36m<module>\u001b[0;34m()\u001b[0m\n\u001b[0;32m----> 1\u001b[0;31m \u001b[0msummarize\u001b[0m\u001b[0;34m(\u001b[0m\u001b[0;34m)\u001b[0m\u001b[0;34m\u001b[0m\u001b[0m\n\u001b[0m",
      "\u001b[0;32m<ipython-input-68-aa18bfadc6a8>\u001b[0m in \u001b[0;36msummarize\u001b[0;34m()\u001b[0m\n\u001b[1;32m      5\u001b[0m     \u001b[0;32mwhile\u001b[0m \u001b[0mreview_length\u001b[0m \u001b[0;34m<\u001b[0m \u001b[0;36m120\u001b[0m\u001b[0;34m:\u001b[0m\u001b[0;34m\u001b[0m\u001b[0m\n\u001b[1;32m      6\u001b[0m         \u001b[0mreview_id\u001b[0m \u001b[0;34m=\u001b[0m \u001b[0mnp\u001b[0m\u001b[0;34m.\u001b[0m\u001b[0mrandom\u001b[0m\u001b[0;34m.\u001b[0m\u001b[0mrandint\u001b[0m\u001b[0;34m(\u001b[0m\u001b[0;36m0\u001b[0m\u001b[0;34m,\u001b[0m \u001b[0mlen\u001b[0m\u001b[0;34m(\u001b[0m\u001b[0mwb\u001b[0m\u001b[0;34m)\u001b[0m\u001b[0;34m)\u001b[0m\u001b[0;34m\u001b[0m\u001b[0m\n\u001b[0;32m----> 7\u001b[0;31m         \u001b[0mreview_text\u001b[0m \u001b[0;34m=\u001b[0m \u001b[0mwb\u001b[0m\u001b[0;34m.\u001b[0m\u001b[0mtext_clean\u001b[0m\u001b[0;34m[\u001b[0m\u001b[0mreview_id\u001b[0m\u001b[0;34m]\u001b[0m\u001b[0;34m\u001b[0m\u001b[0m\n\u001b[0m\u001b[1;32m      8\u001b[0m         \u001b[0mreview_length\u001b[0m \u001b[0;34m=\u001b[0m \u001b[0mlen\u001b[0m\u001b[0;34m(\u001b[0m\u001b[0mreview_text\u001b[0m\u001b[0;34m)\u001b[0m\u001b[0;34m\u001b[0m\u001b[0m\n\u001b[1;32m      9\u001b[0m \u001b[0;34m\u001b[0m\u001b[0m\n",
      "\u001b[0;32m/Users/judyyang/anaconda/lib/python2.7/site-packages/pandas/core/series.pyc\u001b[0m in \u001b[0;36m__getitem__\u001b[0;34m(self, key)\u001b[0m\n\u001b[1;32m    555\u001b[0m     \u001b[0;32mdef\u001b[0m \u001b[0m__getitem__\u001b[0m\u001b[0;34m(\u001b[0m\u001b[0mself\u001b[0m\u001b[0;34m,\u001b[0m \u001b[0mkey\u001b[0m\u001b[0;34m)\u001b[0m\u001b[0;34m:\u001b[0m\u001b[0;34m\u001b[0m\u001b[0m\n\u001b[1;32m    556\u001b[0m         \u001b[0;32mtry\u001b[0m\u001b[0;34m:\u001b[0m\u001b[0;34m\u001b[0m\u001b[0m\n\u001b[0;32m--> 557\u001b[0;31m             \u001b[0mresult\u001b[0m \u001b[0;34m=\u001b[0m \u001b[0mself\u001b[0m\u001b[0;34m.\u001b[0m\u001b[0mindex\u001b[0m\u001b[0;34m.\u001b[0m\u001b[0mget_value\u001b[0m\u001b[0;34m(\u001b[0m\u001b[0mself\u001b[0m\u001b[0;34m,\u001b[0m \u001b[0mkey\u001b[0m\u001b[0;34m)\u001b[0m\u001b[0;34m\u001b[0m\u001b[0m\n\u001b[0m\u001b[1;32m    558\u001b[0m \u001b[0;34m\u001b[0m\u001b[0m\n\u001b[1;32m    559\u001b[0m             \u001b[0;32mif\u001b[0m \u001b[0;32mnot\u001b[0m \u001b[0mnp\u001b[0m\u001b[0;34m.\u001b[0m\u001b[0misscalar\u001b[0m\u001b[0;34m(\u001b[0m\u001b[0mresult\u001b[0m\u001b[0;34m)\u001b[0m\u001b[0;34m:\u001b[0m\u001b[0;34m\u001b[0m\u001b[0m\n",
      "\u001b[0;32m/Users/judyyang/anaconda/lib/python2.7/site-packages/pandas/core/index.pyc\u001b[0m in \u001b[0;36mget_value\u001b[0;34m(self, series, key)\u001b[0m\n\u001b[1;32m   3882\u001b[0m \u001b[0;34m\u001b[0m\u001b[0m\n\u001b[1;32m   3883\u001b[0m         \u001b[0mk\u001b[0m \u001b[0;34m=\u001b[0m \u001b[0m_values_from_object\u001b[0m\u001b[0;34m(\u001b[0m\u001b[0mkey\u001b[0m\u001b[0;34m)\u001b[0m\u001b[0;34m\u001b[0m\u001b[0m\n\u001b[0;32m-> 3884\u001b[0;31m         \u001b[0mloc\u001b[0m \u001b[0;34m=\u001b[0m \u001b[0mself\u001b[0m\u001b[0;34m.\u001b[0m\u001b[0mget_loc\u001b[0m\u001b[0;34m(\u001b[0m\u001b[0mk\u001b[0m\u001b[0;34m)\u001b[0m\u001b[0;34m\u001b[0m\u001b[0m\n\u001b[0m\u001b[1;32m   3885\u001b[0m         \u001b[0mnew_values\u001b[0m \u001b[0;34m=\u001b[0m \u001b[0m_values_from_object\u001b[0m\u001b[0;34m(\u001b[0m\u001b[0mseries\u001b[0m\u001b[0;34m)\u001b[0m\u001b[0;34m[\u001b[0m\u001b[0mloc\u001b[0m\u001b[0;34m]\u001b[0m\u001b[0;34m\u001b[0m\u001b[0m\n\u001b[1;32m   3886\u001b[0m \u001b[0;34m\u001b[0m\u001b[0m\n",
      "\u001b[0;32m/Users/judyyang/anaconda/lib/python2.7/site-packages/pandas/core/index.pyc\u001b[0m in \u001b[0;36mget_loc\u001b[0;34m(self, key, method, tolerance)\u001b[0m\n\u001b[1;32m   3940\u001b[0m             \u001b[0;32mpass\u001b[0m\u001b[0;34m\u001b[0m\u001b[0m\n\u001b[1;32m   3941\u001b[0m         return super(Float64Index, self).get_loc(key, method=method,\n\u001b[0;32m-> 3942\u001b[0;31m                                                  tolerance=tolerance)\n\u001b[0m\u001b[1;32m   3943\u001b[0m \u001b[0;34m\u001b[0m\u001b[0m\n\u001b[1;32m   3944\u001b[0m     \u001b[0;34m@\u001b[0m\u001b[0mproperty\u001b[0m\u001b[0;34m\u001b[0m\u001b[0m\n",
      "\u001b[0;32m/Users/judyyang/anaconda/lib/python2.7/site-packages/pandas/core/index.pyc\u001b[0m in \u001b[0;36mget_loc\u001b[0;34m(self, key, method, tolerance)\u001b[0m\n\u001b[1;32m   1757\u001b[0m                                  'backfill or nearest lookups')\n\u001b[1;32m   1758\u001b[0m             \u001b[0mkey\u001b[0m \u001b[0;34m=\u001b[0m \u001b[0m_values_from_object\u001b[0m\u001b[0;34m(\u001b[0m\u001b[0mkey\u001b[0m\u001b[0;34m)\u001b[0m\u001b[0;34m\u001b[0m\u001b[0m\n\u001b[0;32m-> 1759\u001b[0;31m             \u001b[0;32mreturn\u001b[0m \u001b[0mself\u001b[0m\u001b[0;34m.\u001b[0m\u001b[0m_engine\u001b[0m\u001b[0;34m.\u001b[0m\u001b[0mget_loc\u001b[0m\u001b[0;34m(\u001b[0m\u001b[0mkey\u001b[0m\u001b[0;34m)\u001b[0m\u001b[0;34m\u001b[0m\u001b[0m\n\u001b[0m\u001b[1;32m   1760\u001b[0m \u001b[0;34m\u001b[0m\u001b[0m\n\u001b[1;32m   1761\u001b[0m         indexer = self.get_indexer([key], method=method,\n",
      "\u001b[0;32mpandas/index.pyx\u001b[0m in \u001b[0;36mpandas.index.IndexEngine.get_loc (pandas/index.c:3979)\u001b[0;34m()\u001b[0m\n",
      "\u001b[0;32mpandas/index.pyx\u001b[0m in \u001b[0;36mpandas.index.IndexEngine.get_loc (pandas/index.c:3843)\u001b[0;34m()\u001b[0m\n",
      "\u001b[0;32mpandas/hashtable.pyx\u001b[0m in \u001b[0;36mpandas.hashtable.Float64HashTable.get_item (pandas/hashtable.c:9556)\u001b[0;34m()\u001b[0m\n",
      "\u001b[0;32mpandas/hashtable.pyx\u001b[0m in \u001b[0;36mpandas.hashtable.Float64HashTable.get_item (pandas/hashtable.c:9494)\u001b[0;34m()\u001b[0m\n",
      "\u001b[0;31mKeyError\u001b[0m: 18931.0"
     ]
    }
   ],
   "source": [
    "summarize()"
   ]
  },
  {
   "cell_type": "markdown",
   "metadata": {},
   "source": [
    "#### Part 9: Sentiment Analysis"
   ]
  },
  {
   "cell_type": "code",
   "execution_count": 71,
   "metadata": {
    "collapsed": false,
    "scrolled": false
   },
   "outputs": [
    {
     "data": {
      "text/html": [
       "<div>\n",
       "<table border=\"1\" class=\"dataframe\">\n",
       "  <thead>\n",
       "    <tr style=\"text-align: right;\">\n",
       "      <th></th>\n",
       "      <th>created_at</th>\n",
       "      <th>favorite_count</th>\n",
       "      <th>has_at</th>\n",
       "      <th>has_ht</th>\n",
       "      <th>has_link</th>\n",
       "      <th>id</th>\n",
       "      <th>index</th>\n",
       "      <th>is_RT</th>\n",
       "      <th>length</th>\n",
       "      <th>retweet_count</th>\n",
       "      <th>tags</th>\n",
       "      <th>text</th>\n",
       "      <th>text_clean</th>\n",
       "      <th>user_screen_name</th>\n",
       "      <th>users</th>\n",
       "      <th>retweet_high</th>\n",
       "      <th>favorite_high</th>\n",
       "      <th>Iuser_IFC_org</th>\n",
       "      <th>Iuser_JimKim_WBG</th>\n",
       "      <th>Iuser_MIGAWorldBank</th>\n",
       "      <th>Iuser_WBCaribbean</th>\n",
       "      <th>Iuser_WBG_Agriculture</th>\n",
       "      <th>Iuser_WBG_Cities</th>\n",
       "      <th>Iuser_WBG_Climate</th>\n",
       "      <th>Iuser_WBG_Dev4Peace</th>\n",
       "      <th>...</th>\n",
       "      <th>hour_cat</th>\n",
       "      <th>Ihour_00</th>\n",
       "      <th>Ihour_01</th>\n",
       "      <th>Ihour_02</th>\n",
       "      <th>Ihour_03</th>\n",
       "      <th>Ihour_04</th>\n",
       "      <th>Ihour_05</th>\n",
       "      <th>Ihour_06</th>\n",
       "      <th>Ihour_07</th>\n",
       "      <th>Ihour_08</th>\n",
       "      <th>Ihour_09</th>\n",
       "      <th>Ihour_10</th>\n",
       "      <th>Ihour_11</th>\n",
       "      <th>Ihour_12</th>\n",
       "      <th>Ihour_13</th>\n",
       "      <th>Ihour_14</th>\n",
       "      <th>Ihour_15</th>\n",
       "      <th>Ihour_16</th>\n",
       "      <th>Ihour_17</th>\n",
       "      <th>Ihour_18</th>\n",
       "      <th>Ihour_19</th>\n",
       "      <th>Ihour_20</th>\n",
       "      <th>Ihour_21</th>\n",
       "      <th>Ihour_22</th>\n",
       "      <th>Ihour_23</th>\n",
       "    </tr>\n",
       "  </thead>\n",
       "  <tbody>\n",
       "    <tr>\n",
       "      <th>0</th>\n",
       "      <td>2016-02-01 23:20:36</td>\n",
       "      <td>1</td>\n",
       "      <td>False</td>\n",
       "      <td>True</td>\n",
       "      <td>True</td>\n",
       "      <td>694299339649347584</td>\n",
       "      <td>0</td>\n",
       "      <td>False</td>\n",
       "      <td>132</td>\n",
       "      <td>1</td>\n",
       "      <td>inequality</td>\n",
       "      <td>Eliminating #inequality is not only necessary ...</td>\n",
       "      <td>Eliminating  inequality is not only necessary ...</td>\n",
       "      <td>WBG_Poverty</td>\n",
       "      <td></td>\n",
       "      <td>0</td>\n",
       "      <td>0</td>\n",
       "      <td>0</td>\n",
       "      <td>0</td>\n",
       "      <td>0</td>\n",
       "      <td>0</td>\n",
       "      <td>0</td>\n",
       "      <td>0</td>\n",
       "      <td>0</td>\n",
       "      <td>0</td>\n",
       "      <td>...</td>\n",
       "      <td>23</td>\n",
       "      <td>0</td>\n",
       "      <td>0</td>\n",
       "      <td>0</td>\n",
       "      <td>0</td>\n",
       "      <td>0</td>\n",
       "      <td>0</td>\n",
       "      <td>0</td>\n",
       "      <td>0</td>\n",
       "      <td>0</td>\n",
       "      <td>0</td>\n",
       "      <td>0</td>\n",
       "      <td>0</td>\n",
       "      <td>0</td>\n",
       "      <td>0</td>\n",
       "      <td>0</td>\n",
       "      <td>0</td>\n",
       "      <td>0</td>\n",
       "      <td>0</td>\n",
       "      <td>0</td>\n",
       "      <td>0</td>\n",
       "      <td>0</td>\n",
       "      <td>0</td>\n",
       "      <td>0</td>\n",
       "      <td>1</td>\n",
       "    </tr>\n",
       "  </tbody>\n",
       "</table>\n",
       "<p>1 rows × 84 columns</p>\n",
       "</div>"
      ],
      "text/plain": [
       "           created_at  favorite_count has_at has_ht has_link                  id  index  is_RT  length  retweet_count  \\\n",
       "0 2016-02-01 23:20:36               1  False   True     True  694299339649347584      0  False     132              1   \n",
       "\n",
       "         tags                                               text                                         text_clean  \\\n",
       "0  inequality  Eliminating #inequality is not only necessary ...  Eliminating  inequality is not only necessary ...   \n",
       "\n",
       "  user_screen_name users  retweet_high  favorite_high  Iuser_IFC_org  Iuser_JimKim_WBG  Iuser_MIGAWorldBank  \\\n",
       "0      WBG_Poverty                   0              0              0                 0                    0   \n",
       "\n",
       "   Iuser_WBCaribbean  Iuser_WBG_Agriculture  Iuser_WBG_Cities  Iuser_WBG_Climate  Iuser_WBG_Dev4Peace    ...     \\\n",
       "0                  0                      0                 0                  0                    0    ...      \n",
       "\n",
       "   hour_cat  Ihour_00  Ihour_01  Ihour_02  Ihour_03  Ihour_04  Ihour_05  Ihour_06  Ihour_07  Ihour_08  Ihour_09  \\\n",
       "0        23         0         0         0         0         0         0         0         0         0         0   \n",
       "\n",
       "   Ihour_10  Ihour_11  Ihour_12  Ihour_13  Ihour_14  Ihour_15  Ihour_16  Ihour_17  Ihour_18  Ihour_19  Ihour_20  \\\n",
       "0         0         0         0         0         0         0         0         0         0         0         0   \n",
       "\n",
       "   Ihour_21  Ihour_22  Ihour_23  \n",
       "0         0         0         1  \n",
       "\n",
       "[1 rows x 84 columns]"
      ]
     },
     "execution_count": 71,
     "metadata": {},
     "output_type": "execute_result"
    }
   ],
   "source": [
    "# understanding the apply method\n",
    "wb.head(1)"
   ]
  },
  {
   "cell_type": "code",
   "execution_count": 72,
   "metadata": {
    "collapsed": true,
    "scrolled": false
   },
   "outputs": [],
   "source": [
    "# define a function that accepts text and returns the polarity\n",
    "def detect_sentiment(text):\n",
    "    return TextBlob(text.decode('utf-8')).sentiment.polarity"
   ]
  },
  {
   "cell_type": "code",
   "execution_count": 73,
   "metadata": {
    "collapsed": false,
    "scrolled": false
   },
   "outputs": [],
   "source": [
    "# create a new DataFrame column for sentiment (WARNING: SLOW!)\n",
    "wb['sentiment'] = wb.text_clean.apply(detect_sentiment)"
   ]
  },
  {
   "cell_type": "code",
   "execution_count": 74,
   "metadata": {
    "collapsed": false,
    "scrolled": false
   },
   "outputs": [
    {
     "data": {
      "text/plain": [
       "<matplotlib.axes._subplots.AxesSubplot at 0x1217f8690>"
      ]
     },
     "execution_count": 74,
     "metadata": {},
     "output_type": "execute_result"
    },
    {
     "data": {
      "image/png": "[encoded data removed]",
      "text/plain": [
       "<matplotlib.figure.Figure at 0x146264810>"
      ]
     },
     "metadata": {},
     "output_type": "display_data"
    }
   ],
   "source": [
    "# box plot of sentiment grouped by stars\n",
    "wb.boxplot(column='sentiment', by='favorite_count')\n",
    "#like good news"
   ]
  },
  {
   "cell_type": "code",
   "execution_count": 104,
   "metadata": {
    "collapsed": true
   },
   "outputs": [],
   "source": [
    "wb['retweet_high']= np.where(wb.retweet_count>200, 1, 0)\n",
    "wb['favorite_high']= np.where(wb.favorite_count>400, 1, 0)"
   ]
  },
  {
   "cell_type": "markdown",
   "metadata": {},
   "source": [
    "World Bank tweets about both good and bad (Ebola, earthquakes, and reports, and successes). There is not really a sentiment, but looking at other accounts, it appears that happier tweets do better\n"
   ]
  },
  {
   "cell_type": "code",
   "execution_count": 105,
   "metadata": {
    "collapsed": false
   },
   "outputs": [
    {
     "data": {
      "text/plain": [
       "<matplotlib.axes._subplots.AxesSubplot at 0x136f90910>"
      ]
     },
     "execution_count": 105,
     "metadata": {},
     "output_type": "execute_result"
    },
    {
     "data": {
      "image/png": "[encoded data removed]",
      "text/plain": [
       "<matplotlib.figure.Figure at 0x13a2557d0>"
      ]
     },
     "metadata": {},
     "output_type": "display_data"
    }
   ],
   "source": [
    "wb[(wb.user_screen_name!=\"WorldBank\")|(wb.user_screen_name!=\"JimKim_WBG\")].boxplot(column='sentiment', by='retweet_high')"
   ]
  },
  {
   "cell_type": "code",
   "execution_count": 106,
   "metadata": {
    "collapsed": false
   },
   "outputs": [
    {
     "data": {
      "text/plain": [
       "<matplotlib.axes._subplots.AxesSubplot at 0x13a39b890>"
      ]
     },
     "execution_count": 106,
     "metadata": {},
     "output_type": "execute_result"
    },
    {
     "data": {
      "image/png": "[encoded data removed]",
      "text/plain": [
       "<matplotlib.figure.Figure at 0x13a3a67d0>"
      ]
     },
     "metadata": {},
     "output_type": "display_data"
    }
   ],
   "source": [
    "wb.boxplot(column='sentiment', by='retweet_high')"
   ]
  },
  {
   "cell_type": "code",
   "execution_count": 76,
   "metadata": {
    "collapsed": false
   },
   "outputs": [
    {
     "data": {
      "text/plain": [
       "10295    How are teachers providing relief after #Nepal...\n",
       "10368    How to avoid the pitfalls of “best practices” ...\n",
       "10953    @RafMBatista: If you have it online, send us t...\n",
       "11163    @kaushikcbasu: deficiency on data remains very...\n",
       "1156     What is the best way to measure #poverty in #A...\n",
       "Name: text, dtype: object"
      ]
     },
     "execution_count": 76,
     "metadata": {},
     "output_type": "execute_result"
    }
   ],
   "source": [
    "# list reviews with most positive sentiment\n",
    "wb[wb.sentiment == 1].text.head()"
   ]
  },
  {
   "cell_type": "code",
   "execution_count": 77,
   "metadata": {
    "collapsed": false
   },
   "outputs": [
    {
     "data": {
      "text/plain": [
       "10081    A story of a community rebuilding their life a...\n",
       "10625    Tesfay &amp; his father had to deal with Ethio...\n",
       "12550    Watch:  The Ebola crisis in November 2015, one...\n",
       "15958    PODCAST: Two years after the terrible 7.0 magn...\n",
       "19208    \"The risk of inaction may well be the worst op...\n",
       "Name: text, dtype: object"
      ]
     },
     "execution_count": 77,
     "metadata": {},
     "output_type": "execute_result"
    }
   ],
   "source": [
    "# list reviews with most negative sentiment\n",
    "wb[wb.sentiment == -1].text.head()"
   ]
  },
  {
   "cell_type": "code",
   "execution_count": 217,
   "metadata": {
    "collapsed": true
   },
   "outputs": [],
   "source": [
    "#time with "
   ]
  }
 ],
 "metadata": {
  "kernelspec": {
   "display_name": "Python 2",
   "language": "python",
   "name": "python2"
  },
  "language_info": {
   "codemirror_mode": {
    "name": "ipython",
    "version": 2
   },
   "file_extension": ".py",
   "mimetype": "text/x-python",
   "name": "python",
   "nbconvert_exporter": "python",
   "pygments_lexer": "ipython2",
   "version": "2.7.11"
  }
 },
 "nbformat": 4,
 "nbformat_minor": 0
}
