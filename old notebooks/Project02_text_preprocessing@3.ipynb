{
 "cells": [
  {
   "cell_type": "markdown",
   "metadata": {},
   "source": [
    "### Analyzing the World Bank's Twitter Feed, Judy Yang, DAT10 Project\n",
    "### Part 2. Text pre-processing"
   ]
  },
  {
   "cell_type": "code",
   "execution_count": 1,
   "metadata": {
    "collapsed": false,
    "scrolled": false
   },
   "outputs": [
    {
     "data": {
      "text/plain": [
       "u'/Users/judyyang/Documents/GA_DS_course/Final_Project/notebooks'"
      ]
     },
     "execution_count": 1,
     "metadata": {},
     "output_type": "execute_result"
    }
   ],
   "source": [
    "pwd"
   ]
  },
  {
   "cell_type": "code",
   "execution_count": 2,
   "metadata": {
    "collapsed": false,
    "scrolled": false
   },
   "outputs": [
    {
     "name": "stderr",
     "output_type": "stream",
     "text": [
      "/Users/judyyang/anaconda/lib/python2.7/site-packages/matplotlib/__init__.py:872: UserWarning: axes.color_cycle is deprecated and replaced with axes.prop_cycle; please use the latter.\n",
      "  warnings.warn(self.msg_depr % (key, alt_key))\n"
     ]
    }
   ],
   "source": [
    "from datetime import datetime\n",
    "import time\n",
    "import json\n",
    "import pandas as pd\n",
    "import operator \n",
    "import preprocess\n",
    "from collections import Counter\n",
    "#from textblob import TextBlob\n",
    "\n",
    "import pandas as pd\n",
    "import matplotlib.pyplot as plt\n",
    "import seaborn as sns\n",
    "%matplotlib inline\n",
    "#% sign \n",
    "\n",
    "from ttp import ttp\n",
    "\n",
    "pd.options.display.max_columns = 50\n",
    "pd.options.display.max_rows= 50\n",
    "pd.options.display.width= 120"
   ]
  },
  {
   "cell_type": "code",
   "execution_count": 3,
   "metadata": {
    "collapsed": false
   },
   "outputs": [
    {
     "data": {
      "text/plain": [
       "(93733, 15)"
      ]
     },
     "execution_count": 3,
     "metadata": {},
     "output_type": "execute_result"
    }
   ],
   "source": [
    "#input the three raw files and append\n",
    "#WB[0:2]\n",
    "file1 = pd.read_json('./data/WorldBank_request_01feb_2016a')\n",
    "#WB[3:31]\n",
    "file2 = pd.read_json('./data/WorldBank_request_14feb_2016b')\n",
    "#WB[32:38]\n",
    "file3 = pd.read_json('./data/WorldBank_request_14feb_2016c')\n",
    "\n",
    "wb = pd.DataFrame()\n",
    "wb=wb.append(file1)\n",
    "wb=wb.append(file2)\n",
    "wb=wb.append(file3)\n",
    "wb = wb.reset_index()\n",
    "wb.shape"
   ]
  },
  {
   "cell_type": "code",
   "execution_count": 4,
   "metadata": {
    "collapsed": false
   },
   "outputs": [
    {
     "data": {
      "text/plain": [
       "World Bank Water        3200\n",
       "WBG Agriculture         3200\n",
       "WB Social Enterprise    3200\n",
       "World Bank Africa       3200\n",
       "WBG_Finance             3200\n",
       "WorldBankSouthAsia      3200\n",
       "World Bank Cities       3200\n",
       "World Bank Gov          3200\n",
       "IEG - WB Group          3200\n",
       "WBGLeadLearnInnovate    3200\n",
       "World Bank PSD          3200\n",
       "World Bank Climate      3200\n",
       "World Bank Health       3200\n",
       "WBG Environment         3200\n",
       "World Bank Poverty      3200\n",
       "World Bank Education    3200\n",
       "IFC                     3200\n",
       "WBG Gender              3200\n",
       "World Bank Data         3200\n",
       "World Bank Pubs         3200\n",
       "World Bank Research     3199\n",
       "World Bank              3196\n",
       "World Bank Group PPP    2961\n",
       "World Bank Videos       2725\n",
       "MIGA                    2000\n",
       "World Bank India        1907\n",
       "WB Social Protection    1810\n",
       "World Bank Kenya        1707\n",
       "World Bank Energy       1695\n",
       "World Bank Caribbean    1597\n",
       "World Bank Transport    1508\n",
       "World Bank Photos       1259\n",
       "World Bank Finances     1123\n",
       "World Bank ECA           808\n",
       "DIME @ World Bank        745\n",
       "WBG Dev For Peace        649\n",
       "World Bank EduTech       508\n",
       "Jim Yong Kim             336\n",
       "Name: user_name, dtype: int64"
      ]
     },
     "execution_count": 4,
     "metadata": {},
     "output_type": "execute_result"
    }
   ],
   "source": [
    "#Check the list of WB accounts\n",
    "wb.user_name.value_counts()"
   ]
  },
  {
   "cell_type": "code",
   "execution_count": 5,
   "metadata": {
    "collapsed": false
   },
   "outputs": [
    {
     "data": {
      "text/plain": [
       "count                93733\n",
       "unique                  38\n",
       "top       World Bank Water\n",
       "freq                  3200\n",
       "Name: user_name, dtype: object"
      ]
     },
     "execution_count": 5,
     "metadata": {},
     "output_type": "execute_result"
    }
   ],
   "source": [
    "wb.user_name.describe()"
   ]
  },
  {
   "cell_type": "code",
   "execution_count": 6,
   "metadata": {
    "collapsed": false,
    "scrolled": false
   },
   "outputs": [
    {
     "data": {
      "text/plain": [
       "Index([               u'index',           u'created_at',       u'favorite_count',                   u'id',\n",
       "              u'retweet_count',               u'source',                 u'text',      u'user_created_at',\n",
       "           u'user_description', u'user_followers_count',   u'user_friends_count',              u'user_id',\n",
       "              u'user_location',            u'user_name',     u'user_screen_name'],\n",
       "      dtype='object')"
      ]
     },
     "execution_count": 6,
     "metadata": {},
     "output_type": "execute_result"
    }
   ],
   "source": [
    "#Check the columns\n",
    "wb.columns"
   ]
  },
  {
   "cell_type": "code",
   "execution_count": 7,
   "metadata": {
    "collapsed": false
   },
   "outputs": [],
   "source": [
    "#Keep select columns for text analysis\n",
    "keepcols=['id', 'user_screen_name', 'created_at', 'favorite_count', 'retweet_count', 'text']\n",
    "wb=wb[keepcols]"
   ]
  },
  {
   "cell_type": "code",
   "execution_count": 8,
   "metadata": {
    "collapsed": false
   },
   "outputs": [
    {
     "data": {
      "text/html": [
       "<div>\n",
       "<table border=\"1\" class=\"dataframe\">\n",
       "  <thead>\n",
       "    <tr style=\"text-align: right;\">\n",
       "      <th></th>\n",
       "      <th>id</th>\n",
       "      <th>user_screen_name</th>\n",
       "      <th>created_at</th>\n",
       "      <th>favorite_count</th>\n",
       "      <th>retweet_count</th>\n",
       "      <th>text</th>\n",
       "    </tr>\n",
       "  </thead>\n",
       "  <tbody>\n",
       "    <tr>\n",
       "      <th>0</th>\n",
       "      <td>694299339649347584</td>\n",
       "      <td>WBG_Poverty</td>\n",
       "      <td>2016-02-01 23:20:36</td>\n",
       "      <td>1</td>\n",
       "      <td>1</td>\n",
       "      <td>Eliminating #inequality is not only necessary ...</td>\n",
       "    </tr>\n",
       "    <tr>\n",
       "      <th>1</th>\n",
       "      <td>694250314795454467</td>\n",
       "      <td>WBG_Poverty</td>\n",
       "      <td>2016-02-01 20:05:48</td>\n",
       "      <td>0</td>\n",
       "      <td>0</td>\n",
       "      <td>Faster-than-expected #emergingmarket slowdown ...</td>\n",
       "    </tr>\n",
       "    <tr>\n",
       "      <th>2</th>\n",
       "      <td>693934929642659840</td>\n",
       "      <td>WBG_Poverty</td>\n",
       "      <td>2016-01-31 23:12:34</td>\n",
       "      <td>0</td>\n",
       "      <td>77</td>\n",
       "      <td>RT @WorldBank: It’s easy to be pessimistic abo...</td>\n",
       "    </tr>\n",
       "    <tr>\n",
       "      <th>3</th>\n",
       "      <td>689889192038514688</td>\n",
       "      <td>WBG_Poverty</td>\n",
       "      <td>2016-01-20 19:16:15</td>\n",
       "      <td>0</td>\n",
       "      <td>131</td>\n",
       "      <td>RT @WorldBank: “Data deprivation” makes it dif...</td>\n",
       "    </tr>\n",
       "    <tr>\n",
       "      <th>4</th>\n",
       "      <td>643911101600632833</td>\n",
       "      <td>WBG_Poverty</td>\n",
       "      <td>2015-09-15 22:15:44</td>\n",
       "      <td>0</td>\n",
       "      <td>0</td>\n",
       "      <td>More efficient energy sources can provide more...</td>\n",
       "    </tr>\n",
       "  </tbody>\n",
       "</table>\n",
       "</div>"
      ],
      "text/plain": [
       "                   id user_screen_name          created_at  favorite_count  retweet_count  \\\n",
       "0  694299339649347584      WBG_Poverty 2016-02-01 23:20:36               1              1   \n",
       "1  694250314795454467      WBG_Poverty 2016-02-01 20:05:48               0              0   \n",
       "2  693934929642659840      WBG_Poverty 2016-01-31 23:12:34               0             77   \n",
       "3  689889192038514688      WBG_Poverty 2016-01-20 19:16:15               0            131   \n",
       "4  643911101600632833      WBG_Poverty 2015-09-15 22:15:44               0              0   \n",
       "\n",
       "                                                text  \n",
       "0  Eliminating #inequality is not only necessary ...  \n",
       "1  Faster-than-expected #emergingmarket slowdown ...  \n",
       "2  RT @WorldBank: It’s easy to be pessimistic abo...  \n",
       "3  RT @WorldBank: “Data deprivation” makes it dif...  \n",
       "4  More efficient energy sources can provide more...  "
      ]
     },
     "execution_count": 8,
     "metadata": {},
     "output_type": "execute_result"
    }
   ],
   "source": [
    "wb.head()"
   ]
  },
  {
   "cell_type": "code",
   "execution_count": 9,
   "metadata": {
    "collapsed": false
   },
   "outputs": [
    {
     "data": {
      "text/plain": [
       "count                                                 93733\n",
       "unique                                                90547\n",
       "top       #Socent create marketplaces to bring skills an...\n",
       "freq                                                     20\n",
       "Name: text, dtype: object"
      ]
     },
     "execution_count": 9,
     "metadata": {},
     "output_type": "execute_result"
    }
   ],
   "source": [
    "wb.text.describe()"
   ]
  },
  {
   "cell_type": "code",
   "execution_count": 10,
   "metadata": {
    "collapsed": false,
    "scrolled": false
   },
   "outputs": [
    {
     "data": {
      "text/plain": [
       "array([ u\"Eliminating #inequality is not only necessary for realizing one's potential but also for living with dignity https://t.co/1DAIhpnbRr\",\n",
       "       u'Faster-than-expected #emergingmarket slowdown could lower #commodityprices. Will this impact #poverty reduction? https://t.co/IjTj2MXvXK',\n",
       "       u'RT @WorldBank: It\\u2019s easy to be pessimistic about the future. Let your passion drive you. Don\\u2019t give up or accept the norm. -Sri Mulyani #Al\\u2026',\n",
       "       ...,\n",
       "       u'In #Tunisia #IFC support key for #microfinance bank to manage risk during Arab Spring. Story  #A2F13 http://t.co/sKkZeypNm3 @CGAP @IFC_MENA',\n",
       "       u'#IFC mobile banking products help w/ access to finance for low-income population in #Colombia - #A2F13 http://t.co/njQTKfA1xe - @IFC_LAC',\n",
       "       u'In #Ethiopia modernized credit registry allows for more financing to entrepreneurs, individuals   #A2F13 http://t.co/njQTKfA1xe @IFCAfrica'], dtype=object)"
      ]
     },
     "execution_count": 10,
     "metadata": {},
     "output_type": "execute_result"
    }
   ],
   "source": [
    "#Q: what is unicode exactly?\n",
    "wb.text.values"
   ]
  },
  {
   "cell_type": "markdown",
   "metadata": {},
   "source": [
    "**Create data vectors**\n",
    "\n",
    "Make indicator if there is an URL, if there is a RT, if @, and # of words"
   ]
  },
  {
   "cell_type": "code",
   "execution_count": 11,
   "metadata": {
    "collapsed": true
   },
   "outputs": [],
   "source": [
    "#text length (should be 0-140 characters)\n",
    "wb['length'] = wb.text.apply(len)"
   ]
  },
  {
   "cell_type": "code",
   "execution_count": 12,
   "metadata": {
    "collapsed": false
   },
   "outputs": [
    {
     "data": {
      "text/plain": [
       "False    71287\n",
       "True     22446\n",
       "Name: is_RT, dtype: int64"
      ]
     },
     "execution_count": 12,
     "metadata": {},
     "output_type": "execute_result"
    }
   ],
   "source": [
    "#Is a RT\n",
    "sub=\"RT\"\n",
    "wb['is_RT']=wb.text.str.contains(sub)\n",
    "wb.is_RT.value_counts()"
   ]
  },
  {
   "cell_type": "code",
   "execution_count": 13,
   "metadata": {
    "collapsed": false
   },
   "outputs": [
    {
     "data": {
      "text/plain": [
       "True     76759\n",
       "False    16974\n",
       "Name: has_ht, dtype: int64"
      ]
     },
     "execution_count": 13,
     "metadata": {},
     "output_type": "execute_result"
    }
   ],
   "source": [
    "# has a hashtag\n",
    "sub=\"#\"\n",
    "wb['has_ht']=wb.text.str.contains(sub)\n",
    "wb.has_ht.value_counts()"
   ]
  },
  {
   "cell_type": "code",
   "execution_count": 14,
   "metadata": {
    "collapsed": false
   },
   "outputs": [
    {
     "data": {
      "text/plain": [
       "True     85688\n",
       "False     8045\n",
       "Name: has_link, dtype: int64"
      ]
     },
     "execution_count": 14,
     "metadata": {},
     "output_type": "execute_result"
    }
   ],
   "source": [
    "#has a link\n",
    "sub=\"http\"\n",
    "wb['has_link']=wb.text.str.contains(sub)\n",
    "wb.has_link.value_counts()"
   ]
  },
  {
   "cell_type": "code",
   "execution_count": 15,
   "metadata": {
    "collapsed": false
   },
   "outputs": [
    {
     "data": {
      "text/plain": [
       "False    48793\n",
       "True     44940\n",
       "Name: has_at, dtype: int64"
      ]
     },
     "execution_count": 15,
     "metadata": {},
     "output_type": "execute_result"
    }
   ],
   "source": [
    "#has an @\n",
    "sub=\"@\"\n",
    "wb['has_at']=wb.text.str.contains(sub)\n",
    "wb.has_at.value_counts()\n"
   ]
  },
  {
   "cell_type": "markdown",
   "metadata": {},
   "source": [
    "**Create lists of text**\n",
    "\n",
    "https://github.com/edburnett/twitter-text-python"
   ]
  },
  {
   "cell_type": "code",
   "execution_count": 16,
   "metadata": {
    "collapsed": false
   },
   "outputs": [],
   "source": [
    "def parse_tags(tweet):\n",
    "    p=ttp.Parser()   \n",
    "    results = p.parse(tweet)\n",
    "    return \" \".join(results.tags)\n",
    "\n",
    "def parse_users(tweet):\n",
    "    p=ttp.Parser()   \n",
    "    results = p.parse(tweet)\n",
    "    return \" \".join(results.users)"
   ]
  },
  {
   "cell_type": "code",
   "execution_count": 17,
   "metadata": {
    "collapsed": false
   },
   "outputs": [
    {
     "data": {
      "text/html": [
       "<div>\n",
       "<table border=\"1\" class=\"dataframe\">\n",
       "  <thead>\n",
       "    <tr style=\"text-align: right;\">\n",
       "      <th></th>\n",
       "      <th>id</th>\n",
       "      <th>user_screen_name</th>\n",
       "      <th>created_at</th>\n",
       "      <th>favorite_count</th>\n",
       "      <th>retweet_count</th>\n",
       "      <th>text</th>\n",
       "      <th>length</th>\n",
       "      <th>is_RT</th>\n",
       "      <th>has_ht</th>\n",
       "      <th>has_link</th>\n",
       "      <th>has_at</th>\n",
       "      <th>tags</th>\n",
       "      <th>users</th>\n",
       "    </tr>\n",
       "  </thead>\n",
       "  <tbody>\n",
       "    <tr>\n",
       "      <th>0</th>\n",
       "      <td>694299339649347584</td>\n",
       "      <td>WBG_Poverty</td>\n",
       "      <td>2016-02-01 23:20:36</td>\n",
       "      <td>1</td>\n",
       "      <td>1</td>\n",
       "      <td>Eliminating #inequality is not only necessary ...</td>\n",
       "      <td>132</td>\n",
       "      <td>False</td>\n",
       "      <td>True</td>\n",
       "      <td>True</td>\n",
       "      <td>False</td>\n",
       "      <td>inequality</td>\n",
       "      <td></td>\n",
       "    </tr>\n",
       "    <tr>\n",
       "      <th>1</th>\n",
       "      <td>694250314795454467</td>\n",
       "      <td>WBG_Poverty</td>\n",
       "      <td>2016-02-01 20:05:48</td>\n",
       "      <td>0</td>\n",
       "      <td>0</td>\n",
       "      <td>Faster-than-expected #emergingmarket slowdown ...</td>\n",
       "      <td>136</td>\n",
       "      <td>False</td>\n",
       "      <td>True</td>\n",
       "      <td>True</td>\n",
       "      <td>False</td>\n",
       "      <td>emergingmarket commodityprices poverty</td>\n",
       "      <td></td>\n",
       "    </tr>\n",
       "  </tbody>\n",
       "</table>\n",
       "</div>"
      ],
      "text/plain": [
       "                   id user_screen_name          created_at  favorite_count  retweet_count  \\\n",
       "0  694299339649347584      WBG_Poverty 2016-02-01 23:20:36               1              1   \n",
       "1  694250314795454467      WBG_Poverty 2016-02-01 20:05:48               0              0   \n",
       "\n",
       "                                                text  length  is_RT has_ht has_link has_at  \\\n",
       "0  Eliminating #inequality is not only necessary ...     132  False   True     True  False   \n",
       "1  Faster-than-expected #emergingmarket slowdown ...     136  False   True     True  False   \n",
       "\n",
       "                                     tags users  \n",
       "0                              inequality        \n",
       "1  emergingmarket commodityprices poverty        "
      ]
     },
     "execution_count": 17,
     "metadata": {},
     "output_type": "execute_result"
    }
   ],
   "source": [
    "#create column of hashtags\n",
    "#create column of links\n",
    "\n",
    "wb['tags'] = wb.text.apply(parse_tags)\n",
    "wb['users'] = wb.text.apply(parse_users)\n",
    "wb.head(2)"
   ]
  },
  {
   "cell_type": "code",
   "execution_count": 18,
   "metadata": {
    "collapsed": false
   },
   "outputs": [
    {
     "data": {
      "text/plain": [
       "           17128\n",
       "PPPs         786\n",
       "Africa       714\n",
       "ecourse      675\n",
       "goodgov      624\n",
       "Name: tags, dtype: int64"
      ]
     },
     "execution_count": 18,
     "metadata": {},
     "output_type": "execute_result"
    }
   ],
   "source": [
    "#Q: how to create all the tags together, some are one tag, some are 2 tags\n",
    "wb.tags.value_counts(ascending=False).head()"
   ]
  },
  {
   "cell_type": "code",
   "execution_count": 19,
   "metadata": {
    "collapsed": false
   },
   "outputs": [
    {
     "data": {
      "text/plain": [
       "                   49197\n",
       "WorldBank           5084\n",
       "JimKim_WBG          1026\n",
       "IFC_org              545\n",
       "WorldBankAfrica      409\n",
       "Name: users, dtype: int64"
      ]
     },
     "execution_count": 19,
     "metadata": {},
     "output_type": "execute_result"
    }
   ],
   "source": [
    "wb.users.value_counts(ascending=False).head()"
   ]
  },
  {
   "cell_type": "code",
   "execution_count": 20,
   "metadata": {
    "collapsed": false
   },
   "outputs": [
    {
     "data": {
      "text/plain": [
       "\"\\n# since you have a column of lists skip any type of string munging\\n# instead, go straight to converting the lists to a Series\\ns = df['ID'].apply(Series,1).stack()\\ns.index = s.index.droplevel(-1)\\ns.name = 'ID'\\ndel df['ID']\\ndf = df.join(s)\\n\\n# since you have a column of lists skip any type of string munging\\n# instead, go straight to converting the lists to a Series\\ns = wb['users'].apply(Series,1).stack\\n#s.index = s.index.droplevel(-1)\\n#s.name = 'users'\\n#del wb['users']\\n#test = wb.join(s)\\n#test\\ns\\n\""
      ]
     },
     "execution_count": 20,
     "metadata": {},
     "output_type": "execute_result"
    }
   ],
   "source": [
    "#use to count all tags and users\n",
    "#note, only works when it is in a list, not string\n",
    "#http://stackoverflow.com/questions/32851683/pandas-convert-list-to-string-wide-to-long-with-one-column\n",
    "import numpy as np\n",
    "import pandas as pd\n",
    "from pandas import Series, DataFrame\n",
    "\n",
    "'''\n",
    "# since you have a column of lists skip any type of string munging\n",
    "# instead, go straight to converting the lists to a Series\n",
    "s = df['ID'].apply(Series,1).stack()\n",
    "s.index = s.index.droplevel(-1)\n",
    "s.name = 'ID'\n",
    "del df['ID']\n",
    "df = df.join(s)\n",
    "\n",
    "# since you have a column of lists skip any type of string munging\n",
    "# instead, go straight to converting the lists to a Series\n",
    "s = wb['users'].apply(Series,1).stack\n",
    "#s.index = s.index.droplevel(-1)\n",
    "#s.name = 'users'\n",
    "#del wb['users']\n",
    "#test = wb.join(s)\n",
    "#test\n",
    "s\n",
    "'''"
   ]
  },
  {
   "cell_type": "markdown",
   "metadata": {},
   "source": [
    "**Text clean up**\n",
    "\n",
    "http://www.analyticsvidhya.com/blog/2014/11/text-data-cleaning-steps-python/\n",
    "\n",
    "1) Escape HTML characters\n",
    "2) Decode data\n",
    "3) Apostrophe lookup\n",
    "4) Remove stop words\n",
    "5) Remove punctuation\n",
    "6) Remove expressions\n",
    "7) Split attached words\n",
    "8) Slang lookup\n",
    "9) Standardizing words\n",
    "10) Remove URLs"
   ]
  },
  {
   "cell_type": "code",
   "execution_count": 21,
   "metadata": {
    "collapsed": false
   },
   "outputs": [],
   "source": [
    "#create clean text for text analysis: remove URL, remove #, remove @, just words\n",
    "import HTMLParser\n",
    "import re\n",
    "html_parser = HTMLParser.HTMLParser()\n",
    "wb['text_clean'] = html_parser.unescape(wb.text)\n"
   ]
  },
  {
   "cell_type": "code",
   "execution_count": 22,
   "metadata": {
    "collapsed": true
   },
   "outputs": [],
   "source": [
    "#10. remove htmls\n",
    "wb['text_clean'] = wb.text.str.replace(\"(@[A-Za-z0-9]+)|([^0-9A-Za-z \\t])|(\\w+:\\/\\/\\S+)\",\" \")"
   ]
  },
  {
   "cell_type": "code",
   "execution_count": 23,
   "metadata": {
    "collapsed": true
   },
   "outputs": [],
   "source": [
    "#Remove numbers\n",
    "\n",
    "#Remove word amp\n",
    "\n"
   ]
  },
  {
   "cell_type": "code",
   "execution_count": 24,
   "metadata": {
    "collapsed": false,
    "scrolled": true
   },
   "outputs": [
    {
     "name": "stdout",
     "output_type": "stream",
     "text": [
      "                                              text_clean\n",
      "0      Eliminating  inequality is not only necessary ...\n",
      "1      Faster than expected  emergingmarket slowdown ...\n",
      "2      RT    It s easy to be pessimistic about the fu...\n",
      "3      RT     Data deprivation  makes it difficult to...\n",
      "4      More efficient energy sources can provide more...\n",
      "5      Women improve  financialinclusion of the poore...\n",
      "6      RT    We want to reduce  violence in  Jamaica ...\n",
      "7      Rapid economic growth between 2002  amp  2008 ...\n",
      "8      Laws in close to 155 economies make it difficu...\n",
      "9      Equity  amp  learning will help  endextremepov...\n",
      "10     In 100 countries  women are barred from some j...\n",
      "11     In  India  women run groups help local village...\n",
      "12     A World Bank financed project improves women s...\n",
      "13     New Global Financial Development Report out  F...\n",
      "14     How do children of the bottom 40  fare against...\n",
      "15     How can laws help women achieve their full eco...\n",
      "16     How does climate change complicate efforts to ...\n",
      "17      I have my own bank account and insurance  I n...\n",
      "18     Over 30 million people in the Delta live below...\n",
      "19     In 2015  Kenya national utility company brough...\n",
      "20     How can legal reforms help  women expand econo...\n",
      "21      Indonesia s cash transfers program has improv...\n",
      "22     Learn how   supports  Bhutan in green developm...\n",
      "23     Starting a business  amp  helping the poor  In...\n",
      "24     Local programs encouraging behavior change hel...\n",
      "...                                                  ...\n",
      "93708  bKash is growing even faster than M Pesa   tun...\n",
      "93709  RT    Nearly 70  of people in the developing w...\n",
      "93710   DigitalFinance  amp  innovation can help brid...\n",
      "93711      RT   ug   RT     DPA       UG       Gender   \n",
      "93712  SUBMIT QUESTIONS  April 9  11 15AM EST Seminar...\n",
      "93713  What is  DigitalFinance and how can it help br...\n",
      "93714  RT    Big stage  big ideas  Join a  DigitalFin...\n",
      "93715   IFC support to Unibank in  Armenia will help ...\n",
      "93716   IFC  Austria collaborate to extend access to ...\n",
      "93717   India s millions of women entrepreneurs need ...\n",
      "93718   IFC launches new study on Improving Access to...\n",
      "93719  An estimated  300 billion credit gap exists fo...\n",
      "93720  Our new  10KWomen partnership w    supports th...\n",
      "93721  RT   ACCION  Top Five Resources of 2013 on Fin...\n",
      "93722  The missing men in violence against women  Rea...\n",
      "93723  Learn about our programs that help unleash the...\n",
      "93724   600 Million Credit Program Aims to Encourage ...\n",
      "93725  News  IFC  amp     10KWomen launch a  600 mill...\n",
      "93726  RT    The world s 500m  smallholder  farming h...\n",
      "93727   IFC issuing a 1 billion  Renminbi denominated...\n",
      "93728   IFC  The MasterCard Foundation and MicroCred ...\n",
      "93729   IFC and   report on the progress of greenfiel...\n",
      "93730  In  Tunisia  IFC support key for  microfinance...\n",
      "93731   IFC mobile banking products help w  access to...\n",
      "93732  In  Ethiopia modernized credit registry allows...\n",
      "\n",
      "[93733 rows x 1 columns]\n"
     ]
    }
   ],
   "source": [
    "cols =['text_clean']\n",
    "print wb[cols]"
   ]
  },
  {
   "cell_type": "markdown",
   "metadata": {},
   "source": [
    "** Create some more variables **"
   ]
  },
  {
   "cell_type": "code",
   "execution_count": 25,
   "metadata": {
    "collapsed": true
   },
   "outputs": [],
   "source": [
    "# 1) Create dependent variables\n",
    "wb['retweet_high']= np.where(wb.retweet_count>1, 1, 0)\n",
    "wb['favorite_high']= np.where(wb.favorite_count>1, 1, 0)"
   ]
  },
  {
   "cell_type": "code",
   "execution_count": null,
   "metadata": {
    "collapsed": true
   },
   "outputs": [],
   "source": [
    "# 2) Create dummy variables for each account\n",
    "Iuser = pd.get_dummies(wb.user_screen_name, prefix='Iuser')\n",
    "# concatenate the original DataFrame and the dummy DataFrame\n",
    "wb = pd.concat([wb, Iuser], axis=1)"
   ]
  },
  {
   "cell_type": "code",
   "execution_count": null,
   "metadata": {
    "collapsed": true
   },
   "outputs": [],
   "source": [
    "# 3) Create time columns and dummies, and append\n",
    "wb['year']=wb.created_at.apply(lambda x: x.strftime('%y'))\n",
    "wb['year2'] = wb.year.astype('category', categories=[\"09\", \"10\", \"11\" ,\"12\", \"13\", \"14\" , \"15\", \"16\"], ordered=True)\n",
    "\n",
    "wb['year_month']=wb.created_at.apply(lambda x: x.strftime('%y-%m'))\n",
    "wb['hour']=wb.created_at.apply(lambda x: x.strftime('%H'))\n",
    "#wb['hour_cat'] = wb.hour.astype('category', categories=[\"00\", \"01\", \"02\", \"03\", \"04\", \"05\", \"06\", \"07\",\"08\" ,\"09\", \"10\", \"11\" ,\"12\", \"13\", \"14\" , \"15\", \"16\", \"17\", \"18\", \"19\", \"20\", \"21\", \"22\", \"23\"], ordered=True)\n",
    "#Ihour= pd.get_dummies(wb.hour, prefix='Ihour')\n",
    "#wb = pd.concat([wb, Ihour], axis=1)"
   ]
  },
  {
   "cell_type": "markdown",
   "metadata": {},
   "source": [
    "## Save cleaned data"
   ]
  },
  {
   "cell_type": "code",
   "execution_count": null,
   "metadata": {
    "collapsed": false
   },
   "outputs": [],
   "source": [
    "wb.to_json('./data/WorldBank_all_processed_14feb_2016')"
   ]
  },
  {
   "cell_type": "code",
   "execution_count": null,
   "metadata": {
    "collapsed": true
   },
   "outputs": [],
   "source": []
  }
 ],
 "metadata": {
  "kernelspec": {
   "display_name": "Python 2",
   "language": "python",
   "name": "python2"
  },
  "language_info": {
   "codemirror_mode": {
    "name": "ipython",
    "version": 2
   },
   "file_extension": ".py",
   "mimetype": "text/x-python",
   "name": "python",
   "nbconvert_exporter": "python",
   "pygments_lexer": "ipython2",
   "version": "2.7.11"
  }
 },
 "nbformat": 4,
 "nbformat_minor": 0
}
